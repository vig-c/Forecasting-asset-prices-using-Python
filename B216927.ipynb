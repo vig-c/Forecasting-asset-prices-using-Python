{
  "nbformat": 4,
  "nbformat_minor": 0,
  "metadata": {
    "colab": {
      "provenance": [],
      "collapsed_sections": [
        "UBzllWYIugW5",
        "ua_ZY3NeusAu",
        "LhIRysyUu26n",
        "S1NLYV-rvD6c",
        "u-nb9c0vvRH8",
        "NeJ__YLfva7e",
        "0_r2MI76vfU-"
      ],
      "machine_shape": "hm",
      "include_colab_link": true
    },
    "kernelspec": {
      "name": "python3",
      "display_name": "Python 3"
    },
    "language_info": {
      "name": "python"
    },
    "accelerator": "GPU",
    "gpuClass": "premium",
    "widgets": {
      "application/vnd.jupyter.widget-state+json": {
        "ddca51315fcd47f78de258cc5b6763bc": {
          "model_module": "@jupyter-widgets/controls",
          "model_name": "HBoxModel",
          "model_module_version": "1.5.0",
          "state": {
            "_dom_classes": [],
            "_model_module": "@jupyter-widgets/controls",
            "_model_module_version": "1.5.0",
            "_model_name": "HBoxModel",
            "_view_count": null,
            "_view_module": "@jupyter-widgets/controls",
            "_view_module_version": "1.5.0",
            "_view_name": "HBoxView",
            "box_style": "",
            "children": [
              "IPY_MODEL_016f118b60b444e19f598694f2990b03",
              "IPY_MODEL_2fcc348159894fbcbb70ce3b9b13aaea",
              "IPY_MODEL_f77a4693e2ed439da7ded416606a9d1c"
            ],
            "layout": "IPY_MODEL_aba51669a3934efb91be0dad6d9b9822"
          }
        },
        "016f118b60b444e19f598694f2990b03": {
          "model_module": "@jupyter-widgets/controls",
          "model_name": "HTMLModel",
          "model_module_version": "1.5.0",
          "state": {
            "_dom_classes": [],
            "_model_module": "@jupyter-widgets/controls",
            "_model_module_version": "1.5.0",
            "_model_name": "HTMLModel",
            "_view_count": null,
            "_view_module": "@jupyter-widgets/controls",
            "_view_module_version": "1.5.0",
            "_view_name": "HTMLView",
            "description": "",
            "description_tooltip": null,
            "layout": "IPY_MODEL_f0d64c8eab614061a9505c2079f69ef4",
            "placeholder": "​",
            "style": "IPY_MODEL_d100c777053f42228c490c802b9096c9",
            "value": "100%"
          }
        },
        "2fcc348159894fbcbb70ce3b9b13aaea": {
          "model_module": "@jupyter-widgets/controls",
          "model_name": "FloatProgressModel",
          "model_module_version": "1.5.0",
          "state": {
            "_dom_classes": [],
            "_model_module": "@jupyter-widgets/controls",
            "_model_module_version": "1.5.0",
            "_model_name": "FloatProgressModel",
            "_view_count": null,
            "_view_module": "@jupyter-widgets/controls",
            "_view_module_version": "1.5.0",
            "_view_name": "ProgressView",
            "bar_style": "success",
            "description": "",
            "description_tooltip": null,
            "layout": "IPY_MODEL_daa560b474bd4de49d5410fb681f8b3f",
            "max": 300,
            "min": 0,
            "orientation": "horizontal",
            "style": "IPY_MODEL_9bccb642935d4588bc52a0540990fa75",
            "value": 300
          }
        },
        "f77a4693e2ed439da7ded416606a9d1c": {
          "model_module": "@jupyter-widgets/controls",
          "model_name": "HTMLModel",
          "model_module_version": "1.5.0",
          "state": {
            "_dom_classes": [],
            "_model_module": "@jupyter-widgets/controls",
            "_model_module_version": "1.5.0",
            "_model_name": "HTMLModel",
            "_view_count": null,
            "_view_module": "@jupyter-widgets/controls",
            "_view_module_version": "1.5.0",
            "_view_name": "HTMLView",
            "description": "",
            "description_tooltip": null,
            "layout": "IPY_MODEL_827143cf77f2478e96f52af164df4128",
            "placeholder": "​",
            "style": "IPY_MODEL_1348e664f5e24c7e92a1b2322420d4dd",
            "value": " 300/300 [33:18&lt;00:00,  6.64s/it]"
          }
        },
        "aba51669a3934efb91be0dad6d9b9822": {
          "model_module": "@jupyter-widgets/base",
          "model_name": "LayoutModel",
          "model_module_version": "1.2.0",
          "state": {
            "_model_module": "@jupyter-widgets/base",
            "_model_module_version": "1.2.0",
            "_model_name": "LayoutModel",
            "_view_count": null,
            "_view_module": "@jupyter-widgets/base",
            "_view_module_version": "1.2.0",
            "_view_name": "LayoutView",
            "align_content": null,
            "align_items": null,
            "align_self": null,
            "border": null,
            "bottom": null,
            "display": null,
            "flex": null,
            "flex_flow": null,
            "grid_area": null,
            "grid_auto_columns": null,
            "grid_auto_flow": null,
            "grid_auto_rows": null,
            "grid_column": null,
            "grid_gap": null,
            "grid_row": null,
            "grid_template_areas": null,
            "grid_template_columns": null,
            "grid_template_rows": null,
            "height": null,
            "justify_content": null,
            "justify_items": null,
            "left": null,
            "margin": null,
            "max_height": null,
            "max_width": null,
            "min_height": null,
            "min_width": null,
            "object_fit": null,
            "object_position": null,
            "order": null,
            "overflow": null,
            "overflow_x": null,
            "overflow_y": null,
            "padding": null,
            "right": null,
            "top": null,
            "visibility": null,
            "width": null
          }
        },
        "f0d64c8eab614061a9505c2079f69ef4": {
          "model_module": "@jupyter-widgets/base",
          "model_name": "LayoutModel",
          "model_module_version": "1.2.0",
          "state": {
            "_model_module": "@jupyter-widgets/base",
            "_model_module_version": "1.2.0",
            "_model_name": "LayoutModel",
            "_view_count": null,
            "_view_module": "@jupyter-widgets/base",
            "_view_module_version": "1.2.0",
            "_view_name": "LayoutView",
            "align_content": null,
            "align_items": null,
            "align_self": null,
            "border": null,
            "bottom": null,
            "display": null,
            "flex": null,
            "flex_flow": null,
            "grid_area": null,
            "grid_auto_columns": null,
            "grid_auto_flow": null,
            "grid_auto_rows": null,
            "grid_column": null,
            "grid_gap": null,
            "grid_row": null,
            "grid_template_areas": null,
            "grid_template_columns": null,
            "grid_template_rows": null,
            "height": null,
            "justify_content": null,
            "justify_items": null,
            "left": null,
            "margin": null,
            "max_height": null,
            "max_width": null,
            "min_height": null,
            "min_width": null,
            "object_fit": null,
            "object_position": null,
            "order": null,
            "overflow": null,
            "overflow_x": null,
            "overflow_y": null,
            "padding": null,
            "right": null,
            "top": null,
            "visibility": null,
            "width": null
          }
        },
        "d100c777053f42228c490c802b9096c9": {
          "model_module": "@jupyter-widgets/controls",
          "model_name": "DescriptionStyleModel",
          "model_module_version": "1.5.0",
          "state": {
            "_model_module": "@jupyter-widgets/controls",
            "_model_module_version": "1.5.0",
            "_model_name": "DescriptionStyleModel",
            "_view_count": null,
            "_view_module": "@jupyter-widgets/base",
            "_view_module_version": "1.2.0",
            "_view_name": "StyleView",
            "description_width": ""
          }
        },
        "daa560b474bd4de49d5410fb681f8b3f": {
          "model_module": "@jupyter-widgets/base",
          "model_name": "LayoutModel",
          "model_module_version": "1.2.0",
          "state": {
            "_model_module": "@jupyter-widgets/base",
            "_model_module_version": "1.2.0",
            "_model_name": "LayoutModel",
            "_view_count": null,
            "_view_module": "@jupyter-widgets/base",
            "_view_module_version": "1.2.0",
            "_view_name": "LayoutView",
            "align_content": null,
            "align_items": null,
            "align_self": null,
            "border": null,
            "bottom": null,
            "display": null,
            "flex": null,
            "flex_flow": null,
            "grid_area": null,
            "grid_auto_columns": null,
            "grid_auto_flow": null,
            "grid_auto_rows": null,
            "grid_column": null,
            "grid_gap": null,
            "grid_row": null,
            "grid_template_areas": null,
            "grid_template_columns": null,
            "grid_template_rows": null,
            "height": null,
            "justify_content": null,
            "justify_items": null,
            "left": null,
            "margin": null,
            "max_height": null,
            "max_width": null,
            "min_height": null,
            "min_width": null,
            "object_fit": null,
            "object_position": null,
            "order": null,
            "overflow": null,
            "overflow_x": null,
            "overflow_y": null,
            "padding": null,
            "right": null,
            "top": null,
            "visibility": null,
            "width": null
          }
        },
        "9bccb642935d4588bc52a0540990fa75": {
          "model_module": "@jupyter-widgets/controls",
          "model_name": "ProgressStyleModel",
          "model_module_version": "1.5.0",
          "state": {
            "_model_module": "@jupyter-widgets/controls",
            "_model_module_version": "1.5.0",
            "_model_name": "ProgressStyleModel",
            "_view_count": null,
            "_view_module": "@jupyter-widgets/base",
            "_view_module_version": "1.2.0",
            "_view_name": "StyleView",
            "bar_color": null,
            "description_width": ""
          }
        },
        "827143cf77f2478e96f52af164df4128": {
          "model_module": "@jupyter-widgets/base",
          "model_name": "LayoutModel",
          "model_module_version": "1.2.0",
          "state": {
            "_model_module": "@jupyter-widgets/base",
            "_model_module_version": "1.2.0",
            "_model_name": "LayoutModel",
            "_view_count": null,
            "_view_module": "@jupyter-widgets/base",
            "_view_module_version": "1.2.0",
            "_view_name": "LayoutView",
            "align_content": null,
            "align_items": null,
            "align_self": null,
            "border": null,
            "bottom": null,
            "display": null,
            "flex": null,
            "flex_flow": null,
            "grid_area": null,
            "grid_auto_columns": null,
            "grid_auto_flow": null,
            "grid_auto_rows": null,
            "grid_column": null,
            "grid_gap": null,
            "grid_row": null,
            "grid_template_areas": null,
            "grid_template_columns": null,
            "grid_template_rows": null,
            "height": null,
            "justify_content": null,
            "justify_items": null,
            "left": null,
            "margin": null,
            "max_height": null,
            "max_width": null,
            "min_height": null,
            "min_width": null,
            "object_fit": null,
            "object_position": null,
            "order": null,
            "overflow": null,
            "overflow_x": null,
            "overflow_y": null,
            "padding": null,
            "right": null,
            "top": null,
            "visibility": null,
            "width": null
          }
        },
        "1348e664f5e24c7e92a1b2322420d4dd": {
          "model_module": "@jupyter-widgets/controls",
          "model_name": "DescriptionStyleModel",
          "model_module_version": "1.5.0",
          "state": {
            "_model_module": "@jupyter-widgets/controls",
            "_model_module_version": "1.5.0",
            "_model_name": "DescriptionStyleModel",
            "_view_count": null,
            "_view_module": "@jupyter-widgets/base",
            "_view_module_version": "1.2.0",
            "_view_name": "StyleView",
            "description_width": ""
          }
        }
      }
    }
  },
  "cells": [
    {
      "cell_type": "markdown",
      "metadata": {
        "id": "view-in-github",
        "colab_type": "text"
      },
      "source": [
        "<a href=\"https://colab.research.google.com/github/vig-c/Forecasting-asset-prices-using-Python/blob/main/B216927.ipynb\" target=\"_parent\"><img src=\"https://colab.research.google.com/assets/colab-badge.svg\" alt=\"Open In Colab\"/></a>"
      ]
    },
    {
      "cell_type": "markdown",
      "source": [
        "# **Importing packages and data**"
      ],
      "metadata": {
        "id": "UBzllWYIugW5"
      }
    },
    {
      "cell_type": "code",
      "execution_count": null,
      "metadata": {
        "id": "JQqmbEFeK9HT",
        "colab": {
          "base_uri": "https://localhost:8080/"
        },
        "outputId": "a2cedee7-77ac-418d-9160-325688780290"
      },
      "outputs": [
        {
          "output_type": "stream",
          "name": "stdout",
          "text": [
            "Looking in indexes: https://pypi.org/simple, https://us-python.pkg.dev/colab-wheels/public/simple/\n",
            "Requirement already satisfied: shap in /usr/local/lib/python3.9/dist-packages (0.41.0)\n",
            "Requirement already satisfied: packaging>20.9 in /usr/local/lib/python3.9/dist-packages (from shap) (23.0)\n",
            "Requirement already satisfied: numba in /usr/local/lib/python3.9/dist-packages (from shap) (0.56.4)\n",
            "Requirement already satisfied: slicer==0.0.7 in /usr/local/lib/python3.9/dist-packages (from shap) (0.0.7)\n",
            "Requirement already satisfied: numpy in /usr/local/lib/python3.9/dist-packages (from shap) (1.22.4)\n",
            "Requirement already satisfied: cloudpickle in /usr/local/lib/python3.9/dist-packages (from shap) (2.2.1)\n",
            "Requirement already satisfied: scipy in /usr/local/lib/python3.9/dist-packages (from shap) (1.10.1)\n",
            "Requirement already satisfied: pandas in /usr/local/lib/python3.9/dist-packages (from shap) (1.4.4)\n",
            "Requirement already satisfied: scikit-learn in /usr/local/lib/python3.9/dist-packages (from shap) (1.2.2)\n",
            "Requirement already satisfied: tqdm>4.25.0 in /usr/local/lib/python3.9/dist-packages (from shap) (4.65.0)\n",
            "Requirement already satisfied: llvmlite<0.40,>=0.39.0dev0 in /usr/local/lib/python3.9/dist-packages (from numba->shap) (0.39.1)\n",
            "Requirement already satisfied: setuptools in /usr/local/lib/python3.9/dist-packages (from numba->shap) (67.6.1)\n",
            "Requirement already satisfied: python-dateutil>=2.8.1 in /usr/local/lib/python3.9/dist-packages (from pandas->shap) (2.8.2)\n",
            "Requirement already satisfied: pytz>=2020.1 in /usr/local/lib/python3.9/dist-packages (from pandas->shap) (2022.7.1)\n",
            "Requirement already satisfied: joblib>=1.1.1 in /usr/local/lib/python3.9/dist-packages (from scikit-learn->shap) (1.1.1)\n",
            "Requirement already satisfied: threadpoolctl>=2.0.0 in /usr/local/lib/python3.9/dist-packages (from scikit-learn->shap) (3.1.0)\n",
            "Requirement already satisfied: six>=1.5 in /usr/local/lib/python3.9/dist-packages (from python-dateutil>=2.8.1->pandas->shap) (1.16.0)\n"
          ]
        },
        {
          "output_type": "stream",
          "name": "stderr",
          "text": [
            "The seaborn styles shipped by Matplotlib are deprecated since 3.6, as they no longer correspond to the styles shipped by seaborn. However, they will remain available as 'seaborn-v0_8-<style>'. Alternatively, directly use the seaborn API instead.\n"
          ]
        }
      ],
      "source": [
        "# Importing necessary libraries and packages\n",
        "import os\n",
        "import random\n",
        "import tqdm\n",
        "import numpy as np\n",
        "import pandas as pd\n",
        "\n",
        "!pip install shap\n",
        "import shap\n",
        "\n",
        "# Allowing GPU memory growth\n",
        "import os\n",
        "os.environ['TF_FORCE_GPU_ALLOW_GROWTH'] = 'true'\n",
        "\n",
        "import tensorflow as tf\n",
        "from tensorflow import keras\n",
        "from keras.models import *\n",
        "from keras.layers import *\n",
        "from keras.callbacks import *\n",
        "from keras import backend as K\n",
        "\n",
        "from keras.layers import Dense, Embedding, SimpleRNN\n",
        "from keras.models import Sequential\n",
        "from scipy import stats\n",
        "from keras.optimizers import Adam\n",
        "\n",
        "from pprint import pprint\n",
        "from pylab import plt, mpl\n",
        "\n",
        "# Setting plotting style and options\n",
        "plt.style.use('seaborn')\n",
        "mpl.rcParams['savefig.dpi'] = 300\n",
        "mpl.rcParams['font.family'] = 'serif'\n",
        "os.environ['PYTHONHASHSEED'] = '0'\n",
        "\n",
        "import seaborn as sns\n",
        "import matplotlib.pyplot as plt\n",
        "import xgboost as xgb\n",
        "from sklearn.linear_model import *\n",
        "from sklearn.utils import resample\n",
        "from sklearn.svm import SVC\n",
        "from sklearn.model_selection import cross_val_score, KFold\n",
        "from sklearn.preprocessing import StandardScaler, OneHotEncoder\n",
        "from sklearn.compose import make_column_transformer\n",
        "from sklearn.model_selection import train_test_split, GridSearchCV, RandomizedSearchCV, TimeSeriesSplit\n",
        "from sklearn.metrics import classification_report, confusion_matrix, accuracy_score, mean_squared_error, mean_absolute_error\n",
        "from sklearn.pipeline import make_pipeline\n",
        "\n",
        "%matplotlib inline\n",
        "\n",
        "# These options determine the way floating point numbers are displayed.\n",
        "np.set_printoptions(precision=4, suppress=True)\n",
        "\n",
        "tf.random.set_seed(100)"
      ]
    },
    {
      "cell_type": "code",
      "source": [
        "# Get the list of available GPUs\n",
        "gpus = tf.config.experimental.list_physical_devices('GPU')\n",
        "\n",
        "# If there is at least one GPU available, set it to be used\n",
        "if gpus:\n",
        "    try:\n",
        "        # Set memory growth for each GPU\n",
        "        for gpu in gpus:\n",
        "            tf.config.experimental.set_memory_growth(gpu, True)\n",
        "        \n",
        "        # Set visible devices to be used\n",
        "        tf.config.set_visible_devices(gpus[0], 'GPU')\n",
        "        \n",
        "        # Print the available and logical GPUs\n",
        "        logical_gpus = tf.config.experimental.list_logical_devices('GPU')\n",
        "        print(len(gpus), \"Physical GPUs,\", len(logical_gpus), \"Logical GPUs\")\n",
        "    \n",
        "    except RuntimeError as e:\n",
        "        # In case of any errors, fall back to CPU\n",
        "        print(e)\n",
        "        device = '/device:CPU:0'\n",
        "\n",
        "else:\n",
        "    print(\"No GPUs available, using CPU instead\")\n",
        "    device = '/device:CPU:0'"
      ],
      "metadata": {
        "id": "9NaAnGJvfhPF",
        "colab": {
          "base_uri": "https://localhost:8080/"
        },
        "outputId": "51dfe484-a87c-4938-fd01-5f193af0eeaf"
      },
      "execution_count": null,
      "outputs": [
        {
          "output_type": "stream",
          "name": "stdout",
          "text": [
            "1 Physical GPUs, 1 Logical GPUs\n"
          ]
        }
      ]
    },
    {
      "cell_type": "code",
      "source": [
        "# Mount Google drive\n",
        "from google.colab import drive\n",
        "drive.mount('/drive')"
      ],
      "metadata": {
        "id": "plljF_HmLD4w",
        "colab": {
          "base_uri": "https://localhost:8080/"
        },
        "outputId": "5c20167d-38d8-4f80-994c-70a31aba259f"
      },
      "execution_count": null,
      "outputs": [
        {
          "output_type": "stream",
          "name": "stdout",
          "text": [
            "Drive already mounted at /drive; to attempt to forcibly remount, call drive.mount(\"/drive\", force_remount=True).\n"
          ]
        }
      ]
    },
    {
      "cell_type": "code",
      "source": [
        "# Loading data from CSV file\n",
        "data = pd.read_csv(('/drive/My Drive/Colab Notebooks/Data/equity_2000_2020.csv'), parse_dates=['DATE'])"
      ],
      "metadata": {
        "id": "80ziJCc0LTGo"
      },
      "execution_count": null,
      "outputs": []
    },
    {
      "cell_type": "markdown",
      "source": [
        "# **Pre-processing the data**"
      ],
      "metadata": {
        "id": "ua_ZY3NeusAu"
      }
    },
    {
      "cell_type": "code",
      "source": [
        "# Converting the date coulmn in the data\n",
        "data.sort_values('DATE', inplace=True)\n",
        "data.set_index('DATE', inplace=True)\n",
        "\n",
        "# Remove any useless column in raw dataset and remove DATE once converted to datetime\n",
        "data.drop(columns=['Unnamed: 0'], inplace=True)"
      ],
      "metadata": {
        "id": "EYl23baTP-eB"
      },
      "execution_count": null,
      "outputs": []
    },
    {
      "cell_type": "code",
      "source": [
        "# Filter data from 2016-2020\n",
        "df = data['2016-01-01':'2020-12-31']\n",
        "\n",
        "df.head(10)"
      ],
      "metadata": {
        "id": "Z1HSUzLmWDsF",
        "colab": {
          "base_uri": "https://localhost:8080/"
        },
        "outputId": "715b7c2c-26df-4f66-9125-24c6b660be77"
      },
      "execution_count": null,
      "outputs": [
        {
          "output_type": "stream",
          "name": "stderr",
          "text": [
            "Value based partial slicing on non-monotonic DatetimeIndexes with non-existing keys is deprecated and will raise a KeyError in a future Version.\n"
          ]
        },
        {
          "output_type": "execute_result",
          "data": {
            "text/plain": [
              "             permno       RET         mvel1         prc    SHROUT      beta  \\\n",
              "DATE                                                                          \n",
              "2016-01-29  85627.0 -0.247803  8.598956e+05   17.120001   37781.0  1.440326   \n",
              "2016-01-29  85659.0 -0.023189  2.526963e+04    1.230000   20068.0  0.352673   \n",
              "2016-01-29  85656.0 -0.034162  6.805470e+04   15.550000    4227.0  0.230218   \n",
              "2016-01-29  85653.0 -0.160998  3.032448e+05   11.100000   22921.0  1.052777   \n",
              "2016-01-29  85645.0  0.050918  6.856873e+06  100.720001   71545.0  0.806705   \n",
              "2016-01-29  85636.0 -0.015485  2.617266e+07   64.849998  397481.0  0.796075   \n",
              "2016-01-29  85631.0 -0.231577  1.372893e+07   46.820000  224400.0  1.484511   \n",
              "2016-01-29  85621.0 -0.077492  9.277580e+06  312.850006   27357.0  1.034891   \n",
              "2016-01-29  85570.0  0.055133  9.402776e+04    5.550000   17876.0  0.292214   \n",
              "2016-01-29  85604.0  0.031138  3.492621e+06   59.950001   63074.0  0.598862   \n",
              "\n",
              "              betasq     chmom     dolvol   idiovol  ...  baspread  \\\n",
              "DATE                                                 ...             \n",
              "2016-01-29  2.074539  0.074746  13.904379  0.029764  ...  0.021471   \n",
              "2016-01-29  0.124378 -0.499511   5.576631  0.075175  ...  0.044946   \n",
              "2016-01-29  0.053000  0.058169   8.386857  0.022767  ...  0.027185   \n",
              "2016-01-29  1.108340 -0.056030  13.201845  0.024467  ...  0.032151   \n",
              "2016-01-29  0.650773  0.261942  15.788708  0.025336  ...  0.019611   \n",
              "2016-01-29  0.633736  0.037204  14.903498  0.021070  ...  0.016865   \n",
              "2016-01-29  2.203772  0.383025  17.676199  0.034998  ...  0.022034   \n",
              "2016-01-29  1.070999 -0.135766  16.504112  0.020466  ...  0.019949   \n",
              "2016-01-29  0.085389 -0.170599  11.281461  0.084464  ...  0.084042   \n",
              "2016-01-29  0.358636  0.122633  15.128554  0.022461  ...  0.014658   \n",
              "\n",
              "                     ill    maxret    retvol  std_dolvol   std_turn  \\\n",
              "DATE                                                                  \n",
              "2016-01-29  1.860000e-09  0.023656  0.013945    0.578404   6.644560   \n",
              "2016-01-29  5.190000e-06  0.048000  0.019261    1.448473   0.764197   \n",
              "2016-01-29  7.880000e-05  0.039994  0.022588    2.343109   0.280833   \n",
              "2016-01-29  4.550000e-09  0.059843  0.027408    0.537101  20.400513   \n",
              "2016-01-29  3.540000e-10  0.023979  0.014187    0.400880   2.187645   \n",
              "2016-01-29  4.670000e-10  0.016619  0.013492    0.352402   0.310542   \n",
              "2016-01-29  1.140000e-10  0.019694  0.014606    0.525608   4.418726   \n",
              "2016-01-29  1.970000e-10  0.019719  0.011590    0.459760   2.514650   \n",
              "2016-01-29  7.270000e-08  0.270983  0.067673    1.115260  20.988883   \n",
              "2016-01-29  4.070000e-10  0.017902  0.008807    0.413079   2.888705   \n",
              "\n",
              "               zerotrade  sic2        bm      bm_ia  \n",
              "DATE                                                 \n",
              "2016-01-29  9.710000e-09  55.0  0.684283   0.156429  \n",
              "2016-01-29  9.545457e-01  67.0  0.956329   0.284501  \n",
              "2016-01-29  3.818182e+00  60.0  0.893174   0.053981  \n",
              "2016-01-29  4.850000e-09  67.0  1.071475   0.585934  \n",
              "2016-01-29  1.670000e-08  20.0  0.386593  -0.084692  \n",
              "2016-01-29  9.190000e-08  60.0  0.486023 -79.101214  \n",
              "2016-01-29  1.140000e-08  73.0  0.162401  -0.210667  \n",
              "2016-01-29  1.540000e-08  38.0  0.089911  -0.299173  \n",
              "2016-01-29  7.250000e-09  49.0 -0.200669  -0.934037  \n",
              "2016-01-29  1.470000e-08  67.0  0.479632  -0.192195  \n",
              "\n",
              "[10 rows x 100 columns]"
            ],
            "text/html": [
              "\n",
              "  <div id=\"df-ea7cafa7-5a05-4673-a3b7-750d365b6081\">\n",
              "    <div class=\"colab-df-container\">\n",
              "      <div>\n",
              "<style scoped>\n",
              "    .dataframe tbody tr th:only-of-type {\n",
              "        vertical-align: middle;\n",
              "    }\n",
              "\n",
              "    .dataframe tbody tr th {\n",
              "        vertical-align: top;\n",
              "    }\n",
              "\n",
              "    .dataframe thead th {\n",
              "        text-align: right;\n",
              "    }\n",
              "</style>\n",
              "<table border=\"1\" class=\"dataframe\">\n",
              "  <thead>\n",
              "    <tr style=\"text-align: right;\">\n",
              "      <th></th>\n",
              "      <th>permno</th>\n",
              "      <th>RET</th>\n",
              "      <th>mvel1</th>\n",
              "      <th>prc</th>\n",
              "      <th>SHROUT</th>\n",
              "      <th>beta</th>\n",
              "      <th>betasq</th>\n",
              "      <th>chmom</th>\n",
              "      <th>dolvol</th>\n",
              "      <th>idiovol</th>\n",
              "      <th>...</th>\n",
              "      <th>baspread</th>\n",
              "      <th>ill</th>\n",
              "      <th>maxret</th>\n",
              "      <th>retvol</th>\n",
              "      <th>std_dolvol</th>\n",
              "      <th>std_turn</th>\n",
              "      <th>zerotrade</th>\n",
              "      <th>sic2</th>\n",
              "      <th>bm</th>\n",
              "      <th>bm_ia</th>\n",
              "    </tr>\n",
              "    <tr>\n",
              "      <th>DATE</th>\n",
              "      <th></th>\n",
              "      <th></th>\n",
              "      <th></th>\n",
              "      <th></th>\n",
              "      <th></th>\n",
              "      <th></th>\n",
              "      <th></th>\n",
              "      <th></th>\n",
              "      <th></th>\n",
              "      <th></th>\n",
              "      <th></th>\n",
              "      <th></th>\n",
              "      <th></th>\n",
              "      <th></th>\n",
              "      <th></th>\n",
              "      <th></th>\n",
              "      <th></th>\n",
              "      <th></th>\n",
              "      <th></th>\n",
              "      <th></th>\n",
              "      <th></th>\n",
              "    </tr>\n",
              "  </thead>\n",
              "  <tbody>\n",
              "    <tr>\n",
              "      <th>2016-01-29</th>\n",
              "      <td>85627.0</td>\n",
              "      <td>-0.247803</td>\n",
              "      <td>8.598956e+05</td>\n",
              "      <td>17.120001</td>\n",
              "      <td>37781.0</td>\n",
              "      <td>1.440326</td>\n",
              "      <td>2.074539</td>\n",
              "      <td>0.074746</td>\n",
              "      <td>13.904379</td>\n",
              "      <td>0.029764</td>\n",
              "      <td>...</td>\n",
              "      <td>0.021471</td>\n",
              "      <td>1.860000e-09</td>\n",
              "      <td>0.023656</td>\n",
              "      <td>0.013945</td>\n",
              "      <td>0.578404</td>\n",
              "      <td>6.644560</td>\n",
              "      <td>9.710000e-09</td>\n",
              "      <td>55.0</td>\n",
              "      <td>0.684283</td>\n",
              "      <td>0.156429</td>\n",
              "    </tr>\n",
              "    <tr>\n",
              "      <th>2016-01-29</th>\n",
              "      <td>85659.0</td>\n",
              "      <td>-0.023189</td>\n",
              "      <td>2.526963e+04</td>\n",
              "      <td>1.230000</td>\n",
              "      <td>20068.0</td>\n",
              "      <td>0.352673</td>\n",
              "      <td>0.124378</td>\n",
              "      <td>-0.499511</td>\n",
              "      <td>5.576631</td>\n",
              "      <td>0.075175</td>\n",
              "      <td>...</td>\n",
              "      <td>0.044946</td>\n",
              "      <td>5.190000e-06</td>\n",
              "      <td>0.048000</td>\n",
              "      <td>0.019261</td>\n",
              "      <td>1.448473</td>\n",
              "      <td>0.764197</td>\n",
              "      <td>9.545457e-01</td>\n",
              "      <td>67.0</td>\n",
              "      <td>0.956329</td>\n",
              "      <td>0.284501</td>\n",
              "    </tr>\n",
              "    <tr>\n",
              "      <th>2016-01-29</th>\n",
              "      <td>85656.0</td>\n",
              "      <td>-0.034162</td>\n",
              "      <td>6.805470e+04</td>\n",
              "      <td>15.550000</td>\n",
              "      <td>4227.0</td>\n",
              "      <td>0.230218</td>\n",
              "      <td>0.053000</td>\n",
              "      <td>0.058169</td>\n",
              "      <td>8.386857</td>\n",
              "      <td>0.022767</td>\n",
              "      <td>...</td>\n",
              "      <td>0.027185</td>\n",
              "      <td>7.880000e-05</td>\n",
              "      <td>0.039994</td>\n",
              "      <td>0.022588</td>\n",
              "      <td>2.343109</td>\n",
              "      <td>0.280833</td>\n",
              "      <td>3.818182e+00</td>\n",
              "      <td>60.0</td>\n",
              "      <td>0.893174</td>\n",
              "      <td>0.053981</td>\n",
              "    </tr>\n",
              "    <tr>\n",
              "      <th>2016-01-29</th>\n",
              "      <td>85653.0</td>\n",
              "      <td>-0.160998</td>\n",
              "      <td>3.032448e+05</td>\n",
              "      <td>11.100000</td>\n",
              "      <td>22921.0</td>\n",
              "      <td>1.052777</td>\n",
              "      <td>1.108340</td>\n",
              "      <td>-0.056030</td>\n",
              "      <td>13.201845</td>\n",
              "      <td>0.024467</td>\n",
              "      <td>...</td>\n",
              "      <td>0.032151</td>\n",
              "      <td>4.550000e-09</td>\n",
              "      <td>0.059843</td>\n",
              "      <td>0.027408</td>\n",
              "      <td>0.537101</td>\n",
              "      <td>20.400513</td>\n",
              "      <td>4.850000e-09</td>\n",
              "      <td>67.0</td>\n",
              "      <td>1.071475</td>\n",
              "      <td>0.585934</td>\n",
              "    </tr>\n",
              "    <tr>\n",
              "      <th>2016-01-29</th>\n",
              "      <td>85645.0</td>\n",
              "      <td>0.050918</td>\n",
              "      <td>6.856873e+06</td>\n",
              "      <td>100.720001</td>\n",
              "      <td>71545.0</td>\n",
              "      <td>0.806705</td>\n",
              "      <td>0.650773</td>\n",
              "      <td>0.261942</td>\n",
              "      <td>15.788708</td>\n",
              "      <td>0.025336</td>\n",
              "      <td>...</td>\n",
              "      <td>0.019611</td>\n",
              "      <td>3.540000e-10</td>\n",
              "      <td>0.023979</td>\n",
              "      <td>0.014187</td>\n",
              "      <td>0.400880</td>\n",
              "      <td>2.187645</td>\n",
              "      <td>1.670000e-08</td>\n",
              "      <td>20.0</td>\n",
              "      <td>0.386593</td>\n",
              "      <td>-0.084692</td>\n",
              "    </tr>\n",
              "    <tr>\n",
              "      <th>2016-01-29</th>\n",
              "      <td>85636.0</td>\n",
              "      <td>-0.015485</td>\n",
              "      <td>2.617266e+07</td>\n",
              "      <td>64.849998</td>\n",
              "      <td>397481.0</td>\n",
              "      <td>0.796075</td>\n",
              "      <td>0.633736</td>\n",
              "      <td>0.037204</td>\n",
              "      <td>14.903498</td>\n",
              "      <td>0.021070</td>\n",
              "      <td>...</td>\n",
              "      <td>0.016865</td>\n",
              "      <td>4.670000e-10</td>\n",
              "      <td>0.016619</td>\n",
              "      <td>0.013492</td>\n",
              "      <td>0.352402</td>\n",
              "      <td>0.310542</td>\n",
              "      <td>9.190000e-08</td>\n",
              "      <td>60.0</td>\n",
              "      <td>0.486023</td>\n",
              "      <td>-79.101214</td>\n",
              "    </tr>\n",
              "    <tr>\n",
              "      <th>2016-01-29</th>\n",
              "      <td>85631.0</td>\n",
              "      <td>-0.231577</td>\n",
              "      <td>1.372893e+07</td>\n",
              "      <td>46.820000</td>\n",
              "      <td>224400.0</td>\n",
              "      <td>1.484511</td>\n",
              "      <td>2.203772</td>\n",
              "      <td>0.383025</td>\n",
              "      <td>17.676199</td>\n",
              "      <td>0.034998</td>\n",
              "      <td>...</td>\n",
              "      <td>0.022034</td>\n",
              "      <td>1.140000e-10</td>\n",
              "      <td>0.019694</td>\n",
              "      <td>0.014606</td>\n",
              "      <td>0.525608</td>\n",
              "      <td>4.418726</td>\n",
              "      <td>1.140000e-08</td>\n",
              "      <td>73.0</td>\n",
              "      <td>0.162401</td>\n",
              "      <td>-0.210667</td>\n",
              "    </tr>\n",
              "    <tr>\n",
              "      <th>2016-01-29</th>\n",
              "      <td>85621.0</td>\n",
              "      <td>-0.077492</td>\n",
              "      <td>9.277580e+06</td>\n",
              "      <td>312.850006</td>\n",
              "      <td>27357.0</td>\n",
              "      <td>1.034891</td>\n",
              "      <td>1.070999</td>\n",
              "      <td>-0.135766</td>\n",
              "      <td>16.504112</td>\n",
              "      <td>0.020466</td>\n",
              "      <td>...</td>\n",
              "      <td>0.019949</td>\n",
              "      <td>1.970000e-10</td>\n",
              "      <td>0.019719</td>\n",
              "      <td>0.011590</td>\n",
              "      <td>0.459760</td>\n",
              "      <td>2.514650</td>\n",
              "      <td>1.540000e-08</td>\n",
              "      <td>38.0</td>\n",
              "      <td>0.089911</td>\n",
              "      <td>-0.299173</td>\n",
              "    </tr>\n",
              "    <tr>\n",
              "      <th>2016-01-29</th>\n",
              "      <td>85570.0</td>\n",
              "      <td>0.055133</td>\n",
              "      <td>9.402776e+04</td>\n",
              "      <td>5.550000</td>\n",
              "      <td>17876.0</td>\n",
              "      <td>0.292214</td>\n",
              "      <td>0.085389</td>\n",
              "      <td>-0.170599</td>\n",
              "      <td>11.281461</td>\n",
              "      <td>0.084464</td>\n",
              "      <td>...</td>\n",
              "      <td>0.084042</td>\n",
              "      <td>7.270000e-08</td>\n",
              "      <td>0.270983</td>\n",
              "      <td>0.067673</td>\n",
              "      <td>1.115260</td>\n",
              "      <td>20.988883</td>\n",
              "      <td>7.250000e-09</td>\n",
              "      <td>49.0</td>\n",
              "      <td>-0.200669</td>\n",
              "      <td>-0.934037</td>\n",
              "    </tr>\n",
              "    <tr>\n",
              "      <th>2016-01-29</th>\n",
              "      <td>85604.0</td>\n",
              "      <td>0.031138</td>\n",
              "      <td>3.492621e+06</td>\n",
              "      <td>59.950001</td>\n",
              "      <td>63074.0</td>\n",
              "      <td>0.598862</td>\n",
              "      <td>0.358636</td>\n",
              "      <td>0.122633</td>\n",
              "      <td>15.128554</td>\n",
              "      <td>0.022461</td>\n",
              "      <td>...</td>\n",
              "      <td>0.014658</td>\n",
              "      <td>4.070000e-10</td>\n",
              "      <td>0.017902</td>\n",
              "      <td>0.008807</td>\n",
              "      <td>0.413079</td>\n",
              "      <td>2.888705</td>\n",
              "      <td>1.470000e-08</td>\n",
              "      <td>67.0</td>\n",
              "      <td>0.479632</td>\n",
              "      <td>-0.192195</td>\n",
              "    </tr>\n",
              "  </tbody>\n",
              "</table>\n",
              "<p>10 rows × 100 columns</p>\n",
              "</div>\n",
              "      <button class=\"colab-df-convert\" onclick=\"convertToInteractive('df-ea7cafa7-5a05-4673-a3b7-750d365b6081')\"\n",
              "              title=\"Convert this dataframe to an interactive table.\"\n",
              "              style=\"display:none;\">\n",
              "        \n",
              "  <svg xmlns=\"http://www.w3.org/2000/svg\" height=\"24px\"viewBox=\"0 0 24 24\"\n",
              "       width=\"24px\">\n",
              "    <path d=\"M0 0h24v24H0V0z\" fill=\"none\"/>\n",
              "    <path d=\"M18.56 5.44l.94 2.06.94-2.06 2.06-.94-2.06-.94-.94-2.06-.94 2.06-2.06.94zm-11 1L8.5 8.5l.94-2.06 2.06-.94-2.06-.94L8.5 2.5l-.94 2.06-2.06.94zm10 10l.94 2.06.94-2.06 2.06-.94-2.06-.94-.94-2.06-.94 2.06-2.06.94z\"/><path d=\"M17.41 7.96l-1.37-1.37c-.4-.4-.92-.59-1.43-.59-.52 0-1.04.2-1.43.59L10.3 9.45l-7.72 7.72c-.78.78-.78 2.05 0 2.83L4 21.41c.39.39.9.59 1.41.59.51 0 1.02-.2 1.41-.59l7.78-7.78 2.81-2.81c.8-.78.8-2.07 0-2.86zM5.41 20L4 18.59l7.72-7.72 1.47 1.35L5.41 20z\"/>\n",
              "  </svg>\n",
              "      </button>\n",
              "      \n",
              "  <style>\n",
              "    .colab-df-container {\n",
              "      display:flex;\n",
              "      flex-wrap:wrap;\n",
              "      gap: 12px;\n",
              "    }\n",
              "\n",
              "    .colab-df-convert {\n",
              "      background-color: #E8F0FE;\n",
              "      border: none;\n",
              "      border-radius: 50%;\n",
              "      cursor: pointer;\n",
              "      display: none;\n",
              "      fill: #1967D2;\n",
              "      height: 32px;\n",
              "      padding: 0 0 0 0;\n",
              "      width: 32px;\n",
              "    }\n",
              "\n",
              "    .colab-df-convert:hover {\n",
              "      background-color: #E2EBFA;\n",
              "      box-shadow: 0px 1px 2px rgba(60, 64, 67, 0.3), 0px 1px 3px 1px rgba(60, 64, 67, 0.15);\n",
              "      fill: #174EA6;\n",
              "    }\n",
              "\n",
              "    [theme=dark] .colab-df-convert {\n",
              "      background-color: #3B4455;\n",
              "      fill: #D2E3FC;\n",
              "    }\n",
              "\n",
              "    [theme=dark] .colab-df-convert:hover {\n",
              "      background-color: #434B5C;\n",
              "      box-shadow: 0px 1px 3px 1px rgba(0, 0, 0, 0.15);\n",
              "      filter: drop-shadow(0px 1px 2px rgba(0, 0, 0, 0.3));\n",
              "      fill: #FFFFFF;\n",
              "    }\n",
              "  </style>\n",
              "\n",
              "      <script>\n",
              "        const buttonEl =\n",
              "          document.querySelector('#df-ea7cafa7-5a05-4673-a3b7-750d365b6081 button.colab-df-convert');\n",
              "        buttonEl.style.display =\n",
              "          google.colab.kernel.accessAllowed ? 'block' : 'none';\n",
              "\n",
              "        async function convertToInteractive(key) {\n",
              "          const element = document.querySelector('#df-ea7cafa7-5a05-4673-a3b7-750d365b6081');\n",
              "          const dataTable =\n",
              "            await google.colab.kernel.invokeFunction('convertToInteractive',\n",
              "                                                     [key], {});\n",
              "          if (!dataTable) return;\n",
              "\n",
              "          const docLinkHtml = 'Like what you see? Visit the ' +\n",
              "            '<a target=\"_blank\" href=https://colab.research.google.com/notebooks/data_table.ipynb>data table notebook</a>'\n",
              "            + ' to learn more about interactive tables.';\n",
              "          element.innerHTML = '';\n",
              "          dataTable['output_type'] = 'display_data';\n",
              "          await google.colab.output.renderOutput(dataTable, element);\n",
              "          const docLink = document.createElement('div');\n",
              "          docLink.innerHTML = docLinkHtml;\n",
              "          element.appendChild(docLink);\n",
              "        }\n",
              "      </script>\n",
              "    </div>\n",
              "  </div>\n",
              "  "
            ]
          },
          "metadata": {},
          "execution_count": 6
        }
      ]
    },
    {
      "cell_type": "code",
      "source": [
        "# Print information regarding dataset\n",
        "print(df.info())"
      ],
      "metadata": {
        "id": "6t7D2mcidVzM",
        "colab": {
          "base_uri": "https://localhost:8080/"
        },
        "outputId": "0cbc8876-26aa-45bd-c99d-58e823797b12"
      },
      "execution_count": null,
      "outputs": [
        {
          "output_type": "stream",
          "name": "stdout",
          "text": [
            "<class 'pandas.core.frame.DataFrame'>\n",
            "DatetimeIndex: 345618 entries, 2016-01-29 to 2020-12-31\n",
            "Data columns (total 100 columns):\n",
            " #   Column           Non-Null Count   Dtype  \n",
            "---  ------           --------------   -----  \n",
            " 0   permno           345618 non-null  float64\n",
            " 1   RET              345618 non-null  float64\n",
            " 2   mvel1            345618 non-null  float64\n",
            " 3   prc              345618 non-null  float64\n",
            " 4   SHROUT           345618 non-null  float64\n",
            " 5   beta             345618 non-null  float64\n",
            " 6   betasq           345618 non-null  float64\n",
            " 7   chmom            345618 non-null  float64\n",
            " 8   dolvol           345618 non-null  float64\n",
            " 9   idiovol          345618 non-null  float64\n",
            " 10  indmom           345618 non-null  float64\n",
            " 11  mom1m            345618 non-null  float64\n",
            " 12  mom6m            345618 non-null  float64\n",
            " 13  mom12m           345618 non-null  float64\n",
            " 14  mom36m           345618 non-null  float64\n",
            " 15  mve0             345618 non-null  float64\n",
            " 16  pricedelay       345618 non-null  float64\n",
            " 17  turn             345618 non-null  float64\n",
            " 18  absacc           345618 non-null  float64\n",
            " 19  acc              345618 non-null  float64\n",
            " 20  age              345618 non-null  float64\n",
            " 21  agr              345618 non-null  float64\n",
            " 22  cashdebt         345618 non-null  float64\n",
            " 23  cashpr           345618 non-null  float64\n",
            " 24  cfp              345618 non-null  float64\n",
            " 25  cfp_ia           345618 non-null  float64\n",
            " 26  chatoia          345618 non-null  float64\n",
            " 27  chcsho           345618 non-null  float64\n",
            " 28  chempia          345618 non-null  float64\n",
            " 29  chinv            345618 non-null  float64\n",
            " 30  chpmia           345618 non-null  float64\n",
            " 31  convind          345618 non-null  float64\n",
            " 32  currat           345618 non-null  float64\n",
            " 33  depr             345618 non-null  float64\n",
            " 34  divi             345618 non-null  float64\n",
            " 35  divo             345618 non-null  float64\n",
            " 36  dy               345618 non-null  float64\n",
            " 37  egr              345618 non-null  float64\n",
            " 38  ep               345618 non-null  float64\n",
            " 39  gma              345618 non-null  float64\n",
            " 40  grcapx           345618 non-null  float64\n",
            " 41  grltnoa          345618 non-null  float64\n",
            " 42  herf             345618 non-null  float64\n",
            " 43  hire             345618 non-null  float64\n",
            " 44  invest           345618 non-null  float64\n",
            " 45  lev              345618 non-null  float64\n",
            " 46  lgr              345618 non-null  float64\n",
            " 47  mve_ia           345618 non-null  float64\n",
            " 48  operprof         345618 non-null  float64\n",
            " 49  orgcap           345618 non-null  float64\n",
            " 50  pchcapx_ia       345618 non-null  float64\n",
            " 51  pchcurrat        345618 non-null  float64\n",
            " 52  pchdepr          345618 non-null  float64\n",
            " 53  pchgm_pchsale    345618 non-null  float64\n",
            " 54  pchquick         345618 non-null  float64\n",
            " 55  pchsale_pchinvt  345618 non-null  float64\n",
            " 56  pchsale_pchrect  345618 non-null  float64\n",
            " 57  pchsale_pchxsga  345618 non-null  float64\n",
            " 58  pchsaleinv       345618 non-null  float64\n",
            " 59  pctacc           345618 non-null  float64\n",
            " 60  ps               345618 non-null  float64\n",
            " 61  quick            345618 non-null  float64\n",
            " 62  rd               345618 non-null  float64\n",
            " 63  rd_mve           345618 non-null  float64\n",
            " 64  rd_sale          345618 non-null  float64\n",
            " 65  realestate       345618 non-null  float64\n",
            " 66  roic             345618 non-null  float64\n",
            " 67  salecash         345618 non-null  float64\n",
            " 68  saleinv          345618 non-null  float64\n",
            " 69  salerec          345618 non-null  float64\n",
            " 70  secured          345618 non-null  float64\n",
            " 71  securedind       345618 non-null  float64\n",
            " 72  sgr              345618 non-null  float64\n",
            " 73  sin              345618 non-null  float64\n",
            " 74  sp               345618 non-null  float64\n",
            " 75  tang             345618 non-null  float64\n",
            " 76  tb               345618 non-null  float64\n",
            " 77  aeavol           345618 non-null  float64\n",
            " 78  cash             345618 non-null  float64\n",
            " 79  chtx             345618 non-null  float64\n",
            " 80  cinvest          345618 non-null  float64\n",
            " 81  ear              345618 non-null  float64\n",
            " 82  nincr            345618 non-null  float64\n",
            " 83  roaq             345618 non-null  float64\n",
            " 84  roavol           345618 non-null  float64\n",
            " 85  roeq             345618 non-null  float64\n",
            " 86  rsup             345618 non-null  float64\n",
            " 87  stdacc           345618 non-null  float64\n",
            " 88  stdcf            345618 non-null  float64\n",
            " 89  ms               345618 non-null  float64\n",
            " 90  baspread         345618 non-null  float64\n",
            " 91  ill              345618 non-null  float64\n",
            " 92  maxret           345618 non-null  float64\n",
            " 93  retvol           345618 non-null  float64\n",
            " 94  std_dolvol       345618 non-null  float64\n",
            " 95  std_turn         345618 non-null  float64\n",
            " 96  zerotrade        345618 non-null  float64\n",
            " 97  sic2             345618 non-null  float64\n",
            " 98  bm               345618 non-null  float64\n",
            " 99  bm_ia            345618 non-null  float64\n",
            "dtypes: float64(100)\n",
            "memory usage: 266.3 MB\n",
            "None\n"
          ]
        }
      ]
    },
    {
      "cell_type": "markdown",
      "source": [
        "# **Sampling of data**"
      ],
      "metadata": {
        "id": "LhIRysyUu26n"
      }
    },
    {
      "cell_type": "code",
      "source": [
        "# Assigning train or test label\n",
        "Time_diff = df.index[-1] - df.index[0]\n",
        "print(Time_diff.days, 'days in the dataset')\n",
        "print(np.count_nonzero(df['permno'].unique()), 'stocks in total in the datasets')"
      ],
      "metadata": {
        "id": "js6Tuu2ARs-H",
        "colab": {
          "base_uri": "https://localhost:8080/"
        },
        "outputId": "fe70d388-703c-4767-c508-66e5960f1dd8"
      },
      "execution_count": null,
      "outputs": [
        {
          "output_type": "stream",
          "name": "stdout",
          "text": [
            "1798 days in the dataset\n",
            "7766 stocks in total in the datasets\n"
          ]
        }
      ]
    },
    {
      "cell_type": "code",
      "source": [
        "# Ratio of data for test\n",
        "test_ratio = 0.2"
      ],
      "metadata": {
        "id": "ywD0X58MRtvB"
      },
      "execution_count": null,
      "outputs": []
    },
    {
      "cell_type": "code",
      "source": [
        "# Index splitting train and test data\n",
        "test_index = df.index[0] + (Time_diff*(1-test_ratio))"
      ],
      "metadata": {
        "id": "50uiEKHCi656"
      },
      "execution_count": null,
      "outputs": []
    },
    {
      "cell_type": "code",
      "source": [
        "# Create a new column of test flag\n",
        "df['test_flag'] = False # All false for training\n",
        "df.loc[ test_index : df.index[-1], 'test_flag' ] = True # Some data for testing based on test_ratio"
      ],
      "metadata": {
        "id": "Uzu0B5WNjIUA",
        "colab": {
          "base_uri": "https://localhost:8080/"
        },
        "outputId": "6032d6d1-edfa-4fc6-9a5a-591f964a8a82"
      },
      "execution_count": null,
      "outputs": [
        {
          "output_type": "stream",
          "name": "stderr",
          "text": [
            "\n",
            "A value is trying to be set on a copy of a slice from a DataFrame.\n",
            "Try using .loc[row_indexer,col_indexer] = value instead\n",
            "\n",
            "See the caveats in the documentation: https://pandas.pydata.org/pandas-docs/stable/user_guide/indexing.html#returning-a-view-versus-a-copy\n"
          ]
        }
      ]
    },
    {
      "cell_type": "code",
      "source": [
        "# Plot series for selected stock\n",
        "def plot_stock(stockID):\n",
        "  plt.figure(figsize=(9,6))\n",
        "  df[(df['permno']==stockID)&(df['test_flag']==False)]['RET'].plot()\n",
        "  df[(df['permno']==stockID)&(df['test_flag']==True)]['RET'].plot()\n",
        "  plt.title('Stock Return'+' '+str(stockID))\n",
        "  plt.legend(['Training','Testing'])\n",
        "  plt.show()\n",
        "\n",
        "# Example usage\n",
        "plot_stock(84781)"
      ],
      "metadata": {
        "id": "Fo9zBpPyeew3",
        "colab": {
          "base_uri": "https://localhost:8080/"
        },
        "outputId": "6a3d99a0-a1b2-4bab-b29e-1b8281829009"
      },
      "execution_count": null,
      "outputs": [
        {
          "output_type": "display_data",
          "data": {
            "text/plain": [
              "<Figure size 900x600 with 1 Axes>"
            ],
            "image/png": "[encoded data removed]"
          },
          "metadata": {}
        }
      ]
    },
    {
      "cell_type": "markdown",
      "source": [
        "# **Autoencoder + LSTM Model**"
      ],
      "metadata": {
        "id": "S1NLYV-rvD6c"
      }
    },
    {
      "cell_type": "code",
      "source": [
        "# Creating a generator for LSTM Windows and Labels\n",
        "sequence_length = 8\n",
        "\n",
        "# Setting seed for reproducibility\n",
        "def set_seed(seed):\n",
        "    tf.random.set_seed(seed)\n",
        "    os.environ['PYTHONHASHSEED'] = str(seed)\n",
        "    np.random.seed(seed)\n",
        "    random.seed(seed)\n",
        "\n",
        "# Function to generate LSTM input sequences\n",
        "def gen_sequence(id_df, seq_length, seq_cols):\n",
        "\n",
        "    data_matrix = id_df[seq_cols].values\n",
        "    num_elements = data_matrix.shape[0]\n",
        "\n",
        "    for start, stop in zip(range(0, num_elements-seq_length), range(seq_length, num_elements)):\n",
        "        yield data_matrix[start:stop, :]\n",
        "\n",
        "# Function to generate LSTM output labels\n",
        "def gen_labels(id_df, seq_length, label):\n",
        "\n",
        "    data_matrix = id_df[label].values\n",
        "    num_elements = data_matrix.shape[0]\n",
        "\n",
        "    return data_matrix[seq_length:num_elements, :]"
      ],
      "metadata": {
        "id": "tjw8AChMjWd8"
      },
      "execution_count": null,
      "outputs": []
    },
    {
      "cell_type": "code",
      "source": [
        "# Train/Test practice data preparation\n",
        "col = df.columns\n",
        "\n",
        "# Splitting data into training and testing sets\n",
        "X_train, X_test = [], []\n",
        "y_train, y_test = [], []\n",
        "\n",
        "for (stock,is_test), _df in df.groupby(['permno', 'test_flag']):\n",
        "    \n",
        "    for seq in gen_sequence(_df, sequence_length, col):        \n",
        "        if is_test:\n",
        "            X_test.append(seq)\n",
        "        else:\n",
        "            X_train.append(seq)\n",
        "                \n",
        "    for seq in gen_labels(_df, sequence_length, ['RET']):        \n",
        "        if is_test:\n",
        "            y_test.append(seq)\n",
        "        else:\n",
        "            y_train.append(seq)\n",
        "\n",
        "# Converting the list into arrays\n",
        "X_train = np.asarray(X_train)\n",
        "y_train = np.asarray(y_train)\n",
        "X_test = np.asarray(X_test)\n",
        "y_test = np.asarray(y_test)\n",
        "\n",
        "# Print shapes of the input X and output Y\n",
        "print('shape of the intput X and output y\\ninput training data dimension: ')\n",
        "print(X_train.shape)\n",
        "print('\\noutput training data dimension: ')\n",
        "print(y_train.shape)\n",
        "\n",
        "print('\\ninput testing data dimension: ')\n",
        "print(X_test.shape)\n",
        "print('\\noutput testing data dimension: ')\n",
        "print(y_test.shape)\n",
        "\n",
        "# Print several examples of input and output data\n",
        "for i in range(3):\n",
        "    print('input ', i, ': \\n',X_train[i,:,0:3])\n",
        "    print('==> output ', i, ': \\n', y_train[i], '\\n')"
      ],
      "metadata": {
        "id": "A4-Gku0ij1Ku",
        "colab": {
          "base_uri": "https://localhost:8080/"
        },
        "outputId": "fe07da2b-420b-49e7-86b9-8b7c30411000"
      },
      "execution_count": null,
      "outputs": [
        {
          "output_type": "stream",
          "name": "stdout",
          "text": [
            "shape of the intput X and output y\n",
            "input training data dimension: \n",
            "(219580, 8, 101)\n",
            "\n",
            "output training data dimension: \n",
            "(219580, 1)\n",
            "\n",
            "input testing data dimension: \n",
            "(22346, 8, 101)\n",
            "\n",
            "output testing data dimension: \n",
            "(22346, 1)\n",
            "input  0 : \n",
            " [[10001.0 0.116779 78262.248]\n",
            " [10001.0 -0.055288 87401.59679]\n",
            " [10001.0 -0.006361 82569.3014]\n",
            " [10001.0 -0.055698 82067.4794]\n",
            " [10001.0 -0.021918 76737.60201]\n",
            " [10001.0 -0.021008 75055.6786]\n",
            " [10001.0 0.026466 73478.87759]\n",
            " [10001.0 0.03662 74635.199]]\n",
            "==> output  0 : \n",
            " [0.0421] \n",
            "\n",
            "input  1 : \n",
            " [[10001.0 -0.055288 87401.59679]\n",
            " [10001.0 -0.006361 82569.3014]\n",
            " [10001.0 -0.055698 82067.4794]\n",
            " [10001.0 -0.021918 76737.60201]\n",
            " [10001.0 -0.021008 75055.6786]\n",
            " [10001.0 0.026466 73478.87759]\n",
            " [10001.0 0.03662 74635.199]\n",
            " [10001.0 0.04212 77397.7614]]\n",
            "==> output  1 : \n",
            " [0.6199] \n",
            "\n",
            "input  2 : \n",
            " [[10001.0 -0.006361 82569.3014]\n",
            " [10001.0 -0.055698 82067.4794]\n",
            " [10001.0 -0.021918 76737.60201]\n",
            " [10001.0 -0.021008 75055.6786]\n",
            " [10001.0 0.026466 73478.87759]\n",
            " [10001.0 0.03662 74635.199]\n",
            " [10001.0 0.04212 77397.7614]\n",
            " [10001.0 0.619948 80657.7208]]\n",
            "==> output  2 : \n",
            " [0.0121] \n",
            "\n"
          ]
        }
      ]
    },
    {
      "cell_type": "code",
      "source": [
        "# Standardizing of data\n",
        "scaler = StandardScaler()\n",
        "X_train = scaler.fit_transform(X_train.reshape(-1,X_train.shape[-1])).reshape(X_train.shape)\n",
        "X_test = scaler.transform(X_test.reshape(-1,X_test.shape[-1])).reshape(X_test.shape)\n",
        "\n",
        "# Printing the shape of data\n",
        "print(X_train.shape)"
      ],
      "metadata": {
        "id": "opKzXgKdhbpi",
        "colab": {
          "base_uri": "https://localhost:8080/"
        },
        "outputId": "0c760f66-b0e2-44d7-8918-ace94d5406a0"
      },
      "execution_count": null,
      "outputs": [
        {
          "output_type": "stream",
          "name": "stdout",
          "text": [
            "(219580, 8, 101)\n"
          ]
        }
      ]
    },
    {
      "cell_type": "markdown",
      "source": [
        "# **Autoencoder training**"
      ],
      "metadata": {
        "id": "u-nb9c0vvRH8"
      }
    },
    {
      "cell_type": "code",
      "source": [
        "# Setting the seed for reproducibility\n",
        "tf.random.set_seed(50)\n",
        "\n",
        "# Specify the GPU device to use\n",
        "with tf.device('/GPU:0'):\n",
        "    # Defining the input shape and layers for encoding and decoding\n",
        "    inputs_ae = Input(shape=(X_train.shape[1:]))\n",
        "\n",
        "    # Encoding LSTM layer, receive inputs_ae from input layer\n",
        "    encoded_ae_2 = LSTM(int(X_train.shape[2] * 1.4), return_sequences=True, dropout=0.4)(inputs_ae, training=True)\n",
        "    encoded_ae_2 = BatchNormalization()(encoded_ae_2)\n",
        "\n",
        "    # Decoding LSTM layer, receive encoded_ae from encoding LSTM layer\n",
        "    decoded_ae = LSTM(int(X_train.shape[2] / 2), return_sequences=True, dropout=0.4)(encoded_ae_2, training=True)\n",
        "    out_ae = TimeDistributed(Dense(1))(decoded_ae)\n",
        "    decoded_ae = BatchNormalization()(decoded_ae)\n",
        "\n",
        "    # Compiling the autoencoder model and setting the loss function and optimizer\n",
        "    sequence_autoencoder = Model(inputs_ae, out_ae)\n",
        "    sequence_autoencoder.compile(optimizer='adam', loss='mse')\n",
        "\n",
        "    # Training the autoencoder with early stopping and reconstructing the input as output\n",
        "    es = EarlyStopping(patience=15, verbose=2, min_delta=0.001, \n",
        "                           monitor='val_loss', mode='auto', restore_best_weights=True)\n",
        "\n",
        "    sequence_autoencoder.fit(X_train, X_train, validation_data=(X_train, X_train),\n",
        "                                 batch_size=256, epochs=150, verbose=1, callbacks=[es])"
      ],
      "metadata": {
        "id": "XbsAbCMDhf42",
        "colab": {
          "base_uri": "https://localhost:8080/"
        },
        "outputId": "2678c232-60fa-4a96-beba-e416720f49c7"
      },
      "execution_count": null,
      "outputs": [
        {
          "output_type": "stream",
          "name": "stdout",
          "text": [
            "Epoch 1/150\n",
            "858/858 [==============================] - 20s 12ms/step - loss: 0.9821 - val_loss: 0.9768\n",
            "Epoch 2/150\n",
            "858/858 [==============================] - 8s 9ms/step - loss: 0.9765 - val_loss: 0.9762\n",
            "Epoch 3/150\n",
            "858/858 [==============================] - 8s 9ms/step - loss: 0.9761 - val_loss: 0.9759\n",
            "Epoch 4/150\n",
            "858/858 [==============================] - 8s 9ms/step - loss: 0.9759 - val_loss: 0.9758\n",
            "Epoch 5/150\n",
            "858/858 [==============================] - 8s 9ms/step - loss: 0.9758 - val_loss: 0.9757\n",
            "Epoch 6/150\n",
            "858/858 [==============================] - 8s 9ms/step - loss: 0.9757 - val_loss: 0.9756\n",
            "Epoch 7/150\n",
            "858/858 [==============================] - 8s 9ms/step - loss: 0.9756 - val_loss: 0.9756\n",
            "Epoch 8/150\n",
            "858/858 [==============================] - 8s 9ms/step - loss: 0.9756 - val_loss: 0.9755\n",
            "Epoch 9/150\n",
            "858/858 [==============================] - 8s 9ms/step - loss: 0.9756 - val_loss: 0.9755\n",
            "Epoch 10/150\n",
            "858/858 [==============================] - 8s 9ms/step - loss: 0.9755 - val_loss: 0.9755\n",
            "Epoch 11/150\n",
            "858/858 [==============================] - 8s 9ms/step - loss: 0.9755 - val_loss: 0.9754\n",
            "Epoch 12/150\n",
            "858/858 [==============================] - 8s 9ms/step - loss: 0.9754 - val_loss: 0.9754\n",
            "Epoch 13/150\n",
            "858/858 [==============================] - 8s 9ms/step - loss: 0.9754 - val_loss: 0.9753\n",
            "Epoch 14/150\n",
            "858/858 [==============================] - 8s 9ms/step - loss: 0.9754 - val_loss: 0.9754\n",
            "Epoch 15/150\n",
            "858/858 [==============================] - 8s 9ms/step - loss: 0.9754 - val_loss: 0.9754\n",
            "Epoch 16/150\n",
            "858/858 [==============================] - 8s 9ms/step - loss: 0.9754 - val_loss: 0.9753\n",
            "Epoch 17/150\n",
            "858/858 [==============================] - 8s 9ms/step - loss: 0.9753 - val_loss: 0.9753\n",
            "Epoch 18/150\n",
            "858/858 [==============================] - 8s 9ms/step - loss: 0.9753 - val_loss: 0.9753\n",
            "Epoch 19/150\n",
            "858/858 [==============================] - 8s 9ms/step - loss: 0.9753 - val_loss: 0.9753\n",
            "Epoch 20/150\n",
            "851/858 [============================>.] - ETA: 0s - loss: 0.9753Restoring model weights from the end of the best epoch: 5.\n",
            "858/858 [==============================] - 8s 9ms/step - loss: 0.9753 - val_loss: 0.9753\n",
            "Epoch 20: early stopping\n"
          ]
        }
      ]
    },
    {
      "cell_type": "code",
      "source": [
        "# Define an encoder model to encode price and output the encoded features\n",
        "encoder = Model(inputs_ae, encoded_ae_2)\n",
        "\n",
        "# Encode the price features for train and test sets\n",
        "encoded_feature_train = encoder.predict(X_train)\n",
        "encoded_feature_test = encoder.predict(X_test)\n",
        "\n",
        "# Print the dimension of the encoded features\n",
        "print('encoded features: ', encoded_feature_train.shape)\n",
        "\n",
        "# Concatenate the encoded price features with the original regressors\n",
        "X_train_ = np.concatenate([X_train, encoder.predict(X_train)], axis=-1)\n",
        "X_test_ = np.concatenate([X_test, encoder.predict(X_test)], axis=-1)\n",
        "\n",
        "# Print the shape of the concatenated train and test sets\n",
        "X_train_.shape, X_test_.shape"
      ],
      "metadata": {
        "id": "a49jTScWGxkF",
        "colab": {
          "base_uri": "https://localhost:8080/"
        },
        "outputId": "4281f581-e9f1-4d55-c0a7-96d68f35b991"
      },
      "execution_count": null,
      "outputs": [
        {
          "output_type": "stream",
          "name": "stdout",
          "text": [
            "6862/6862 [==============================] - 11s 2ms/step\n",
            "699/699 [==============================] - 1s 2ms/step\n",
            "encoded features:  (219580, 8, 141)\n",
            "6862/6862 [==============================] - 11s 2ms/step\n",
            "699/699 [==============================] - 1s 2ms/step\n"
          ]
        },
        {
          "output_type": "execute_result",
          "data": {
            "text/plain": [
              "((219580, 8, 242), (22346, 8, 242))"
            ]
          },
          "metadata": {},
          "execution_count": 17
        }
      ]
    },
    {
      "cell_type": "code",
      "source": [
        "%%time\n",
        "\n",
        "# Set seed for reproducibility\n",
        "set_seed(50)\n",
        "\n",
        "# Define standard LSTM forecaster\n",
        "with tf.device('/GPU:0'):\n",
        "    inputs = Input(shape=(X_train_.shape[1:]))\n",
        "    lstm = LSTM(256, return_sequences=True, dropout=0.4)(inputs, training=True)\n",
        "    lstm = LSTM(128, return_sequences=False, dropout=0.4)(lstm, training=True)\n",
        "    dense = Dense(50)(lstm)\n",
        "    out = Dense(1)(dense)\n",
        "\n",
        "    model = Model(inputs, out)\n",
        "    model.compile(loss='mse', optimizer='adam')\n",
        "\n",
        "# Fit the model on the GPU device\n",
        "with tf.device('/GPU:0'):\n",
        "    es = EarlyStopping(patience=15, verbose=2, min_delta=0.001, \n",
        "                       monitor='val_loss', mode='auto', restore_best_weights=True)\n",
        "    model.fit(X_train_, y_train, validation_data=(X_train_, y_train), \n",
        "              epochs=150, batch_size=256, verbose=1, callbacks=[es])"
      ],
      "metadata": {
        "id": "fSBj_LX7d0CR",
        "colab": {
          "base_uri": "https://localhost:8080/"
        },
        "outputId": "232cf66f-0b91-4ec8-f035-1304f217bcdc"
      },
      "execution_count": null,
      "outputs": [
        {
          "output_type": "stream",
          "name": "stdout",
          "text": [
            "Epoch 1/150\n",
            "858/858 [==============================] - 13s 11ms/step - loss: 0.0259 - val_loss: 0.0247\n",
            "Epoch 2/150\n",
            "858/858 [==============================] - 7s 9ms/step - loss: 0.0246 - val_loss: 0.0244\n",
            "Epoch 3/150\n",
            "858/858 [==============================] - 7s 9ms/step - loss: 0.0245 - val_loss: 0.0244\n",
            "Epoch 4/150\n",
            "858/858 [==============================] - 7s 8ms/step - loss: 0.0244 - val_loss: 0.0244\n",
            "Epoch 5/150\n",
            "858/858 [==============================] - 7s 9ms/step - loss: 0.0244 - val_loss: 0.0243\n",
            "Epoch 6/150\n",
            "858/858 [==============================] - 7s 8ms/step - loss: 0.0243 - val_loss: 0.0243\n",
            "Epoch 7/150\n",
            "858/858 [==============================] - 7s 9ms/step - loss: 0.0243 - val_loss: 0.0242\n",
            "Epoch 8/150\n",
            "858/858 [==============================] - 7s 8ms/step - loss: 0.0242 - val_loss: 0.0241\n",
            "Epoch 9/150\n",
            "858/858 [==============================] - 7s 9ms/step - loss: 0.0241 - val_loss: 0.0240\n",
            "Epoch 10/150\n",
            "858/858 [==============================] - 7s 9ms/step - loss: 0.0240 - val_loss: 0.0236\n",
            "Epoch 11/150\n",
            "858/858 [==============================] - 7s 8ms/step - loss: 0.0239 - val_loss: 0.0236\n",
            "Epoch 12/150\n",
            "858/858 [==============================] - 7s 9ms/step - loss: 0.0238 - val_loss: 0.0235\n",
            "Epoch 13/150\n",
            "858/858 [==============================] - 7s 8ms/step - loss: 0.0237 - val_loss: 0.0233\n",
            "Epoch 14/150\n",
            "858/858 [==============================] - 7s 9ms/step - loss: 0.0235 - val_loss: 0.0233\n",
            "Epoch 15/150\n",
            "858/858 [==============================] - 7s 9ms/step - loss: 0.0234 - val_loss: 0.0228\n",
            "Epoch 16/150\n",
            "858/858 [==============================] - 7s 9ms/step - loss: 0.0232 - val_loss: 0.0227\n",
            "Epoch 17/150\n",
            "858/858 [==============================] - 8s 9ms/step - loss: 0.0229 - val_loss: 0.0225\n",
            "Epoch 18/150\n",
            "858/858 [==============================] - 7s 9ms/step - loss: 0.0228 - val_loss: 0.0229\n",
            "Epoch 19/150\n",
            "858/858 [==============================] - 8s 9ms/step - loss: 0.0229 - val_loss: 0.0224\n",
            "Epoch 20/150\n",
            "858/858 [==============================] - 7s 9ms/step - loss: 0.0225 - val_loss: 0.0224\n",
            "Epoch 21/150\n",
            "858/858 [==============================] - 7s 9ms/step - loss: 0.0224 - val_loss: 0.0219\n",
            "Epoch 22/150\n",
            "858/858 [==============================] - 7s 9ms/step - loss: 0.0227 - val_loss: 0.0224\n",
            "Epoch 23/150\n",
            "858/858 [==============================] - 7s 9ms/step - loss: 0.0225 - val_loss: 0.0216\n",
            "Epoch 24/150\n",
            "858/858 [==============================] - 7s 9ms/step - loss: 0.0222 - val_loss: 0.0215\n",
            "Epoch 25/150\n",
            "858/858 [==============================] - 7s 8ms/step - loss: 0.0218 - val_loss: 0.0211\n",
            "Epoch 26/150\n",
            "858/858 [==============================] - 7s 9ms/step - loss: 0.0219 - val_loss: 0.0207\n",
            "Epoch 27/150\n",
            "858/858 [==============================] - 7s 9ms/step - loss: 0.0217 - val_loss: 0.0209\n",
            "Epoch 28/150\n",
            "858/858 [==============================] - 7s 8ms/step - loss: 0.0212 - val_loss: 0.0210\n",
            "Epoch 29/150\n",
            "858/858 [==============================] - 7s 9ms/step - loss: 0.0216 - val_loss: 0.0206\n",
            "Epoch 30/150\n",
            "858/858 [==============================] - 7s 8ms/step - loss: 0.0210 - val_loss: 0.0211\n",
            "Epoch 31/150\n",
            "858/858 [==============================] - 7s 9ms/step - loss: 0.0209 - val_loss: 0.0203\n",
            "Epoch 32/150\n",
            "858/858 [==============================] - 7s 9ms/step - loss: 0.0207 - val_loss: 0.0211\n",
            "Epoch 33/150\n",
            "858/858 [==============================] - 7s 8ms/step - loss: 0.0206 - val_loss: 0.0207\n",
            "Epoch 34/150\n",
            "858/858 [==============================] - 7s 9ms/step - loss: 0.0206 - val_loss: 0.0197\n",
            "Epoch 35/150\n",
            "858/858 [==============================] - 7s 8ms/step - loss: 0.0217 - val_loss: 0.0204\n",
            "Epoch 36/150\n",
            "858/858 [==============================] - 7s 9ms/step - loss: 0.0205 - val_loss: 0.0198\n",
            "Epoch 37/150\n",
            "858/858 [==============================] - 7s 9ms/step - loss: 0.0194 - val_loss: 0.0190\n",
            "Epoch 38/150\n",
            "858/858 [==============================] - 7s 9ms/step - loss: 0.0195 - val_loss: 0.0193\n",
            "Epoch 39/150\n",
            "858/858 [==============================] - 7s 9ms/step - loss: 0.0199 - val_loss: 0.0192\n",
            "Epoch 40/150\n",
            "858/858 [==============================] - 7s 8ms/step - loss: 0.0191 - val_loss: 0.0186\n",
            "Epoch 41/150\n",
            "858/858 [==============================] - 7s 9ms/step - loss: 0.0190 - val_loss: 0.0190\n",
            "Epoch 42/150\n",
            "858/858 [==============================] - 7s 9ms/step - loss: 0.0193 - val_loss: 0.0204\n",
            "Epoch 43/150\n",
            "858/858 [==============================] - 7s 9ms/step - loss: 0.0201 - val_loss: 0.0185\n",
            "Epoch 44/150\n",
            "858/858 [==============================] - 7s 9ms/step - loss: 0.0187 - val_loss: 0.0190\n",
            "Epoch 45/150\n",
            "858/858 [==============================] - 7s 8ms/step - loss: 0.0190 - val_loss: 0.0193\n",
            "Epoch 46/150\n",
            "858/858 [==============================] - 7s 9ms/step - loss: 0.0192 - val_loss: 0.0193\n",
            "Epoch 47/150\n",
            "858/858 [==============================] - 7s 8ms/step - loss: 0.0188 - val_loss: 0.0188\n",
            "Epoch 48/150\n",
            "858/858 [==============================] - 7s 9ms/step - loss: 0.0198 - val_loss: 0.0202\n",
            "Epoch 49/150\n",
            "858/858 [==============================] - 7s 9ms/step - loss: 0.0196 - val_loss: 0.0184\n",
            "Epoch 50/150\n",
            "858/858 [==============================] - 7s 8ms/step - loss: 0.0185 - val_loss: 0.0181\n",
            "Epoch 51/150\n",
            "858/858 [==============================] - 7s 9ms/step - loss: 0.0184 - val_loss: 0.0181\n",
            "Epoch 52/150\n",
            "858/858 [==============================] - 7s 8ms/step - loss: 0.0183 - val_loss: 0.0180\n",
            "Epoch 53/150\n",
            "858/858 [==============================] - 7s 9ms/step - loss: 0.0184 - val_loss: 0.0180\n",
            "Epoch 54/150\n",
            "858/858 [==============================] - 7s 9ms/step - loss: 0.0186 - val_loss: 0.0184\n",
            "Epoch 55/150\n",
            "852/858 [============================>.] - ETA: 0s - loss: 0.0184Restoring model weights from the end of the best epoch: 40.\n",
            "858/858 [==============================] - 7s 9ms/step - loss: 0.0184 - val_loss: 0.0183\n",
            "Epoch 55: early stopping\n",
            "CPU times: user 11min 10s, sys: 1min 24s, total: 12min 35s\n",
            "Wall time: 6min 52s\n"
          ]
        }
      ]
    },
    {
      "cell_type": "code",
      "source": [
        "# Evaluate model on test set\n",
        "mse = model.evaluate(X_test_, y_test, verbose=0)\n",
        "\n",
        "# Get model predictions on test set\n",
        "y_pred = model.predict(X_test_)\n",
        "\n",
        "# Calculate MAE\n",
        "mae = mean_absolute_error(y_test, y_pred)\n",
        "\n",
        "print(f\"Autoencoder + LSTM MSE: {mse:.4f}\")\n",
        "print(f\"Autoencoder + LSTM MAE: {mae:.4f}\")"
      ],
      "metadata": {
        "id": "AUyVEIucd1TD",
        "colab": {
          "base_uri": "https://localhost:8080/"
        },
        "outputId": "e42874e2-4e95-4ebe-cdc2-9dc810363973"
      },
      "execution_count": null,
      "outputs": [
        {
          "output_type": "stream",
          "name": "stdout",
          "text": [
            "699/699 [==============================] - 2s 2ms/step\n",
            "Autoencoder + LSTM MSE: 0.0649\n",
            "Autoencoder + LSTM MAE: 0.1410\n"
          ]
        }
      ]
    },
    {
      "cell_type": "code",
      "source": [
        "# Compute stochastic dropout\n",
        "%%time\n",
        "scores = []\n",
        "for i in tqdm.tqdm(range(0,100)):\n",
        "    scores.append(mean_absolute_error(y_test, model.predict(X_test_).ravel()))\n",
        "\n",
        "print(np.mean(scores), np.std(scores))"
      ],
      "metadata": {
        "id": "b-k5-Eu4d9sG",
        "colab": {
          "base_uri": "https://localhost:8080/"
        },
        "outputId": "760ffe0e-4e51-4d95-9051-97d88a924009"
      },
      "execution_count": null,
      "outputs": [
        {
          "output_type": "stream",
          "name": "stderr",
          "text": [
            "\r  0%|          | 0/100 [00:00<?, ?it/s]"
          ]
        },
        {
          "output_type": "stream",
          "name": "stdout",
          "text": [
            "699/699 [==============================] - 2s 2ms/step\n"
          ]
        },
        {
          "output_type": "stream",
          "name": "stderr",
          "text": [
            "\r  1%|          | 1/100 [00:02<03:27,  2.09s/it]"
          ]
        },
        {
          "output_type": "stream",
          "name": "stdout",
          "text": [
            "699/699 [==============================] - 2s 2ms/step\n"
          ]
        },
        {
          "output_type": "stream",
          "name": "stderr",
          "text": [
            "\r  2%|▏         | 2/100 [00:04<03:25,  2.09s/it]"
          ]
        },
        {
          "output_type": "stream",
          "name": "stdout",
          "text": [
            "699/699 [==============================] - 2s 2ms/step\n"
          ]
        },
        {
          "output_type": "stream",
          "name": "stderr",
          "text": [
            "\r  3%|▎         | 3/100 [00:06<03:22,  2.09s/it]"
          ]
        },
        {
          "output_type": "stream",
          "name": "stdout",
          "text": [
            "699/699 [==============================] - 2s 2ms/step\n"
          ]
        },
        {
          "output_type": "stream",
          "name": "stderr",
          "text": [
            "\r  4%|▍         | 4/100 [00:08<03:20,  2.09s/it]"
          ]
        },
        {
          "output_type": "stream",
          "name": "stdout",
          "text": [
            "699/699 [==============================] - 2s 2ms/step\n"
          ]
        },
        {
          "output_type": "stream",
          "name": "stderr",
          "text": [
            "\r  5%|▌         | 5/100 [00:10<03:18,  2.09s/it]"
          ]
        },
        {
          "output_type": "stream",
          "name": "stdout",
          "text": [
            "699/699 [==============================] - 2s 2ms/step\n"
          ]
        },
        {
          "output_type": "stream",
          "name": "stderr",
          "text": [
            "\r  6%|▌         | 6/100 [00:12<03:17,  2.10s/it]"
          ]
        },
        {
          "output_type": "stream",
          "name": "stdout",
          "text": [
            "699/699 [==============================] - 2s 2ms/step\n"
          ]
        },
        {
          "output_type": "stream",
          "name": "stderr",
          "text": [
            "\r  7%|▋         | 7/100 [00:14<03:15,  2.10s/it]"
          ]
        },
        {
          "output_type": "stream",
          "name": "stdout",
          "text": [
            "699/699 [==============================] - 2s 2ms/step\n"
          ]
        },
        {
          "output_type": "stream",
          "name": "stderr",
          "text": [
            "\r  8%|▊         | 8/100 [00:16<03:12,  2.09s/it]"
          ]
        },
        {
          "output_type": "stream",
          "name": "stdout",
          "text": [
            "699/699 [==============================] - 2s 2ms/step\n"
          ]
        },
        {
          "output_type": "stream",
          "name": "stderr",
          "text": [
            "\r  9%|▉         | 9/100 [00:18<03:09,  2.09s/it]"
          ]
        },
        {
          "output_type": "stream",
          "name": "stdout",
          "text": [
            "699/699 [==============================] - 2s 2ms/step\n"
          ]
        },
        {
          "output_type": "stream",
          "name": "stderr",
          "text": [
            "\r 10%|█         | 10/100 [00:20<03:07,  2.08s/it]"
          ]
        },
        {
          "output_type": "stream",
          "name": "stdout",
          "text": [
            "699/699 [==============================] - 2s 2ms/step\n"
          ]
        },
        {
          "output_type": "stream",
          "name": "stderr",
          "text": [
            "\r 11%|█         | 11/100 [00:23<03:07,  2.10s/it]"
          ]
        },
        {
          "output_type": "stream",
          "name": "stdout",
          "text": [
            "699/699 [==============================] - 2s 2ms/step\n"
          ]
        },
        {
          "output_type": "stream",
          "name": "stderr",
          "text": [
            "\r 12%|█▏        | 12/100 [00:25<03:05,  2.10s/it]"
          ]
        },
        {
          "output_type": "stream",
          "name": "stdout",
          "text": [
            "699/699 [==============================] - 2s 2ms/step\n"
          ]
        },
        {
          "output_type": "stream",
          "name": "stderr",
          "text": [
            "\r 13%|█▎        | 13/100 [00:27<03:03,  2.11s/it]"
          ]
        },
        {
          "output_type": "stream",
          "name": "stdout",
          "text": [
            "699/699 [==============================] - 2s 2ms/step\n"
          ]
        },
        {
          "output_type": "stream",
          "name": "stderr",
          "text": [
            "\r 14%|█▍        | 14/100 [00:29<03:02,  2.12s/it]"
          ]
        },
        {
          "output_type": "stream",
          "name": "stdout",
          "text": [
            "699/699 [==============================] - 2s 2ms/step\n"
          ]
        },
        {
          "output_type": "stream",
          "name": "stderr",
          "text": [
            "\r 15%|█▌        | 15/100 [00:31<03:00,  2.12s/it]"
          ]
        },
        {
          "output_type": "stream",
          "name": "stdout",
          "text": [
            "699/699 [==============================] - 2s 2ms/step\n"
          ]
        },
        {
          "output_type": "stream",
          "name": "stderr",
          "text": [
            "\r 16%|█▌        | 16/100 [00:33<02:58,  2.12s/it]"
          ]
        },
        {
          "output_type": "stream",
          "name": "stdout",
          "text": [
            "699/699 [==============================] - 2s 2ms/step\n"
          ]
        },
        {
          "output_type": "stream",
          "name": "stderr",
          "text": [
            "\r 17%|█▋        | 17/100 [00:35<02:56,  2.12s/it]"
          ]
        },
        {
          "output_type": "stream",
          "name": "stdout",
          "text": [
            "699/699 [==============================] - 2s 2ms/step\n"
          ]
        },
        {
          "output_type": "stream",
          "name": "stderr",
          "text": [
            "\r 18%|█▊        | 18/100 [00:37<02:54,  2.13s/it]"
          ]
        },
        {
          "output_type": "stream",
          "name": "stdout",
          "text": [
            "699/699 [==============================] - 2s 2ms/step\n"
          ]
        },
        {
          "output_type": "stream",
          "name": "stderr",
          "text": [
            "\r 19%|█▉        | 19/100 [00:40<02:52,  2.13s/it]"
          ]
        },
        {
          "output_type": "stream",
          "name": "stdout",
          "text": [
            "699/699 [==============================] - 2s 2ms/step\n"
          ]
        },
        {
          "output_type": "stream",
          "name": "stderr",
          "text": [
            "\r 20%|██        | 20/100 [00:42<02:49,  2.11s/it]"
          ]
        },
        {
          "output_type": "stream",
          "name": "stdout",
          "text": [
            "699/699 [==============================] - 2s 2ms/step\n"
          ]
        },
        {
          "output_type": "stream",
          "name": "stderr",
          "text": [
            "\r 21%|██        | 21/100 [00:44<02:46,  2.11s/it]"
          ]
        },
        {
          "output_type": "stream",
          "name": "stdout",
          "text": [
            "699/699 [==============================] - 2s 2ms/step\n"
          ]
        },
        {
          "output_type": "stream",
          "name": "stderr",
          "text": [
            "\r 22%|██▏       | 22/100 [00:46<02:43,  2.10s/it]"
          ]
        },
        {
          "output_type": "stream",
          "name": "stdout",
          "text": [
            "699/699 [==============================] - 2s 2ms/step\n"
          ]
        },
        {
          "output_type": "stream",
          "name": "stderr",
          "text": [
            "\r 23%|██▎       | 23/100 [00:48<02:41,  2.09s/it]"
          ]
        },
        {
          "output_type": "stream",
          "name": "stdout",
          "text": [
            "699/699 [==============================] - 2s 2ms/step\n"
          ]
        },
        {
          "output_type": "stream",
          "name": "stderr",
          "text": [
            "\r 24%|██▍       | 24/100 [00:50<02:39,  2.10s/it]"
          ]
        },
        {
          "output_type": "stream",
          "name": "stdout",
          "text": [
            "699/699 [==============================] - 2s 2ms/step\n"
          ]
        },
        {
          "output_type": "stream",
          "name": "stderr",
          "text": [
            "\r 25%|██▌       | 25/100 [00:52<02:36,  2.09s/it]"
          ]
        },
        {
          "output_type": "stream",
          "name": "stdout",
          "text": [
            "699/699 [==============================] - 2s 2ms/step\n"
          ]
        },
        {
          "output_type": "stream",
          "name": "stderr",
          "text": [
            "\r 26%|██▌       | 26/100 [00:54<02:34,  2.09s/it]"
          ]
        },
        {
          "output_type": "stream",
          "name": "stdout",
          "text": [
            "699/699 [==============================] - 2s 2ms/step\n"
          ]
        },
        {
          "output_type": "stream",
          "name": "stderr",
          "text": [
            "\r 27%|██▋       | 27/100 [00:56<02:32,  2.09s/it]"
          ]
        },
        {
          "output_type": "stream",
          "name": "stdout",
          "text": [
            "699/699 [==============================] - 2s 2ms/step\n"
          ]
        },
        {
          "output_type": "stream",
          "name": "stderr",
          "text": [
            "\r 28%|██▊       | 28/100 [00:58<02:29,  2.08s/it]"
          ]
        },
        {
          "output_type": "stream",
          "name": "stdout",
          "text": [
            "699/699 [==============================] - 2s 2ms/step\n"
          ]
        },
        {
          "output_type": "stream",
          "name": "stderr",
          "text": [
            "\r 29%|██▉       | 29/100 [01:00<02:28,  2.09s/it]"
          ]
        },
        {
          "output_type": "stream",
          "name": "stdout",
          "text": [
            "699/699 [==============================] - 2s 2ms/step\n"
          ]
        },
        {
          "output_type": "stream",
          "name": "stderr",
          "text": [
            "\r 30%|███       | 30/100 [01:03<02:27,  2.10s/it]"
          ]
        },
        {
          "output_type": "stream",
          "name": "stdout",
          "text": [
            "699/699 [==============================] - 2s 2ms/step\n"
          ]
        },
        {
          "output_type": "stream",
          "name": "stderr",
          "text": [
            "\r 31%|███       | 31/100 [01:05<02:24,  2.10s/it]"
          ]
        },
        {
          "output_type": "stream",
          "name": "stdout",
          "text": [
            "699/699 [==============================] - 2s 2ms/step\n"
          ]
        },
        {
          "output_type": "stream",
          "name": "stderr",
          "text": [
            "\r 32%|███▏      | 32/100 [01:07<02:22,  2.10s/it]"
          ]
        },
        {
          "output_type": "stream",
          "name": "stdout",
          "text": [
            "699/699 [==============================] - 2s 2ms/step\n"
          ]
        },
        {
          "output_type": "stream",
          "name": "stderr",
          "text": [
            "\r 33%|███▎      | 33/100 [01:09<02:20,  2.09s/it]"
          ]
        },
        {
          "output_type": "stream",
          "name": "stdout",
          "text": [
            "699/699 [==============================] - 2s 2ms/step\n"
          ]
        },
        {
          "output_type": "stream",
          "name": "stderr",
          "text": [
            "\r 34%|███▍      | 34/100 [01:11<02:19,  2.11s/it]"
          ]
        },
        {
          "output_type": "stream",
          "name": "stdout",
          "text": [
            "699/699 [==============================] - 2s 2ms/step\n"
          ]
        },
        {
          "output_type": "stream",
          "name": "stderr",
          "text": [
            "\r 35%|███▌      | 35/100 [01:13<02:17,  2.11s/it]"
          ]
        },
        {
          "output_type": "stream",
          "name": "stdout",
          "text": [
            "699/699 [==============================] - 2s 2ms/step\n"
          ]
        },
        {
          "output_type": "stream",
          "name": "stderr",
          "text": [
            "\r 36%|███▌      | 36/100 [01:15<02:15,  2.11s/it]"
          ]
        },
        {
          "output_type": "stream",
          "name": "stdout",
          "text": [
            "699/699 [==============================] - 2s 2ms/step\n"
          ]
        },
        {
          "output_type": "stream",
          "name": "stderr",
          "text": [
            "\r 37%|███▋      | 37/100 [01:17<02:13,  2.12s/it]"
          ]
        },
        {
          "output_type": "stream",
          "name": "stdout",
          "text": [
            "699/699 [==============================] - 2s 2ms/step\n"
          ]
        },
        {
          "output_type": "stream",
          "name": "stderr",
          "text": [
            "\r 38%|███▊      | 38/100 [01:19<02:10,  2.11s/it]"
          ]
        },
        {
          "output_type": "stream",
          "name": "stdout",
          "text": [
            "699/699 [==============================] - 2s 2ms/step\n"
          ]
        },
        {
          "output_type": "stream",
          "name": "stderr",
          "text": [
            "\r 39%|███▉      | 39/100 [01:21<02:08,  2.10s/it]"
          ]
        },
        {
          "output_type": "stream",
          "name": "stdout",
          "text": [
            "699/699 [==============================] - 2s 2ms/step\n"
          ]
        },
        {
          "output_type": "stream",
          "name": "stderr",
          "text": [
            "\r 40%|████      | 40/100 [01:24<02:05,  2.10s/it]"
          ]
        },
        {
          "output_type": "stream",
          "name": "stdout",
          "text": [
            "699/699 [==============================] - 2s 2ms/step\n"
          ]
        },
        {
          "output_type": "stream",
          "name": "stderr",
          "text": [
            "\r 41%|████      | 41/100 [01:26<02:03,  2.10s/it]"
          ]
        },
        {
          "output_type": "stream",
          "name": "stdout",
          "text": [
            "699/699 [==============================] - 2s 2ms/step\n"
          ]
        },
        {
          "output_type": "stream",
          "name": "stderr",
          "text": [
            "\r 42%|████▏     | 42/100 [01:28<02:03,  2.12s/it]"
          ]
        },
        {
          "output_type": "stream",
          "name": "stdout",
          "text": [
            "699/699 [==============================] - 2s 2ms/step\n"
          ]
        },
        {
          "output_type": "stream",
          "name": "stderr",
          "text": [
            "\r 43%|████▎     | 43/100 [01:30<02:00,  2.11s/it]"
          ]
        },
        {
          "output_type": "stream",
          "name": "stdout",
          "text": [
            "699/699 [==============================] - 2s 2ms/step\n"
          ]
        },
        {
          "output_type": "stream",
          "name": "stderr",
          "text": [
            "\r 44%|████▍     | 44/100 [01:32<01:57,  2.10s/it]"
          ]
        },
        {
          "output_type": "stream",
          "name": "stdout",
          "text": [
            "699/699 [==============================] - 2s 2ms/step\n"
          ]
        },
        {
          "output_type": "stream",
          "name": "stderr",
          "text": [
            "\r 45%|████▌     | 45/100 [01:34<01:55,  2.09s/it]"
          ]
        },
        {
          "output_type": "stream",
          "name": "stdout",
          "text": [
            "699/699 [==============================] - 2s 2ms/step\n"
          ]
        },
        {
          "output_type": "stream",
          "name": "stderr",
          "text": [
            "\r 46%|████▌     | 46/100 [01:36<01:54,  2.11s/it]"
          ]
        },
        {
          "output_type": "stream",
          "name": "stdout",
          "text": [
            "699/699 [==============================] - 2s 2ms/step\n"
          ]
        },
        {
          "output_type": "stream",
          "name": "stderr",
          "text": [
            "\r 47%|████▋     | 47/100 [01:38<01:52,  2.12s/it]"
          ]
        },
        {
          "output_type": "stream",
          "name": "stdout",
          "text": [
            "699/699 [==============================] - 2s 2ms/step\n"
          ]
        },
        {
          "output_type": "stream",
          "name": "stderr",
          "text": [
            "\r 48%|████▊     | 48/100 [01:40<01:49,  2.11s/it]"
          ]
        },
        {
          "output_type": "stream",
          "name": "stdout",
          "text": [
            "699/699 [==============================] - 2s 2ms/step\n"
          ]
        },
        {
          "output_type": "stream",
          "name": "stderr",
          "text": [
            "\r 49%|████▉     | 49/100 [01:43<01:47,  2.11s/it]"
          ]
        },
        {
          "output_type": "stream",
          "name": "stdout",
          "text": [
            "699/699 [==============================] - 2s 2ms/step\n"
          ]
        },
        {
          "output_type": "stream",
          "name": "stderr",
          "text": [
            "\r 50%|█████     | 50/100 [01:45<01:45,  2.12s/it]"
          ]
        },
        {
          "output_type": "stream",
          "name": "stdout",
          "text": [
            "699/699 [==============================] - 2s 2ms/step\n"
          ]
        },
        {
          "output_type": "stream",
          "name": "stderr",
          "text": [
            "\r 51%|█████     | 51/100 [01:47<01:43,  2.10s/it]"
          ]
        },
        {
          "output_type": "stream",
          "name": "stdout",
          "text": [
            "699/699 [==============================] - 2s 2ms/step\n"
          ]
        },
        {
          "output_type": "stream",
          "name": "stderr",
          "text": [
            "\r 52%|█████▏    | 52/100 [01:49<01:40,  2.10s/it]"
          ]
        },
        {
          "output_type": "stream",
          "name": "stdout",
          "text": [
            "699/699 [==============================] - 2s 2ms/step\n"
          ]
        },
        {
          "output_type": "stream",
          "name": "stderr",
          "text": [
            "\r 53%|█████▎    | 53/100 [01:51<01:38,  2.11s/it]"
          ]
        },
        {
          "output_type": "stream",
          "name": "stdout",
          "text": [
            "699/699 [==============================] - 2s 2ms/step\n"
          ]
        },
        {
          "output_type": "stream",
          "name": "stderr",
          "text": [
            "\r 54%|█████▍    | 54/100 [01:53<01:37,  2.13s/it]"
          ]
        },
        {
          "output_type": "stream",
          "name": "stdout",
          "text": [
            "699/699 [==============================] - 2s 2ms/step\n"
          ]
        },
        {
          "output_type": "stream",
          "name": "stderr",
          "text": [
            "\r 55%|█████▌    | 55/100 [01:55<01:35,  2.12s/it]"
          ]
        },
        {
          "output_type": "stream",
          "name": "stdout",
          "text": [
            "699/699 [==============================] - 2s 2ms/step\n"
          ]
        },
        {
          "output_type": "stream",
          "name": "stderr",
          "text": [
            "\r 56%|█████▌    | 56/100 [01:57<01:32,  2.11s/it]"
          ]
        },
        {
          "output_type": "stream",
          "name": "stdout",
          "text": [
            "699/699 [==============================] - 2s 2ms/step\n"
          ]
        },
        {
          "output_type": "stream",
          "name": "stderr",
          "text": [
            "\r 57%|█████▋    | 57/100 [01:59<01:30,  2.10s/it]"
          ]
        },
        {
          "output_type": "stream",
          "name": "stdout",
          "text": [
            "699/699 [==============================] - 2s 2ms/step\n"
          ]
        },
        {
          "output_type": "stream",
          "name": "stderr",
          "text": [
            "\r 58%|█████▊    | 58/100 [02:02<01:28,  2.12s/it]"
          ]
        },
        {
          "output_type": "stream",
          "name": "stdout",
          "text": [
            "699/699 [==============================] - 2s 2ms/step\n"
          ]
        },
        {
          "output_type": "stream",
          "name": "stderr",
          "text": [
            "\r 59%|█████▉    | 59/100 [02:04<01:27,  2.12s/it]"
          ]
        },
        {
          "output_type": "stream",
          "name": "stdout",
          "text": [
            "699/699 [==============================] - 2s 2ms/step\n"
          ]
        },
        {
          "output_type": "stream",
          "name": "stderr",
          "text": [
            "\r 60%|██████    | 60/100 [02:06<01:24,  2.12s/it]"
          ]
        },
        {
          "output_type": "stream",
          "name": "stdout",
          "text": [
            "699/699 [==============================] - 2s 2ms/step\n"
          ]
        },
        {
          "output_type": "stream",
          "name": "stderr",
          "text": [
            "\r 61%|██████    | 61/100 [02:08<01:22,  2.11s/it]"
          ]
        },
        {
          "output_type": "stream",
          "name": "stdout",
          "text": [
            "699/699 [==============================] - 2s 2ms/step\n"
          ]
        },
        {
          "output_type": "stream",
          "name": "stderr",
          "text": [
            "\r 62%|██████▏   | 62/100 [02:10<01:20,  2.12s/it]"
          ]
        },
        {
          "output_type": "stream",
          "name": "stdout",
          "text": [
            "699/699 [==============================] - 2s 2ms/step\n"
          ]
        },
        {
          "output_type": "stream",
          "name": "stderr",
          "text": [
            "\r 63%|██████▎   | 63/100 [02:12<01:18,  2.12s/it]"
          ]
        },
        {
          "output_type": "stream",
          "name": "stdout",
          "text": [
            "699/699 [==============================] - 2s 2ms/step\n"
          ]
        },
        {
          "output_type": "stream",
          "name": "stderr",
          "text": [
            "\r 64%|██████▍   | 64/100 [02:14<01:16,  2.11s/it]"
          ]
        },
        {
          "output_type": "stream",
          "name": "stdout",
          "text": [
            "699/699 [==============================] - 2s 2ms/step\n"
          ]
        },
        {
          "output_type": "stream",
          "name": "stderr",
          "text": [
            "\r 65%|██████▌   | 65/100 [02:16<01:14,  2.12s/it]"
          ]
        },
        {
          "output_type": "stream",
          "name": "stdout",
          "text": [
            "699/699 [==============================] - 2s 2ms/step\n"
          ]
        },
        {
          "output_type": "stream",
          "name": "stderr",
          "text": [
            "\r 66%|██████▌   | 66/100 [02:19<01:12,  2.13s/it]"
          ]
        },
        {
          "output_type": "stream",
          "name": "stdout",
          "text": [
            "699/699 [==============================] - 2s 2ms/step\n"
          ]
        },
        {
          "output_type": "stream",
          "name": "stderr",
          "text": [
            "\r 67%|██████▋   | 67/100 [02:21<01:09,  2.12s/it]"
          ]
        },
        {
          "output_type": "stream",
          "name": "stdout",
          "text": [
            "699/699 [==============================] - 2s 2ms/step\n"
          ]
        },
        {
          "output_type": "stream",
          "name": "stderr",
          "text": [
            "\r 68%|██████▊   | 68/100 [02:23<01:07,  2.11s/it]"
          ]
        },
        {
          "output_type": "stream",
          "name": "stdout",
          "text": [
            "699/699 [==============================] - 2s 2ms/step\n"
          ]
        },
        {
          "output_type": "stream",
          "name": "stderr",
          "text": [
            "\r 69%|██████▉   | 69/100 [02:25<01:05,  2.10s/it]"
          ]
        },
        {
          "output_type": "stream",
          "name": "stdout",
          "text": [
            "699/699 [==============================] - 2s 2ms/step\n"
          ]
        },
        {
          "output_type": "stream",
          "name": "stderr",
          "text": [
            "\r 70%|███████   | 70/100 [02:27<01:03,  2.12s/it]"
          ]
        },
        {
          "output_type": "stream",
          "name": "stdout",
          "text": [
            "699/699 [==============================] - 2s 2ms/step\n"
          ]
        },
        {
          "output_type": "stream",
          "name": "stderr",
          "text": [
            "\r 71%|███████   | 71/100 [02:29<01:01,  2.12s/it]"
          ]
        },
        {
          "output_type": "stream",
          "name": "stdout",
          "text": [
            "699/699 [==============================] - 2s 2ms/step\n"
          ]
        },
        {
          "output_type": "stream",
          "name": "stderr",
          "text": [
            "\r 72%|███████▏  | 72/100 [02:31<00:59,  2.11s/it]"
          ]
        },
        {
          "output_type": "stream",
          "name": "stdout",
          "text": [
            "699/699 [==============================] - 2s 2ms/step\n"
          ]
        },
        {
          "output_type": "stream",
          "name": "stderr",
          "text": [
            "\r 73%|███████▎  | 73/100 [02:33<00:56,  2.10s/it]"
          ]
        },
        {
          "output_type": "stream",
          "name": "stdout",
          "text": [
            "699/699 [==============================] - 2s 2ms/step\n"
          ]
        },
        {
          "output_type": "stream",
          "name": "stderr",
          "text": [
            "\r 74%|███████▍  | 74/100 [02:35<00:55,  2.13s/it]"
          ]
        },
        {
          "output_type": "stream",
          "name": "stdout",
          "text": [
            "699/699 [==============================] - 2s 2ms/step\n"
          ]
        },
        {
          "output_type": "stream",
          "name": "stderr",
          "text": [
            "\r 75%|███████▌  | 75/100 [02:38<00:52,  2.11s/it]"
          ]
        },
        {
          "output_type": "stream",
          "name": "stdout",
          "text": [
            "699/699 [==============================] - 2s 2ms/step\n"
          ]
        },
        {
          "output_type": "stream",
          "name": "stderr",
          "text": [
            "\r 76%|███████▌  | 76/100 [02:40<00:50,  2.11s/it]"
          ]
        },
        {
          "output_type": "stream",
          "name": "stdout",
          "text": [
            "699/699 [==============================] - 2s 2ms/step\n"
          ]
        },
        {
          "output_type": "stream",
          "name": "stderr",
          "text": [
            "\r 77%|███████▋  | 77/100 [02:42<00:48,  2.11s/it]"
          ]
        },
        {
          "output_type": "stream",
          "name": "stdout",
          "text": [
            "699/699 [==============================] - 2s 2ms/step\n"
          ]
        },
        {
          "output_type": "stream",
          "name": "stderr",
          "text": [
            "\r 78%|███████▊  | 78/100 [02:44<00:46,  2.13s/it]"
          ]
        },
        {
          "output_type": "stream",
          "name": "stdout",
          "text": [
            "699/699 [==============================] - 2s 2ms/step\n"
          ]
        },
        {
          "output_type": "stream",
          "name": "stderr",
          "text": [
            "\r 79%|███████▉  | 79/100 [02:46<00:44,  2.11s/it]"
          ]
        },
        {
          "output_type": "stream",
          "name": "stdout",
          "text": [
            "699/699 [==============================] - 2s 2ms/step\n"
          ]
        },
        {
          "output_type": "stream",
          "name": "stderr",
          "text": [
            "\r 80%|████████  | 80/100 [02:48<00:42,  2.11s/it]"
          ]
        },
        {
          "output_type": "stream",
          "name": "stdout",
          "text": [
            "699/699 [==============================] - 2s 2ms/step\n"
          ]
        },
        {
          "output_type": "stream",
          "name": "stderr",
          "text": [
            "\r 81%|████████  | 81/100 [02:50<00:39,  2.10s/it]"
          ]
        },
        {
          "output_type": "stream",
          "name": "stdout",
          "text": [
            "699/699 [==============================] - 2s 2ms/step\n"
          ]
        },
        {
          "output_type": "stream",
          "name": "stderr",
          "text": [
            "\r 82%|████████▏ | 82/100 [02:52<00:38,  2.13s/it]"
          ]
        },
        {
          "output_type": "stream",
          "name": "stdout",
          "text": [
            "699/699 [==============================] - 2s 2ms/step\n"
          ]
        },
        {
          "output_type": "stream",
          "name": "stderr",
          "text": [
            "\r 83%|████████▎ | 83/100 [02:55<00:36,  2.13s/it]"
          ]
        },
        {
          "output_type": "stream",
          "name": "stdout",
          "text": [
            "699/699 [==============================] - 2s 2ms/step\n"
          ]
        },
        {
          "output_type": "stream",
          "name": "stderr",
          "text": [
            "\r 84%|████████▍ | 84/100 [02:57<00:33,  2.11s/it]"
          ]
        },
        {
          "output_type": "stream",
          "name": "stdout",
          "text": [
            "699/699 [==============================] - 2s 2ms/step\n"
          ]
        },
        {
          "output_type": "stream",
          "name": "stderr",
          "text": [
            "\r 85%|████████▌ | 85/100 [02:59<00:31,  2.10s/it]"
          ]
        },
        {
          "output_type": "stream",
          "name": "stdout",
          "text": [
            "699/699 [==============================] - 2s 2ms/step\n"
          ]
        },
        {
          "output_type": "stream",
          "name": "stderr",
          "text": [
            "\r 86%|████████▌ | 86/100 [03:01<00:29,  2.12s/it]"
          ]
        },
        {
          "output_type": "stream",
          "name": "stdout",
          "text": [
            "699/699 [==============================] - 2s 2ms/step\n"
          ]
        },
        {
          "output_type": "stream",
          "name": "stderr",
          "text": [
            "\r 87%|████████▋ | 87/100 [03:03<00:27,  2.11s/it]"
          ]
        },
        {
          "output_type": "stream",
          "name": "stdout",
          "text": [
            "699/699 [==============================] - 2s 2ms/step\n"
          ]
        },
        {
          "output_type": "stream",
          "name": "stderr",
          "text": [
            "\r 88%|████████▊ | 88/100 [03:05<00:25,  2.11s/it]"
          ]
        },
        {
          "output_type": "stream",
          "name": "stdout",
          "text": [
            "699/699 [==============================] - 2s 2ms/step\n"
          ]
        },
        {
          "output_type": "stream",
          "name": "stderr",
          "text": [
            "\r 89%|████████▉ | 89/100 [03:07<00:23,  2.12s/it]"
          ]
        },
        {
          "output_type": "stream",
          "name": "stdout",
          "text": [
            "699/699 [==============================] - 2s 2ms/step\n"
          ]
        },
        {
          "output_type": "stream",
          "name": "stderr",
          "text": [
            "\r 90%|█████████ | 90/100 [03:09<00:21,  2.13s/it]"
          ]
        },
        {
          "output_type": "stream",
          "name": "stdout",
          "text": [
            "699/699 [==============================] - 2s 2ms/step\n"
          ]
        },
        {
          "output_type": "stream",
          "name": "stderr",
          "text": [
            "\r 91%|█████████ | 91/100 [03:11<00:19,  2.12s/it]"
          ]
        },
        {
          "output_type": "stream",
          "name": "stdout",
          "text": [
            "699/699 [==============================] - 2s 2ms/step\n"
          ]
        },
        {
          "output_type": "stream",
          "name": "stderr",
          "text": [
            "\r 92%|█████████▏| 92/100 [03:13<00:16,  2.11s/it]"
          ]
        },
        {
          "output_type": "stream",
          "name": "stdout",
          "text": [
            "699/699 [==============================] - 2s 2ms/step\n"
          ]
        },
        {
          "output_type": "stream",
          "name": "stderr",
          "text": [
            "\r 93%|█████████▎| 93/100 [03:16<00:14,  2.10s/it]"
          ]
        },
        {
          "output_type": "stream",
          "name": "stdout",
          "text": [
            "699/699 [==============================] - 2s 2ms/step\n"
          ]
        },
        {
          "output_type": "stream",
          "name": "stderr",
          "text": [
            "\r 94%|█████████▍| 94/100 [03:18<00:12,  2.13s/it]"
          ]
        },
        {
          "output_type": "stream",
          "name": "stdout",
          "text": [
            "699/699 [==============================] - 2s 2ms/step\n"
          ]
        },
        {
          "output_type": "stream",
          "name": "stderr",
          "text": [
            "\r 95%|█████████▌| 95/100 [03:20<00:10,  2.12s/it]"
          ]
        },
        {
          "output_type": "stream",
          "name": "stdout",
          "text": [
            "699/699 [==============================] - 2s 2ms/step\n"
          ]
        },
        {
          "output_type": "stream",
          "name": "stderr",
          "text": [
            "\r 96%|█████████▌| 96/100 [03:22<00:08,  2.11s/it]"
          ]
        },
        {
          "output_type": "stream",
          "name": "stdout",
          "text": [
            "699/699 [==============================] - 2s 2ms/step\n"
          ]
        },
        {
          "output_type": "stream",
          "name": "stderr",
          "text": [
            "\r 97%|█████████▋| 97/100 [03:24<00:06,  2.10s/it]"
          ]
        },
        {
          "output_type": "stream",
          "name": "stdout",
          "text": [
            "699/699 [==============================] - 2s 2ms/step\n"
          ]
        },
        {
          "output_type": "stream",
          "name": "stderr",
          "text": [
            "\r 98%|█████████▊| 98/100 [03:26<00:04,  2.20s/it]"
          ]
        },
        {
          "output_type": "stream",
          "name": "stdout",
          "text": [
            "699/699 [==============================] - 2s 2ms/step\n"
          ]
        },
        {
          "output_type": "stream",
          "name": "stderr",
          "text": [
            "\r 99%|█████████▉| 99/100 [03:29<00:02,  2.17s/it]"
          ]
        },
        {
          "output_type": "stream",
          "name": "stdout",
          "text": [
            "699/699 [==============================] - 2s 2ms/step\n"
          ]
        },
        {
          "output_type": "stream",
          "name": "stderr",
          "text": [
            "100%|██████████| 100/100 [03:31<00:00,  2.11s/it]"
          ]
        },
        {
          "output_type": "stream",
          "name": "stdout",
          "text": [
            "0.14100622722869305 0.00022625525867069223\n",
            "CPU times: user 4min 33s, sys: 34.6 s, total: 5min 8s\n",
            "Wall time: 3min 31s\n"
          ]
        },
        {
          "output_type": "stream",
          "name": "stderr",
          "text": [
            "\n"
          ]
        }
      ]
    },
    {
      "cell_type": "code",
      "source": [
        "# Printing results of evaluation for Autoencoder+LSTM Model\n",
        "results = {'LSTM':None, 'Autoencoder+LSTM':None}\n",
        "results['Autoencoder+LSTM'] = {'mean':np.mean(scores), 'std':np.std(scores)}\n",
        "print(results)"
      ],
      "metadata": {
        "id": "BZzoQ8XheKVP",
        "colab": {
          "base_uri": "https://localhost:8080/"
        },
        "outputId": "8bc78e5b-6c08-40c8-cb9b-c3e12cbfd351"
      },
      "execution_count": null,
      "outputs": [
        {
          "output_type": "stream",
          "name": "stdout",
          "text": [
            "{'LSTM': None, 'Autoencoder+LSTM': {'mean': 0.14100622722869305, 'std': 0.00022625525867069223}}\n"
          ]
        }
      ]
    },
    {
      "cell_type": "markdown",
      "source": [
        "# **Simple LSTM Model**"
      ],
      "metadata": {
        "id": "NeJ__YLfva7e"
      }
    },
    {
      "cell_type": "code",
      "source": [
        "# Initializing and setting seed\n",
        "set_seed(50)\n",
        "\n",
        "# Defining simple LSTM model\n",
        "inputs = Input(shape=(X_train.shape[1:]))\n",
        "lstm = LSTM(256, return_sequences=True, dropout=0.4)(inputs, training=True)\n",
        "lstm = LSTM(128, return_sequences=False, dropout=0.4)(lstm, training=True)\n",
        "dense = Dense(50)(lstm)\n",
        "out = Dense(1)(dense)\n",
        "\n",
        "# Compiling model\n",
        "model = Model(inputs, out)\n",
        "model.compile(loss='mse', optimizer='adam')\n",
        "\n",
        "# Fitting the model on training data and early stopping during training to prevent overfitting\n",
        "es = EarlyStopping(patience=15, verbose=2, min_delta=0.001, monitor='val_loss', mode='auto', restore_best_weights=True)\n",
        "model.fit(X_train, y_train, validation_data=(X_train, y_train), \n",
        "          epochs=150, batch_size=256, verbose=1, callbacks=[es])"
      ],
      "metadata": {
        "id": "YiQpkOjzeMK6",
        "colab": {
          "base_uri": "https://localhost:8080/"
        },
        "outputId": "3d70c402-a7c9-4ecd-db32-0d9034e3d4ef"
      },
      "execution_count": null,
      "outputs": [
        {
          "output_type": "stream",
          "name": "stdout",
          "text": [
            "Epoch 1/150\n",
            "858/858 [==============================] - 12s 10ms/step - loss: 0.0254 - val_loss: 0.0247\n",
            "Epoch 2/150\n",
            "858/858 [==============================] - 7s 8ms/step - loss: 0.0247 - val_loss: 0.0244\n",
            "Epoch 3/150\n",
            "858/858 [==============================] - 7s 8ms/step - loss: 0.0245 - val_loss: 0.0243\n",
            "Epoch 4/150\n",
            "858/858 [==============================] - 7s 8ms/step - loss: 0.0244 - val_loss: 0.0242\n",
            "Epoch 5/150\n",
            "858/858 [==============================] - 7s 8ms/step - loss: 0.0244 - val_loss: 0.0243\n",
            "Epoch 6/150\n",
            "858/858 [==============================] - 7s 8ms/step - loss: 0.0243 - val_loss: 0.0242\n",
            "Epoch 7/150\n",
            "858/858 [==============================] - 7s 8ms/step - loss: 0.0242 - val_loss: 0.0239\n",
            "Epoch 8/150\n",
            "858/858 [==============================] - 7s 8ms/step - loss: 0.0241 - val_loss: 0.0239\n",
            "Epoch 9/150\n",
            "858/858 [==============================] - 7s 8ms/step - loss: 0.0240 - val_loss: 0.0237\n",
            "Epoch 10/150\n",
            "858/858 [==============================] - 7s 8ms/step - loss: 0.0239 - val_loss: 0.0236\n",
            "Epoch 11/150\n",
            "858/858 [==============================] - 7s 8ms/step - loss: 0.0238 - val_loss: 0.0234\n",
            "Epoch 12/150\n",
            "858/858 [==============================] - 7s 8ms/step - loss: 0.0237 - val_loss: 0.0234\n",
            "Epoch 13/150\n",
            "858/858 [==============================] - 7s 9ms/step - loss: 0.0235 - val_loss: 0.0233\n",
            "Epoch 14/150\n",
            "858/858 [==============================] - 7s 8ms/step - loss: 0.0234 - val_loss: 0.0231\n",
            "Epoch 15/150\n",
            "858/858 [==============================] - 7s 8ms/step - loss: 0.0233 - val_loss: 0.0228\n",
            "Epoch 16/150\n",
            "858/858 [==============================] - 7s 8ms/step - loss: 0.0232 - val_loss: 0.0229\n",
            "Epoch 17/150\n",
            "858/858 [==============================] - 7s 8ms/step - loss: 0.0230 - val_loss: 0.0223\n",
            "Epoch 18/150\n",
            "858/858 [==============================] - 7s 8ms/step - loss: 0.0229 - val_loss: 0.0225\n",
            "Epoch 19/150\n",
            "858/858 [==============================] - 7s 8ms/step - loss: 0.0231 - val_loss: 0.0224\n",
            "Epoch 20/150\n",
            "858/858 [==============================] - 7s 8ms/step - loss: 0.0231 - val_loss: 0.0225\n",
            "Epoch 21/150\n",
            "858/858 [==============================] - 7s 8ms/step - loss: 0.0228 - val_loss: 0.0226\n",
            "Epoch 22/150\n",
            "858/858 [==============================] - 7s 8ms/step - loss: 0.0227 - val_loss: 0.0224\n",
            "Epoch 23/150\n",
            "858/858 [==============================] - 7s 8ms/step - loss: 0.0226 - val_loss: 0.0221\n",
            "Epoch 24/150\n",
            "858/858 [==============================] - 7s 8ms/step - loss: 0.0226 - val_loss: 0.0221\n",
            "Epoch 25/150\n",
            "858/858 [==============================] - 7s 8ms/step - loss: 0.0225 - val_loss: 0.0219\n",
            "Epoch 26/150\n",
            "858/858 [==============================] - 7s 8ms/step - loss: 0.0224 - val_loss: 0.0220\n",
            "Epoch 27/150\n",
            "858/858 [==============================] - 7s 8ms/step - loss: 0.0223 - val_loss: 0.0220\n",
            "Epoch 28/150\n",
            "858/858 [==============================] - 7s 8ms/step - loss: 0.0223 - val_loss: 0.0217\n",
            "Epoch 29/150\n",
            "858/858 [==============================] - 7s 8ms/step - loss: 0.0221 - val_loss: 0.0216\n",
            "Epoch 30/150\n",
            "858/858 [==============================] - 7s 8ms/step - loss: 0.0221 - val_loss: 0.0217\n",
            "Epoch 31/150\n",
            "858/858 [==============================] - 7s 8ms/step - loss: 0.0221 - val_loss: 0.0215\n",
            "Epoch 32/150\n",
            "856/858 [============================>.] - ETA: 0s - loss: 0.0220Restoring model weights from the end of the best epoch: 17.\n",
            "858/858 [==============================] - 7s 8ms/step - loss: 0.0220 - val_loss: 0.0215\n",
            "Epoch 32: early stopping\n"
          ]
        },
        {
          "output_type": "execute_result",
          "data": {
            "text/plain": [
              "<keras.callbacks.History at 0x7f00da43ea90>"
            ]
          },
          "metadata": {},
          "execution_count": 22
        }
      ]
    },
    {
      "cell_type": "code",
      "source": [
        "# Evaluate model on test set\n",
        "mse = model.evaluate(X_test, y_test, verbose=0)\n",
        "\n",
        "# Get model predictions on test set\n",
        "y_pred = model.predict(X_test)\n",
        "\n",
        "# Calculate MAE\n",
        "mae = mean_absolute_error(y_test, y_pred)\n",
        "\n",
        "print(f\"Simple LSTM -  MSE: {mse:.4f}\")\n",
        "print(f\"Simple LSTM -  MAE: {mae:.4f}\")"
      ],
      "metadata": {
        "colab": {
          "base_uri": "https://localhost:8080/"
        },
        "id": "_vd3PX8scTE0",
        "outputId": "8da69a4f-4692-4c84-c2e2-09110373fd7a"
      },
      "execution_count": null,
      "outputs": [
        {
          "output_type": "stream",
          "name": "stdout",
          "text": [
            "699/699 [==============================] - 3s 2ms/step\n",
            "Simple LSTM -  MSE: 0.0622\n",
            "Simple LSTM -  MAE: 0.1359\n"
          ]
        }
      ]
    },
    {
      "cell_type": "code",
      "source": [
        "# Compute stochastic dropout\n",
        "scores = []\n",
        "for i in tqdm.tqdm(range(0,100)):\n",
        "    scores.append(mean_absolute_error(y_test, model.predict(X_test).ravel()))\n",
        "\n",
        "print(np.mean(scores), np.std(scores))"
      ],
      "metadata": {
        "id": "4hFlVDHLehsh",
        "colab": {
          "base_uri": "https://localhost:8080/"
        },
        "outputId": "cb1d335c-5bdc-4262-c56c-02b68fb04551"
      },
      "execution_count": null,
      "outputs": [
        {
          "output_type": "stream",
          "name": "stderr",
          "text": [
            "\r  0%|          | 0/100 [00:00<?, ?it/s]"
          ]
        },
        {
          "output_type": "stream",
          "name": "stdout",
          "text": [
            "699/699 [==============================] - 2s 2ms/step\n"
          ]
        },
        {
          "output_type": "stream",
          "name": "stderr",
          "text": [
            "\r  1%|          | 1/100 [00:01<03:17,  1.99s/it]"
          ]
        },
        {
          "output_type": "stream",
          "name": "stdout",
          "text": [
            "699/699 [==============================] - 2s 2ms/step\n"
          ]
        },
        {
          "output_type": "stream",
          "name": "stderr",
          "text": [
            "\r  2%|▏         | 2/100 [00:04<03:17,  2.01s/it]"
          ]
        },
        {
          "output_type": "stream",
          "name": "stdout",
          "text": [
            "699/699 [==============================] - 2s 2ms/step\n"
          ]
        },
        {
          "output_type": "stream",
          "name": "stderr",
          "text": [
            "\r  3%|▎         | 3/100 [00:06<03:13,  2.00s/it]"
          ]
        },
        {
          "output_type": "stream",
          "name": "stdout",
          "text": [
            "699/699 [==============================] - 2s 2ms/step\n"
          ]
        },
        {
          "output_type": "stream",
          "name": "stderr",
          "text": [
            "\r  4%|▍         | 4/100 [00:07<03:11,  1.99s/it]"
          ]
        },
        {
          "output_type": "stream",
          "name": "stdout",
          "text": [
            "699/699 [==============================] - 2s 2ms/step\n"
          ]
        },
        {
          "output_type": "stream",
          "name": "stderr",
          "text": [
            "\r  5%|▌         | 5/100 [00:09<03:08,  1.98s/it]"
          ]
        },
        {
          "output_type": "stream",
          "name": "stdout",
          "text": [
            "699/699 [==============================] - 2s 2ms/step\n"
          ]
        },
        {
          "output_type": "stream",
          "name": "stderr",
          "text": [
            "\r  6%|▌         | 6/100 [00:11<03:06,  1.98s/it]"
          ]
        },
        {
          "output_type": "stream",
          "name": "stdout",
          "text": [
            "699/699 [==============================] - 2s 2ms/step\n"
          ]
        },
        {
          "output_type": "stream",
          "name": "stderr",
          "text": [
            "\r  7%|▋         | 7/100 [00:13<03:04,  1.98s/it]"
          ]
        },
        {
          "output_type": "stream",
          "name": "stdout",
          "text": [
            "699/699 [==============================] - 2s 2ms/step\n"
          ]
        },
        {
          "output_type": "stream",
          "name": "stderr",
          "text": [
            "\r  8%|▊         | 8/100 [00:15<03:03,  1.99s/it]"
          ]
        },
        {
          "output_type": "stream",
          "name": "stdout",
          "text": [
            "699/699 [==============================] - 2s 2ms/step\n"
          ]
        },
        {
          "output_type": "stream",
          "name": "stderr",
          "text": [
            "\r  9%|▉         | 9/100 [00:17<03:00,  1.98s/it]"
          ]
        },
        {
          "output_type": "stream",
          "name": "stdout",
          "text": [
            "699/699 [==============================] - 2s 2ms/step\n"
          ]
        },
        {
          "output_type": "stream",
          "name": "stderr",
          "text": [
            "\r 10%|█         | 10/100 [00:19<02:58,  1.98s/it]"
          ]
        },
        {
          "output_type": "stream",
          "name": "stdout",
          "text": [
            "699/699 [==============================] - 2s 2ms/step\n"
          ]
        },
        {
          "output_type": "stream",
          "name": "stderr",
          "text": [
            "\r 11%|█         | 11/100 [00:21<02:56,  1.98s/it]"
          ]
        },
        {
          "output_type": "stream",
          "name": "stdout",
          "text": [
            "699/699 [==============================] - 2s 2ms/step\n"
          ]
        },
        {
          "output_type": "stream",
          "name": "stderr",
          "text": [
            "\r 12%|█▏        | 12/100 [00:23<02:54,  1.99s/it]"
          ]
        },
        {
          "output_type": "stream",
          "name": "stdout",
          "text": [
            "699/699 [==============================] - 2s 2ms/step\n"
          ]
        },
        {
          "output_type": "stream",
          "name": "stderr",
          "text": [
            "\r 13%|█▎        | 13/100 [00:25<02:52,  1.99s/it]"
          ]
        },
        {
          "output_type": "stream",
          "name": "stdout",
          "text": [
            "699/699 [==============================] - 2s 2ms/step\n"
          ]
        },
        {
          "output_type": "stream",
          "name": "stderr",
          "text": [
            "\r 14%|█▍        | 14/100 [00:27<02:52,  2.00s/it]"
          ]
        },
        {
          "output_type": "stream",
          "name": "stdout",
          "text": [
            "699/699 [==============================] - 2s 2ms/step\n"
          ]
        },
        {
          "output_type": "stream",
          "name": "stderr",
          "text": [
            "\r 15%|█▌        | 15/100 [00:29<02:50,  2.00s/it]"
          ]
        },
        {
          "output_type": "stream",
          "name": "stdout",
          "text": [
            "699/699 [==============================] - 2s 2ms/step\n"
          ]
        },
        {
          "output_type": "stream",
          "name": "stderr",
          "text": [
            "\r 16%|█▌        | 16/100 [00:31<02:47,  1.99s/it]"
          ]
        },
        {
          "output_type": "stream",
          "name": "stdout",
          "text": [
            "699/699 [==============================] - 2s 2ms/step\n"
          ]
        },
        {
          "output_type": "stream",
          "name": "stderr",
          "text": [
            "\r 17%|█▋        | 17/100 [00:33<02:46,  2.00s/it]"
          ]
        },
        {
          "output_type": "stream",
          "name": "stdout",
          "text": [
            "699/699 [==============================] - 2s 2ms/step\n"
          ]
        },
        {
          "output_type": "stream",
          "name": "stderr",
          "text": [
            "\r 18%|█▊        | 18/100 [00:35<02:46,  2.04s/it]"
          ]
        },
        {
          "output_type": "stream",
          "name": "stdout",
          "text": [
            "699/699 [==============================] - 2s 2ms/step\n"
          ]
        },
        {
          "output_type": "stream",
          "name": "stderr",
          "text": [
            "\r 19%|█▉        | 19/100 [00:37<02:43,  2.02s/it]"
          ]
        },
        {
          "output_type": "stream",
          "name": "stdout",
          "text": [
            "699/699 [==============================] - 2s 2ms/step\n"
          ]
        },
        {
          "output_type": "stream",
          "name": "stderr",
          "text": [
            "\r 20%|██        | 20/100 [00:39<02:41,  2.02s/it]"
          ]
        },
        {
          "output_type": "stream",
          "name": "stdout",
          "text": [
            "699/699 [==============================] - 2s 2ms/step\n"
          ]
        },
        {
          "output_type": "stream",
          "name": "stderr",
          "text": [
            "\r 21%|██        | 21/100 [00:41<02:39,  2.02s/it]"
          ]
        },
        {
          "output_type": "stream",
          "name": "stdout",
          "text": [
            "699/699 [==============================] - 2s 2ms/step\n"
          ]
        },
        {
          "output_type": "stream",
          "name": "stderr",
          "text": [
            "\r 22%|██▏       | 22/100 [00:43<02:36,  2.01s/it]"
          ]
        },
        {
          "output_type": "stream",
          "name": "stdout",
          "text": [
            "699/699 [==============================] - 2s 2ms/step\n"
          ]
        },
        {
          "output_type": "stream",
          "name": "stderr",
          "text": [
            "\r 23%|██▎       | 23/100 [00:45<02:34,  2.00s/it]"
          ]
        },
        {
          "output_type": "stream",
          "name": "stdout",
          "text": [
            "699/699 [==============================] - 2s 2ms/step\n"
          ]
        },
        {
          "output_type": "stream",
          "name": "stderr",
          "text": [
            "\r 24%|██▍       | 24/100 [00:47<02:31,  1.99s/it]"
          ]
        },
        {
          "output_type": "stream",
          "name": "stdout",
          "text": [
            "699/699 [==============================] - 2s 2ms/step\n"
          ]
        },
        {
          "output_type": "stream",
          "name": "stderr",
          "text": [
            "\r 25%|██▌       | 25/100 [00:49<02:28,  1.98s/it]"
          ]
        },
        {
          "output_type": "stream",
          "name": "stdout",
          "text": [
            "699/699 [==============================] - 2s 2ms/step\n"
          ]
        },
        {
          "output_type": "stream",
          "name": "stderr",
          "text": [
            "\r 26%|██▌       | 26/100 [00:51<02:27,  1.99s/it]"
          ]
        },
        {
          "output_type": "stream",
          "name": "stdout",
          "text": [
            "699/699 [==============================] - 2s 2ms/step\n"
          ]
        },
        {
          "output_type": "stream",
          "name": "stderr",
          "text": [
            "\r 27%|██▋       | 27/100 [00:53<02:26,  2.00s/it]"
          ]
        },
        {
          "output_type": "stream",
          "name": "stdout",
          "text": [
            "699/699 [==============================] - 2s 2ms/step\n"
          ]
        },
        {
          "output_type": "stream",
          "name": "stderr",
          "text": [
            "\r 28%|██▊       | 28/100 [00:55<02:23,  1.99s/it]"
          ]
        },
        {
          "output_type": "stream",
          "name": "stdout",
          "text": [
            "699/699 [==============================] - 2s 2ms/step\n"
          ]
        },
        {
          "output_type": "stream",
          "name": "stderr",
          "text": [
            "\r 29%|██▉       | 29/100 [00:57<02:21,  1.99s/it]"
          ]
        },
        {
          "output_type": "stream",
          "name": "stdout",
          "text": [
            "699/699 [==============================] - 2s 2ms/step\n"
          ]
        },
        {
          "output_type": "stream",
          "name": "stderr",
          "text": [
            "\r 30%|███       | 30/100 [00:59<02:19,  1.99s/it]"
          ]
        },
        {
          "output_type": "stream",
          "name": "stdout",
          "text": [
            "699/699 [==============================] - 2s 2ms/step\n"
          ]
        },
        {
          "output_type": "stream",
          "name": "stderr",
          "text": [
            "\r 31%|███       | 31/100 [01:01<02:18,  2.01s/it]"
          ]
        },
        {
          "output_type": "stream",
          "name": "stdout",
          "text": [
            "699/699 [==============================] - 2s 2ms/step\n"
          ]
        },
        {
          "output_type": "stream",
          "name": "stderr",
          "text": [
            "\r 32%|███▏      | 32/100 [01:03<02:16,  2.01s/it]"
          ]
        },
        {
          "output_type": "stream",
          "name": "stdout",
          "text": [
            "699/699 [==============================] - 2s 2ms/step\n"
          ]
        },
        {
          "output_type": "stream",
          "name": "stderr",
          "text": [
            "\r 33%|███▎      | 33/100 [01:05<02:14,  2.01s/it]"
          ]
        },
        {
          "output_type": "stream",
          "name": "stdout",
          "text": [
            "699/699 [==============================] - 2s 2ms/step\n"
          ]
        },
        {
          "output_type": "stream",
          "name": "stderr",
          "text": [
            "\r 34%|███▍      | 34/100 [01:07<02:11,  2.00s/it]"
          ]
        },
        {
          "output_type": "stream",
          "name": "stdout",
          "text": [
            "699/699 [==============================] - 2s 2ms/step\n"
          ]
        },
        {
          "output_type": "stream",
          "name": "stderr",
          "text": [
            "\r 35%|███▌      | 35/100 [01:09<02:09,  1.99s/it]"
          ]
        },
        {
          "output_type": "stream",
          "name": "stdout",
          "text": [
            "699/699 [==============================] - 2s 2ms/step\n"
          ]
        },
        {
          "output_type": "stream",
          "name": "stderr",
          "text": [
            "\r 36%|███▌      | 36/100 [01:11<02:07,  1.99s/it]"
          ]
        },
        {
          "output_type": "stream",
          "name": "stdout",
          "text": [
            "699/699 [==============================] - 2s 2ms/step\n"
          ]
        },
        {
          "output_type": "stream",
          "name": "stderr",
          "text": [
            "\r 37%|███▋      | 37/100 [01:13<02:05,  1.99s/it]"
          ]
        },
        {
          "output_type": "stream",
          "name": "stdout",
          "text": [
            "699/699 [==============================] - 2s 2ms/step\n"
          ]
        },
        {
          "output_type": "stream",
          "name": "stderr",
          "text": [
            "\r 38%|███▊      | 38/100 [01:15<02:02,  1.98s/it]"
          ]
        },
        {
          "output_type": "stream",
          "name": "stdout",
          "text": [
            "699/699 [==============================] - 2s 2ms/step\n"
          ]
        },
        {
          "output_type": "stream",
          "name": "stderr",
          "text": [
            "\r 39%|███▉      | 39/100 [01:17<02:01,  1.99s/it]"
          ]
        },
        {
          "output_type": "stream",
          "name": "stdout",
          "text": [
            "699/699 [==============================] - 2s 2ms/step\n"
          ]
        },
        {
          "output_type": "stream",
          "name": "stderr",
          "text": [
            "\r 40%|████      | 40/100 [01:19<01:59,  2.00s/it]"
          ]
        },
        {
          "output_type": "stream",
          "name": "stdout",
          "text": [
            "699/699 [==============================] - 2s 2ms/step\n"
          ]
        },
        {
          "output_type": "stream",
          "name": "stderr",
          "text": [
            "\r 41%|████      | 41/100 [01:21<01:57,  1.99s/it]"
          ]
        },
        {
          "output_type": "stream",
          "name": "stdout",
          "text": [
            "699/699 [==============================] - 2s 2ms/step\n"
          ]
        },
        {
          "output_type": "stream",
          "name": "stderr",
          "text": [
            "\r 42%|████▏     | 42/100 [01:23<01:54,  1.98s/it]"
          ]
        },
        {
          "output_type": "stream",
          "name": "stdout",
          "text": [
            "699/699 [==============================] - 2s 2ms/step\n"
          ]
        },
        {
          "output_type": "stream",
          "name": "stderr",
          "text": [
            "\r 43%|████▎     | 43/100 [01:25<01:52,  1.98s/it]"
          ]
        },
        {
          "output_type": "stream",
          "name": "stdout",
          "text": [
            "699/699 [==============================] - 2s 2ms/step\n"
          ]
        },
        {
          "output_type": "stream",
          "name": "stderr",
          "text": [
            "\r 44%|████▍     | 44/100 [01:27<01:50,  1.98s/it]"
          ]
        },
        {
          "output_type": "stream",
          "name": "stdout",
          "text": [
            "699/699 [==============================] - 2s 2ms/step\n"
          ]
        },
        {
          "output_type": "stream",
          "name": "stderr",
          "text": [
            "\r 45%|████▌     | 45/100 [01:29<01:49,  1.99s/it]"
          ]
        },
        {
          "output_type": "stream",
          "name": "stdout",
          "text": [
            "699/699 [==============================] - 2s 2ms/step\n"
          ]
        },
        {
          "output_type": "stream",
          "name": "stderr",
          "text": [
            "\r 46%|████▌     | 46/100 [01:31<01:48,  2.01s/it]"
          ]
        },
        {
          "output_type": "stream",
          "name": "stdout",
          "text": [
            "699/699 [==============================] - 2s 2ms/step\n"
          ]
        },
        {
          "output_type": "stream",
          "name": "stderr",
          "text": [
            "\r 47%|████▋     | 47/100 [01:33<01:47,  2.02s/it]"
          ]
        },
        {
          "output_type": "stream",
          "name": "stdout",
          "text": [
            "699/699 [==============================] - 2s 2ms/step\n"
          ]
        },
        {
          "output_type": "stream",
          "name": "stderr",
          "text": [
            "\r 48%|████▊     | 48/100 [01:35<01:45,  2.03s/it]"
          ]
        },
        {
          "output_type": "stream",
          "name": "stdout",
          "text": [
            "699/699 [==============================] - 2s 2ms/step\n"
          ]
        },
        {
          "output_type": "stream",
          "name": "stderr",
          "text": [
            "\r 49%|████▉     | 49/100 [01:37<01:42,  2.01s/it]"
          ]
        },
        {
          "output_type": "stream",
          "name": "stdout",
          "text": [
            "699/699 [==============================] - 2s 2ms/step\n"
          ]
        },
        {
          "output_type": "stream",
          "name": "stderr",
          "text": [
            "\r 50%|█████     | 50/100 [01:40<01:42,  2.04s/it]"
          ]
        },
        {
          "output_type": "stream",
          "name": "stdout",
          "text": [
            "699/699 [==============================] - 2s 2ms/step\n"
          ]
        },
        {
          "output_type": "stream",
          "name": "stderr",
          "text": [
            "\r 51%|█████     | 51/100 [01:42<01:39,  2.03s/it]"
          ]
        },
        {
          "output_type": "stream",
          "name": "stdout",
          "text": [
            "699/699 [==============================] - 2s 2ms/step\n"
          ]
        },
        {
          "output_type": "stream",
          "name": "stderr",
          "text": [
            "\r 52%|█████▏    | 52/100 [01:43<01:36,  2.02s/it]"
          ]
        },
        {
          "output_type": "stream",
          "name": "stdout",
          "text": [
            "699/699 [==============================] - 2s 2ms/step\n"
          ]
        },
        {
          "output_type": "stream",
          "name": "stderr",
          "text": [
            "\r 53%|█████▎    | 53/100 [01:45<01:34,  2.01s/it]"
          ]
        },
        {
          "output_type": "stream",
          "name": "stdout",
          "text": [
            "699/699 [==============================] - 2s 2ms/step\n"
          ]
        },
        {
          "output_type": "stream",
          "name": "stderr",
          "text": [
            "\r 54%|█████▍    | 54/100 [01:47<01:32,  2.00s/it]"
          ]
        },
        {
          "output_type": "stream",
          "name": "stdout",
          "text": [
            "699/699 [==============================] - 2s 2ms/step\n"
          ]
        },
        {
          "output_type": "stream",
          "name": "stderr",
          "text": [
            "\r 55%|█████▌    | 55/100 [01:49<01:29,  1.99s/it]"
          ]
        },
        {
          "output_type": "stream",
          "name": "stdout",
          "text": [
            "699/699 [==============================] - 2s 2ms/step\n"
          ]
        },
        {
          "output_type": "stream",
          "name": "stderr",
          "text": [
            "\r 56%|█████▌    | 56/100 [01:51<01:27,  1.99s/it]"
          ]
        },
        {
          "output_type": "stream",
          "name": "stdout",
          "text": [
            "699/699 [==============================] - 2s 2ms/step\n"
          ]
        },
        {
          "output_type": "stream",
          "name": "stderr",
          "text": [
            "\r 57%|█████▋    | 57/100 [01:53<01:26,  2.00s/it]"
          ]
        },
        {
          "output_type": "stream",
          "name": "stdout",
          "text": [
            "699/699 [==============================] - 2s 2ms/step\n"
          ]
        },
        {
          "output_type": "stream",
          "name": "stderr",
          "text": [
            "\r 58%|█████▊    | 58/100 [01:55<01:24,  2.01s/it]"
          ]
        },
        {
          "output_type": "stream",
          "name": "stdout",
          "text": [
            "699/699 [==============================] - 2s 2ms/step\n"
          ]
        },
        {
          "output_type": "stream",
          "name": "stderr",
          "text": [
            "\r 59%|█████▉    | 59/100 [01:57<01:21,  2.00s/it]"
          ]
        },
        {
          "output_type": "stream",
          "name": "stdout",
          "text": [
            "699/699 [==============================] - 2s 2ms/step\n"
          ]
        },
        {
          "output_type": "stream",
          "name": "stderr",
          "text": [
            "\r 60%|██████    | 60/100 [01:59<01:19,  1.99s/it]"
          ]
        },
        {
          "output_type": "stream",
          "name": "stdout",
          "text": [
            "699/699 [==============================] - 2s 2ms/step\n"
          ]
        },
        {
          "output_type": "stream",
          "name": "stderr",
          "text": [
            "\r 61%|██████    | 61/100 [02:01<01:17,  1.98s/it]"
          ]
        },
        {
          "output_type": "stream",
          "name": "stdout",
          "text": [
            "699/699 [==============================] - 2s 2ms/step\n"
          ]
        },
        {
          "output_type": "stream",
          "name": "stderr",
          "text": [
            "\r 62%|██████▏   | 62/100 [02:03<01:15,  1.98s/it]"
          ]
        },
        {
          "output_type": "stream",
          "name": "stdout",
          "text": [
            "699/699 [==============================] - 2s 2ms/step\n"
          ]
        },
        {
          "output_type": "stream",
          "name": "stderr",
          "text": [
            "\r 63%|██████▎   | 63/100 [02:05<01:13,  1.98s/it]"
          ]
        },
        {
          "output_type": "stream",
          "name": "stdout",
          "text": [
            "699/699 [==============================] - 2s 2ms/step\n"
          ]
        },
        {
          "output_type": "stream",
          "name": "stderr",
          "text": [
            "\r 64%|██████▍   | 64/100 [02:07<01:11,  1.99s/it]"
          ]
        },
        {
          "output_type": "stream",
          "name": "stdout",
          "text": [
            "699/699 [==============================] - 2s 2ms/step\n"
          ]
        },
        {
          "output_type": "stream",
          "name": "stderr",
          "text": [
            "\r 65%|██████▌   | 65/100 [02:09<01:09,  1.99s/it]"
          ]
        },
        {
          "output_type": "stream",
          "name": "stdout",
          "text": [
            "699/699 [==============================] - 2s 2ms/step\n"
          ]
        },
        {
          "output_type": "stream",
          "name": "stderr",
          "text": [
            "\r 66%|██████▌   | 66/100 [02:11<01:07,  1.98s/it]"
          ]
        },
        {
          "output_type": "stream",
          "name": "stdout",
          "text": [
            "699/699 [==============================] - 2s 2ms/step\n"
          ]
        },
        {
          "output_type": "stream",
          "name": "stderr",
          "text": [
            "\r 67%|██████▋   | 67/100 [02:13<01:05,  1.98s/it]"
          ]
        },
        {
          "output_type": "stream",
          "name": "stdout",
          "text": [
            "699/699 [==============================] - 2s 2ms/step\n"
          ]
        },
        {
          "output_type": "stream",
          "name": "stderr",
          "text": [
            "\r 68%|██████▊   | 68/100 [02:15<01:03,  1.98s/it]"
          ]
        },
        {
          "output_type": "stream",
          "name": "stdout",
          "text": [
            "699/699 [==============================] - 2s 2ms/step\n"
          ]
        },
        {
          "output_type": "stream",
          "name": "stderr",
          "text": [
            "\r 69%|██████▉   | 69/100 [02:17<01:01,  1.98s/it]"
          ]
        },
        {
          "output_type": "stream",
          "name": "stdout",
          "text": [
            "699/699 [==============================] - 2s 2ms/step\n"
          ]
        },
        {
          "output_type": "stream",
          "name": "stderr",
          "text": [
            "\r 70%|███████   | 70/100 [02:19<00:59,  1.98s/it]"
          ]
        },
        {
          "output_type": "stream",
          "name": "stdout",
          "text": [
            "699/699 [==============================] - 2s 2ms/step\n"
          ]
        },
        {
          "output_type": "stream",
          "name": "stderr",
          "text": [
            "\r 71%|███████   | 71/100 [02:21<00:57,  1.99s/it]"
          ]
        },
        {
          "output_type": "stream",
          "name": "stdout",
          "text": [
            "699/699 [==============================] - 2s 2ms/step\n"
          ]
        },
        {
          "output_type": "stream",
          "name": "stderr",
          "text": [
            "\r 72%|███████▏  | 72/100 [02:23<00:55,  1.99s/it]"
          ]
        },
        {
          "output_type": "stream",
          "name": "stdout",
          "text": [
            "699/699 [==============================] - 2s 2ms/step\n"
          ]
        },
        {
          "output_type": "stream",
          "name": "stderr",
          "text": [
            "\r 73%|███████▎  | 73/100 [02:25<00:53,  1.99s/it]"
          ]
        },
        {
          "output_type": "stream",
          "name": "stdout",
          "text": [
            "699/699 [==============================] - 2s 2ms/step\n"
          ]
        },
        {
          "output_type": "stream",
          "name": "stderr",
          "text": [
            "\r 74%|███████▍  | 74/100 [02:27<00:51,  1.99s/it]"
          ]
        },
        {
          "output_type": "stream",
          "name": "stdout",
          "text": [
            "699/699 [==============================] - 2s 2ms/step\n"
          ]
        },
        {
          "output_type": "stream",
          "name": "stderr",
          "text": [
            "\r 75%|███████▌  | 75/100 [02:29<00:49,  1.99s/it]"
          ]
        },
        {
          "output_type": "stream",
          "name": "stdout",
          "text": [
            "699/699 [==============================] - 2s 2ms/step\n"
          ]
        },
        {
          "output_type": "stream",
          "name": "stderr",
          "text": [
            "\r 76%|███████▌  | 76/100 [02:31<00:47,  1.99s/it]"
          ]
        },
        {
          "output_type": "stream",
          "name": "stdout",
          "text": [
            "699/699 [==============================] - 2s 2ms/step\n"
          ]
        },
        {
          "output_type": "stream",
          "name": "stderr",
          "text": [
            "\r 77%|███████▋  | 77/100 [02:33<00:45,  2.00s/it]"
          ]
        },
        {
          "output_type": "stream",
          "name": "stdout",
          "text": [
            "699/699 [==============================] - 2s 2ms/step\n"
          ]
        },
        {
          "output_type": "stream",
          "name": "stderr",
          "text": [
            "\r 78%|███████▊  | 78/100 [02:35<00:43,  1.99s/it]"
          ]
        },
        {
          "output_type": "stream",
          "name": "stdout",
          "text": [
            "699/699 [==============================] - 2s 2ms/step\n"
          ]
        },
        {
          "output_type": "stream",
          "name": "stderr",
          "text": [
            "\r 79%|███████▉  | 79/100 [02:37<00:41,  1.99s/it]"
          ]
        },
        {
          "output_type": "stream",
          "name": "stdout",
          "text": [
            "699/699 [==============================] - 2s 2ms/step\n"
          ]
        },
        {
          "output_type": "stream",
          "name": "stderr",
          "text": [
            "\r 80%|████████  | 80/100 [02:39<00:39,  1.98s/it]"
          ]
        },
        {
          "output_type": "stream",
          "name": "stdout",
          "text": [
            "699/699 [==============================] - 2s 2ms/step\n"
          ]
        },
        {
          "output_type": "stream",
          "name": "stderr",
          "text": [
            "\r 81%|████████  | 81/100 [02:41<00:37,  1.98s/it]"
          ]
        },
        {
          "output_type": "stream",
          "name": "stdout",
          "text": [
            "699/699 [==============================] - 2s 2ms/step\n"
          ]
        },
        {
          "output_type": "stream",
          "name": "stderr",
          "text": [
            "\r 82%|████████▏ | 82/100 [02:43<00:35,  1.99s/it]"
          ]
        },
        {
          "output_type": "stream",
          "name": "stdout",
          "text": [
            "699/699 [==============================] - 2s 2ms/step\n"
          ]
        },
        {
          "output_type": "stream",
          "name": "stderr",
          "text": [
            "\r 83%|████████▎ | 83/100 [02:45<00:33,  1.99s/it]"
          ]
        },
        {
          "output_type": "stream",
          "name": "stdout",
          "text": [
            "699/699 [==============================] - 2s 2ms/step\n"
          ]
        },
        {
          "output_type": "stream",
          "name": "stderr",
          "text": [
            "\r 84%|████████▍ | 84/100 [02:47<00:31,  1.99s/it]"
          ]
        },
        {
          "output_type": "stream",
          "name": "stdout",
          "text": [
            "699/699 [==============================] - 2s 2ms/step\n"
          ]
        },
        {
          "output_type": "stream",
          "name": "stderr",
          "text": [
            "\r 85%|████████▌ | 85/100 [02:49<00:29,  1.98s/it]"
          ]
        },
        {
          "output_type": "stream",
          "name": "stdout",
          "text": [
            "699/699 [==============================] - 2s 2ms/step\n"
          ]
        },
        {
          "output_type": "stream",
          "name": "stderr",
          "text": [
            "\r 86%|████████▌ | 86/100 [02:51<00:27,  1.98s/it]"
          ]
        },
        {
          "output_type": "stream",
          "name": "stdout",
          "text": [
            "699/699 [==============================] - 2s 2ms/step\n"
          ]
        },
        {
          "output_type": "stream",
          "name": "stderr",
          "text": [
            "\r 87%|████████▋ | 87/100 [02:53<00:25,  1.99s/it]"
          ]
        },
        {
          "output_type": "stream",
          "name": "stdout",
          "text": [
            "699/699 [==============================] - 2s 2ms/step\n"
          ]
        },
        {
          "output_type": "stream",
          "name": "stderr",
          "text": [
            "\r 88%|████████▊ | 88/100 [02:55<00:23,  1.99s/it]"
          ]
        },
        {
          "output_type": "stream",
          "name": "stdout",
          "text": [
            "699/699 [==============================] - 2s 2ms/step\n"
          ]
        },
        {
          "output_type": "stream",
          "name": "stderr",
          "text": [
            "\r 89%|████████▉ | 89/100 [02:57<00:21,  2.00s/it]"
          ]
        },
        {
          "output_type": "stream",
          "name": "stdout",
          "text": [
            "699/699 [==============================] - 2s 2ms/step\n"
          ]
        },
        {
          "output_type": "stream",
          "name": "stderr",
          "text": [
            "\r 90%|█████████ | 90/100 [02:59<00:20,  2.00s/it]"
          ]
        },
        {
          "output_type": "stream",
          "name": "stdout",
          "text": [
            "699/699 [==============================] - 2s 2ms/step\n"
          ]
        },
        {
          "output_type": "stream",
          "name": "stderr",
          "text": [
            "\r 91%|█████████ | 91/100 [03:01<00:17,  1.99s/it]"
          ]
        },
        {
          "output_type": "stream",
          "name": "stdout",
          "text": [
            "699/699 [==============================] - 2s 2ms/step\n"
          ]
        },
        {
          "output_type": "stream",
          "name": "stderr",
          "text": [
            "\r 92%|█████████▏| 92/100 [03:03<00:15,  1.99s/it]"
          ]
        },
        {
          "output_type": "stream",
          "name": "stdout",
          "text": [
            "699/699 [==============================] - 2s 2ms/step\n"
          ]
        },
        {
          "output_type": "stream",
          "name": "stderr",
          "text": [
            "\r 93%|█████████▎| 93/100 [03:05<00:13,  1.99s/it]"
          ]
        },
        {
          "output_type": "stream",
          "name": "stdout",
          "text": [
            "699/699 [==============================] - 2s 2ms/step\n"
          ]
        },
        {
          "output_type": "stream",
          "name": "stderr",
          "text": [
            "\r 94%|█████████▍| 94/100 [03:07<00:11,  1.99s/it]"
          ]
        },
        {
          "output_type": "stream",
          "name": "stdout",
          "text": [
            "699/699 [==============================] - 2s 2ms/step\n"
          ]
        },
        {
          "output_type": "stream",
          "name": "stderr",
          "text": [
            "\r 95%|█████████▌| 95/100 [03:09<00:09,  1.99s/it]"
          ]
        },
        {
          "output_type": "stream",
          "name": "stdout",
          "text": [
            "699/699 [==============================] - 2s 2ms/step\n"
          ]
        },
        {
          "output_type": "stream",
          "name": "stderr",
          "text": [
            "\r 96%|█████████▌| 96/100 [03:11<00:07,  2.00s/it]"
          ]
        },
        {
          "output_type": "stream",
          "name": "stdout",
          "text": [
            "699/699 [==============================] - 2s 2ms/step\n"
          ]
        },
        {
          "output_type": "stream",
          "name": "stderr",
          "text": [
            "\r 97%|█████████▋| 97/100 [03:13<00:05,  2.00s/it]"
          ]
        },
        {
          "output_type": "stream",
          "name": "stdout",
          "text": [
            "699/699 [==============================] - 2s 2ms/step\n"
          ]
        },
        {
          "output_type": "stream",
          "name": "stderr",
          "text": [
            "\r 98%|█████████▊| 98/100 [03:15<00:03,  1.99s/it]"
          ]
        },
        {
          "output_type": "stream",
          "name": "stdout",
          "text": [
            "699/699 [==============================] - 2s 2ms/step\n"
          ]
        },
        {
          "output_type": "stream",
          "name": "stderr",
          "text": [
            "\r 99%|█████████▉| 99/100 [03:17<00:01,  1.98s/it]"
          ]
        },
        {
          "output_type": "stream",
          "name": "stdout",
          "text": [
            "699/699 [==============================] - 2s 2ms/step\n"
          ]
        },
        {
          "output_type": "stream",
          "name": "stderr",
          "text": [
            "100%|██████████| 100/100 [03:19<00:00,  1.99s/it]"
          ]
        },
        {
          "output_type": "stream",
          "name": "stdout",
          "text": [
            "0.1360151384971745 0.00016747500243976816\n"
          ]
        },
        {
          "output_type": "stream",
          "name": "stderr",
          "text": [
            "\n"
          ]
        }
      ]
    },
    {
      "cell_type": "code",
      "source": [
        "# Printing results of evaluation for LSTM Model\n",
        "results['LSTM'] = {'mean':np.mean(scores), 'std':np.std(scores)}\n",
        "\n",
        "for key, value in results.items():\n",
        "    print(key, ': ', value, '\\n')"
      ],
      "metadata": {
        "id": "ak9uIMeZewqv",
        "colab": {
          "base_uri": "https://localhost:8080/"
        },
        "outputId": "d9a6c1e1-0e2f-4c9c-ce7c-f32cb451c39a"
      },
      "execution_count": null,
      "outputs": [
        {
          "output_type": "stream",
          "name": "stdout",
          "text": [
            "LSTM :  {'mean': 0.1360151384971745, 'std': 0.00016747500243976816} \n",
            "\n",
            "Autoencoder+LSTM :  {'mean': 0.14100622722869305, 'std': 0.00022625525867069223} \n",
            "\n"
          ]
        }
      ]
    },
    {
      "cell_type": "markdown",
      "source": [
        "# **Linear Tree XGBoost**"
      ],
      "metadata": {
        "id": "0_r2MI76vfU-"
      }
    },
    {
      "cell_type": "code",
      "source": [
        "with tf.device('/GPU:0'):\n",
        "  X_train, X_test, y_train, y_test = train_test_split(\n",
        "      df.iloc[:, 3:], \n",
        "      df['RET'], \n",
        "      test_size=0.2, shuffle=False)\n",
        "\n",
        "  # Setting Grid Search Parameters\n",
        "  grid_search_params = {\n",
        "      'colsample_bytree': [0.7],\n",
        "      'learning_rate': [0.2],\n",
        "      'n_estimators': [100],\n",
        "      'subsample': [0.8],\n",
        "      'max_depth': [2, 3, 5]\n",
        "  }\n",
        "\n",
        "  # Model construction\n",
        "  xg_grid_reg = xgb.XGBRegressor(objective= \"reg:squarederror\", tree_method='gpu_hist', gpu_id=0)\n",
        "\n",
        "  # Construct grid searching \n",
        "  grid = GridSearchCV(estimator=xg_grid_reg, param_grid=grid_search_params, scoring='neg_mean_squared_error', cv=4, verbose=1)\n",
        "\n",
        "  # Fitting the data\n",
        "  grid.fit(X_train, y_train)\n",
        "\n",
        "  # Printing result\n",
        "  print('\\n\\n\\n#############      Result      #################')\n",
        "  print(\"GridSearchCV\")\n",
        "  print(\"Best parameters found: \", grid.best_params_)\n",
        "  print(\"\\nLowest MSE found: \", -grid.best_score_,'\\nand')\n",
        "  print(\"Lowest MAE found: \", mean_absolute_error(y_test, grid.predict(X_test)), '\\n')\n",
        "\n",
        "  # Using the best parameters to make the final model\n",
        "  xg_reg = xgb.XGBRegressor(objective= \"reg:squarederror\", \n",
        "                            **grid.best_params_, tree_method='gpu_hist', gpu_id=0)\n",
        "\n",
        "  # Fitting the data to the model\n",
        "  xg_reg.fit(X_train, y_train)\n",
        "\n",
        "  # Prediction\n",
        "  y_pred = xg_reg.predict(X_test)\n",
        "\n",
        "  # Evaluating the model\n",
        "  mse = mean_squared_error(y_test, y_pred)\n",
        "  mae = mean_absolute_error(y_test, y_pred)\n",
        "  print(\"MSE: %f\" % (mse))\n",
        "  print(\"MAE: %f\" % (mae))"
      ],
      "metadata": {
        "id": "DLVxqPMgezwK",
        "colab": {
          "base_uri": "https://localhost:8080/"
        },
        "outputId": "cba3ca7a-73b6-43b4-f48e-b0779aae8933"
      },
      "execution_count": null,
      "outputs": [
        {
          "output_type": "stream",
          "name": "stdout",
          "text": [
            "Fitting 4 folds for each of 3 candidates, totalling 12 fits\n",
            "\n",
            "\n",
            "\n",
            "#############      Result      #################\n",
            "GridSearchCV\n",
            "Best parameters found:  {'colsample_bytree': 0.7, 'learning_rate': 0.2, 'max_depth': 5, 'n_estimators': 100, 'subsample': 0.8}\n",
            "\n",
            "Lowest MSE found:  0.022230000684459947 \n",
            "and\n",
            "Lowest MAE found:  0.13017086453281054 \n",
            "\n",
            "MSE: 0.062615\n",
            "MAE: 0.130171\n"
          ]
        }
      ]
    },
    {
      "cell_type": "markdown",
      "source": [
        "# **SHAP - Evaluating company characteristics**"
      ],
      "metadata": {
        "id": "UrGnYkWtvqcn"
      }
    },
    {
      "cell_type": "code",
      "source": [
        "# Split features and target\n",
        "X = df.drop(['RET', 'permno'], axis=1)\n",
        "y = df[['RET', 'permno']]\n",
        "\n",
        "# Spilt into train and test\n",
        "X_train, X_test, y_train, y_test = train_test_split(X, y, test_size=0.2, random_state=123)\n",
        "\n",
        "# Construct a NN classification model by TensorFlow\n",
        "with tf.device('/GPU:0'):\n",
        "    model = Sequential()\n",
        "    model.add(Dense(64, activation='relu', input_dim=X_train.shape[1]))\n",
        "    model.add(Dense(2))\n",
        "    model.compile(loss='mse', optimizer='adam')\n",
        "    early_stop = EarlyStopping(monitor='val_loss', patience=10, verbose=1)\n",
        "    model.fit(X_train, y_train, epochs=100, validation_data=(X_test, y_test), verbose=True, callbacks=[early_stop])"
      ],
      "metadata": {
        "id": "7yJTaJitg0LE",
        "colab": {
          "base_uri": "https://localhost:8080/"
        },
        "outputId": "80712451-bce9-47a9-8659-98600d2c26f1"
      },
      "execution_count": null,
      "outputs": [
        {
          "output_type": "stream",
          "name": "stdout",
          "text": [
            "Epoch 1/100\n",
            "8641/8641 [==============================] - 24s 3ms/step - loss: 14948582400.0000 - val_loss: 1360712960.0000\n",
            "Epoch 2/100\n",
            "8641/8641 [==============================] - 22s 2ms/step - loss: 2574790400.0000 - val_loss: 1155770880.0000\n",
            "Epoch 3/100\n",
            "8641/8641 [==============================] - 22s 3ms/step - loss: 1908566656.0000 - val_loss: 1139870592.0000\n",
            "Epoch 4/100\n",
            "8641/8641 [==============================] - 22s 2ms/step - loss: 1259577984.0000 - val_loss: 1117982592.0000\n",
            "Epoch 5/100\n",
            "8641/8641 [==============================] - 22s 2ms/step - loss: 1055384896.0000 - val_loss: 1031638720.0000\n",
            "Epoch 6/100\n",
            "8641/8641 [==============================] - 21s 2ms/step - loss: 959699648.0000 - val_loss: 947194240.0000\n",
            "Epoch 7/100\n",
            "8641/8641 [==============================] - 21s 2ms/step - loss: 967247424.0000 - val_loss: 876657984.0000\n",
            "Epoch 8/100\n",
            "8641/8641 [==============================] - 22s 2ms/step - loss: 896387328.0000 - val_loss: 865587648.0000\n",
            "Epoch 9/100\n",
            "8641/8641 [==============================] - 22s 3ms/step - loss: 890865536.0000 - val_loss: 1076472832.0000\n",
            "Epoch 10/100\n",
            "8641/8641 [==============================] - 22s 3ms/step - loss: 894804736.0000 - val_loss: 823503040.0000\n",
            "Epoch 11/100\n",
            "8641/8641 [==============================] - 22s 3ms/step - loss: 895779904.0000 - val_loss: 819361408.0000\n",
            "Epoch 12/100\n",
            "8641/8641 [==============================] - 22s 3ms/step - loss: 872172864.0000 - val_loss: 869477056.0000\n",
            "Epoch 13/100\n",
            "8641/8641 [==============================] - 22s 3ms/step - loss: 866063872.0000 - val_loss: 816317568.0000\n",
            "Epoch 14/100\n",
            "8641/8641 [==============================] - 22s 3ms/step - loss: 871649344.0000 - val_loss: 852584896.0000\n",
            "Epoch 15/100\n",
            "8641/8641 [==============================] - 22s 3ms/step - loss: 857619584.0000 - val_loss: 850467008.0000\n",
            "Epoch 16/100\n",
            "8641/8641 [==============================] - 22s 3ms/step - loss: 847848832.0000 - val_loss: 787852928.0000\n",
            "Epoch 17/100\n",
            "8641/8641 [==============================] - 22s 3ms/step - loss: 826501120.0000 - val_loss: 876403264.0000\n",
            "Epoch 18/100\n",
            "8641/8641 [==============================] - 22s 3ms/step - loss: 821956032.0000 - val_loss: 982344192.0000\n",
            "Epoch 19/100\n",
            "8641/8641 [==============================] - 22s 3ms/step - loss: 817937920.0000 - val_loss: 811715328.0000\n",
            "Epoch 20/100\n",
            "8641/8641 [==============================] - 22s 3ms/step - loss: 809667200.0000 - val_loss: 747143552.0000\n",
            "Epoch 21/100\n",
            "8641/8641 [==============================] - 22s 2ms/step - loss: 821823296.0000 - val_loss: 780264384.0000\n",
            "Epoch 22/100\n",
            "8641/8641 [==============================] - 22s 3ms/step - loss: 845905536.0000 - val_loss: 772332800.0000\n",
            "Epoch 23/100\n",
            "8641/8641 [==============================] - 22s 3ms/step - loss: 837084608.0000 - val_loss: 752517248.0000\n",
            "Epoch 24/100\n",
            "8641/8641 [==============================] - 22s 3ms/step - loss: 804478336.0000 - val_loss: 754699584.0000\n",
            "Epoch 25/100\n",
            "8641/8641 [==============================] - 22s 3ms/step - loss: 824603264.0000 - val_loss: 806623232.0000\n",
            "Epoch 26/100\n",
            "8641/8641 [==============================] - 22s 3ms/step - loss: 813220992.0000 - val_loss: 737098240.0000\n",
            "Epoch 27/100\n",
            "8641/8641 [==============================] - 22s 3ms/step - loss: 808674048.0000 - val_loss: 954276032.0000\n",
            "Epoch 28/100\n",
            "8641/8641 [==============================] - 22s 2ms/step - loss: 813360512.0000 - val_loss: 802826752.0000\n",
            "Epoch 29/100\n",
            "8641/8641 [==============================] - 22s 2ms/step - loss: 794178368.0000 - val_loss: 748399552.0000\n",
            "Epoch 30/100\n",
            "8641/8641 [==============================] - 22s 3ms/step - loss: 790159360.0000 - val_loss: 787085312.0000\n",
            "Epoch 31/100\n",
            "8641/8641 [==============================] - 22s 3ms/step - loss: 795671296.0000 - val_loss: 802349056.0000\n",
            "Epoch 32/100\n",
            "8641/8641 [==============================] - 22s 2ms/step - loss: 854007104.0000 - val_loss: 825729600.0000\n",
            "Epoch 33/100\n",
            "8641/8641 [==============================] - 22s 3ms/step - loss: 784482880.0000 - val_loss: 837504896.0000\n",
            "Epoch 34/100\n",
            "8641/8641 [==============================] - 22s 2ms/step - loss: 765989376.0000 - val_loss: 753714048.0000\n",
            "Epoch 35/100\n",
            "8641/8641 [==============================] - 22s 3ms/step - loss: 800723520.0000 - val_loss: 737604224.0000\n",
            "Epoch 36/100\n",
            "8641/8641 [==============================] - 22s 3ms/step - loss: 834800000.0000 - val_loss: 739688832.0000\n",
            "Epoch 36: early stopping\n"
          ]
        }
      ]
    },
    {
      "cell_type": "code",
      "source": [
        "# Define the explainer\n",
        "explainer = shap.KernelExplainer(model.predict, X_train[:50])\n",
        "\n",
        "# Calculate the SHAP values for each feature using 300 rows\n",
        "shap_values = explainer.shap_values(X_train[:300])"
      ],
      "metadata": {
        "id": "j6VRdjtnhRmc",
        "colab": {
          "base_uri": "https://localhost:8080/",
          "height": 1000,
          "referenced_widgets": [
            "ddca51315fcd47f78de258cc5b6763bc",
            "016f118b60b444e19f598694f2990b03",
            "2fcc348159894fbcbb70ce3b9b13aaea",
            "f77a4693e2ed439da7ded416606a9d1c",
            "aba51669a3934efb91be0dad6d9b9822",
            "f0d64c8eab614061a9505c2079f69ef4",
            "d100c777053f42228c490c802b9096c9",
            "daa560b474bd4de49d5410fb681f8b3f",
            "9bccb642935d4588bc52a0540990fa75",
            "827143cf77f2478e96f52af164df4128",
            "1348e664f5e24c7e92a1b2322420d4dd"
          ]
        },
        "outputId": "a8a1d4a4-0f47-40b5-d4d2-77eb50f07914"
      },
      "execution_count": null,
      "outputs": [
        {
          "output_type": "stream",
          "name": "stdout",
          "text": [
            "2/2 [==============================] - 0s 3ms/step\n"
          ]
        },
        {
          "output_type": "display_data",
          "data": {
            "text/plain": [
              "  0%|          | 0/300 [00:00<?, ?it/s]"
            ],
            "application/vnd.jupyter.widget-view+json": {
              "version_major": 2,
              "version_minor": 0,
              "model_id": "ddca51315fcd47f78de258cc5b6763bc"
            }
          },
          "metadata": {}
        },
        {
          "output_type": "stream",
          "name": "stdout",
          "text": [
            "1/1 [==============================] - 0s 21ms/step\n",
            "3500/3500 [==============================] - 4s 1ms/step\n",
            "1/1 [==============================] - 0s 23ms/step\n",
            "3500/3500 [==============================] - 4s 1ms/step\n",
            "1/1 [==============================] - 0s 22ms/step\n",
            "3500/3500 [==============================] - 4s 1ms/step\n",
            "1/1 [==============================] - 0s 23ms/step\n",
            "3500/3500 [==============================] - 4s 1ms/step\n",
            "1/1 [==============================] - 0s 24ms/step\n",
            "3500/3500 [==============================] - 4s 1ms/step\n",
            "1/1 [==============================] - 0s 22ms/step\n",
            "3500/3500 [==============================] - 4s 1ms/step\n",
            "1/1 [==============================] - 0s 23ms/step\n",
            "3500/3500 [==============================] - 4s 1ms/step\n",
            "1/1 [==============================] - 0s 21ms/step\n",
            "3500/3500 [==============================] - 4s 1ms/step\n",
            "1/1 [==============================] - 0s 22ms/step\n",
            "3500/3500 [==============================] - 4s 1ms/step\n",
            "1/1 [==============================] - 0s 21ms/step\n",
            "3500/3500 [==============================] - 4s 1ms/step\n",
            "1/1 [==============================] - 0s 22ms/step\n",
            "3500/3500 [==============================] - 4s 1ms/step\n",
            "1/1 [==============================] - 0s 23ms/step\n",
            "3500/3500 [==============================] - 4s 1ms/step\n",
            "1/1 [==============================] - 0s 21ms/step\n",
            "3500/3500 [==============================] - 4s 1ms/step\n",
            "1/1 [==============================] - 0s 21ms/step\n",
            "3500/3500 [==============================] - 4s 1ms/step\n",
            "1/1 [==============================] - 0s 23ms/step\n",
            "3500/3500 [==============================] - 4s 1ms/step\n",
            "1/1 [==============================] - 0s 21ms/step\n",
            "3500/3500 [==============================] - 4s 1ms/step\n",
            "1/1 [==============================] - 0s 21ms/step\n",
            "3500/3500 [==============================] - 4s 1ms/step\n",
            "1/1 [==============================] - 0s 21ms/step\n",
            "3500/3500 [==============================] - 4s 1ms/step\n",
            "1/1 [==============================] - 0s 22ms/step\n",
            "3500/3500 [==============================] - 4s 1ms/step\n",
            "1/1 [==============================] - 0s 21ms/step\n",
            "3500/3500 [==============================] - 4s 1ms/step\n",
            "1/1 [==============================] - 0s 21ms/step\n",
            "3500/3500 [==============================] - 4s 1ms/step\n",
            "1/1 [==============================] - 0s 21ms/step\n",
            "3500/3500 [==============================] - 4s 1ms/step\n",
            "1/1 [==============================] - 0s 21ms/step\n",
            "3500/3500 [==============================] - 4s 1ms/step\n",
            "1/1 [==============================] - 0s 21ms/step\n",
            "3500/3500 [==============================] - 4s 1ms/step\n",
            "1/1 [==============================] - 0s 22ms/step\n",
            "3500/3500 [==============================] - 4s 1ms/step\n",
            "1/1 [==============================] - 0s 21ms/step\n",
            "3500/3500 [==============================] - 4s 1ms/step\n",
            "1/1 [==============================] - 0s 21ms/step\n",
            "3500/3500 [==============================] - 4s 1ms/step\n",
            "1/1 [==============================] - 0s 23ms/step\n",
            "3500/3500 [==============================] - 4s 1ms/step\n",
            "1/1 [==============================] - 0s 22ms/step\n",
            "3500/3500 [==============================] - 4s 1ms/step\n",
            "1/1 [==============================] - 0s 25ms/step\n",
            "3500/3500 [==============================] - 4s 1ms/step\n",
            "1/1 [==============================] - 0s 22ms/step\n",
            "3500/3500 [==============================] - 4s 1ms/step\n",
            "1/1 [==============================] - 0s 22ms/step\n",
            "3500/3500 [==============================] - 4s 1ms/step\n",
            "1/1 [==============================] - 0s 23ms/step\n",
            "3500/3500 [==============================] - 4s 1ms/step\n",
            "1/1 [==============================] - 0s 21ms/step\n",
            "3500/3500 [==============================] - 4s 1ms/step\n",
            "1/1 [==============================] - 0s 22ms/step\n",
            "3500/3500 [==============================] - 4s 1ms/step\n",
            "1/1 [==============================] - 0s 23ms/step\n",
            "3500/3500 [==============================] - 4s 1ms/step\n",
            "1/1 [==============================] - 0s 22ms/step\n",
            "3500/3500 [==============================] - 4s 1ms/step\n",
            "1/1 [==============================] - 0s 22ms/step\n",
            "3500/3500 [==============================] - 4s 1ms/step\n",
            "1/1 [==============================] - 0s 21ms/step\n",
            "3500/3500 [==============================] - 4s 1ms/step\n",
            "1/1 [==============================] - 0s 22ms/step\n",
            "3500/3500 [==============================] - 4s 1ms/step\n",
            "1/1 [==============================] - 0s 22ms/step\n",
            "3500/3500 [==============================] - 4s 1ms/step\n",
            "1/1 [==============================] - 0s 21ms/step\n",
            "3500/3500 [==============================] - 4s 1ms/step\n",
            "1/1 [==============================] - 0s 23ms/step\n",
            "3500/3500 [==============================] - 4s 1ms/step\n",
            "1/1 [==============================] - 0s 21ms/step\n",
            "3500/3500 [==============================] - 4s 1ms/step\n",
            "1/1 [==============================] - 0s 22ms/step\n",
            "3500/3500 [==============================] - 4s 1ms/step\n",
            "1/1 [==============================] - 0s 20ms/step\n",
            "3500/3500 [==============================] - 4s 1ms/step\n",
            "1/1 [==============================] - 0s 21ms/step\n",
            "3500/3500 [==============================] - 4s 1ms/step\n",
            "1/1 [==============================] - 0s 22ms/step\n",
            "3500/3500 [==============================] - 4s 1ms/step\n",
            "1/1 [==============================] - 0s 21ms/step\n",
            "3500/3500 [==============================] - 4s 1ms/step\n",
            "1/1 [==============================] - 0s 23ms/step\n",
            "3500/3500 [==============================] - 4s 1ms/step\n",
            "1/1 [==============================] - 0s 22ms/step\n",
            "3500/3500 [==============================] - 4s 1ms/step\n",
            "1/1 [==============================] - 0s 21ms/step\n",
            "3500/3500 [==============================] - 4s 1ms/step\n",
            "1/1 [==============================] - 0s 21ms/step\n",
            "3500/3500 [==============================] - 4s 1ms/step\n",
            "1/1 [==============================] - 0s 21ms/step\n",
            "3500/3500 [==============================] - 4s 1ms/step\n",
            "1/1 [==============================] - 0s 21ms/step\n",
            "3500/3500 [==============================] - 4s 1ms/step\n",
            "1/1 [==============================] - 0s 21ms/step\n",
            "3500/3500 [==============================] - 4s 1ms/step\n",
            "1/1 [==============================] - 0s 22ms/step\n",
            "3500/3500 [==============================] - 4s 1ms/step\n",
            "1/1 [==============================] - 0s 23ms/step\n",
            "3500/3500 [==============================] - 4s 1ms/step\n",
            "1/1 [==============================] - 0s 21ms/step\n",
            "3500/3500 [==============================] - 4s 1ms/step\n",
            "1/1 [==============================] - 0s 21ms/step\n",
            "3500/3500 [==============================] - 4s 1ms/step\n",
            "1/1 [==============================] - 0s 20ms/step\n",
            "3500/3500 [==============================] - 4s 1ms/step\n",
            "1/1 [==============================] - 0s 22ms/step\n",
            "3500/3500 [==============================] - 4s 1ms/step\n",
            "1/1 [==============================] - 0s 21ms/step\n",
            "3500/3500 [==============================] - 4s 1ms/step\n",
            "1/1 [==============================] - 0s 21ms/step\n",
            "3500/3500 [==============================] - 4s 1ms/step\n",
            "1/1 [==============================] - 0s 21ms/step\n",
            "3500/3500 [==============================] - 4s 1ms/step\n",
            "1/1 [==============================] - 0s 21ms/step\n",
            "3500/3500 [==============================] - 4s 1ms/step\n",
            "1/1 [==============================] - 0s 23ms/step\n",
            "3500/3500 [==============================] - 4s 1ms/step\n",
            "1/1 [==============================] - 0s 23ms/step\n",
            "3500/3500 [==============================] - 4s 1ms/step\n",
            "1/1 [==============================] - 0s 26ms/step\n",
            "3500/3500 [==============================] - 4s 1ms/step\n",
            "1/1 [==============================] - 0s 23ms/step\n",
            "3500/3500 [==============================] - 4s 1ms/step\n",
            "1/1 [==============================] - 0s 22ms/step\n",
            "3500/3500 [==============================] - 4s 1ms/step\n",
            "1/1 [==============================] - 0s 22ms/step\n",
            "3500/3500 [==============================] - 4s 1ms/step\n",
            "1/1 [==============================] - 0s 23ms/step\n",
            "3500/3500 [==============================] - 4s 1ms/step\n",
            "1/1 [==============================] - 0s 22ms/step\n",
            "3500/3500 [==============================] - 4s 1ms/step\n",
            "1/1 [==============================] - 0s 22ms/step\n",
            "3500/3500 [==============================] - 4s 1ms/step\n",
            "1/1 [==============================] - 0s 21ms/step\n",
            "3500/3500 [==============================] - 4s 1ms/step\n",
            "1/1 [==============================] - 0s 22ms/step\n",
            "3500/3500 [==============================] - 4s 1ms/step\n",
            "1/1 [==============================] - 0s 22ms/step\n",
            "3500/3500 [==============================] - 4s 1ms/step\n",
            "1/1 [==============================] - 0s 21ms/step\n",
            "3500/3500 [==============================] - 4s 1ms/step\n",
            "1/1 [==============================] - 0s 24ms/step\n",
            "3500/3500 [==============================] - 5s 1ms/step\n",
            "1/1 [==============================] - 0s 21ms/step\n",
            "3500/3500 [==============================] - 4s 1ms/step\n",
            "1/1 [==============================] - 0s 21ms/step\n",
            "3500/3500 [==============================] - 4s 1ms/step\n",
            "1/1 [==============================] - 0s 21ms/step\n",
            "3500/3500 [==============================] - 4s 1ms/step\n",
            "1/1 [==============================] - 0s 22ms/step\n",
            "3500/3500 [==============================] - 4s 1ms/step\n",
            "1/1 [==============================] - 0s 22ms/step\n",
            "3500/3500 [==============================] - 4s 1ms/step\n",
            "1/1 [==============================] - 0s 23ms/step\n",
            "3500/3500 [==============================] - 4s 1ms/step\n",
            "1/1 [==============================] - 0s 21ms/step\n",
            "3500/3500 [==============================] - 4s 1ms/step\n",
            "1/1 [==============================] - 0s 21ms/step\n",
            "3500/3500 [==============================] - 4s 1ms/step\n",
            "1/1 [==============================] - 0s 21ms/step\n",
            "3500/3500 [==============================] - 4s 1ms/step\n",
            "1/1 [==============================] - 0s 21ms/step\n",
            "3500/3500 [==============================] - 4s 1ms/step\n",
            "1/1 [==============================] - 0s 21ms/step\n",
            "3500/3500 [==============================] - 4s 1ms/step\n",
            "1/1 [==============================] - 0s 21ms/step\n",
            "3504/3504 [==============================] - 4s 1ms/step\n",
            "1/1 [==============================] - 0s 21ms/step\n",
            "3500/3500 [==============================] - 4s 1ms/step\n",
            "1/1 [==============================] - 0s 22ms/step\n",
            "3500/3500 [==============================] - 4s 1ms/step\n",
            "1/1 [==============================] - 0s 24ms/step\n",
            "3500/3500 [==============================] - 4s 1ms/step\n",
            "1/1 [==============================] - 0s 22ms/step\n",
            "3500/3500 [==============================] - 4s 1ms/step\n",
            "1/1 [==============================] - 0s 22ms/step\n",
            "3500/3500 [==============================] - 4s 1ms/step\n",
            "1/1 [==============================] - 0s 22ms/step\n",
            "3500/3500 [==============================] - 4s 1ms/step\n",
            "1/1 [==============================] - 0s 23ms/step\n",
            "3500/3500 [==============================] - 4s 1ms/step\n",
            "1/1 [==============================] - 0s 21ms/step\n",
            "3500/3500 [==============================] - 4s 1ms/step\n",
            "1/1 [==============================] - 0s 22ms/step\n",
            "3500/3500 [==============================] - 4s 1ms/step\n",
            "1/1 [==============================] - 0s 21ms/step\n",
            "3500/3500 [==============================] - 4s 1ms/step\n",
            "1/1 [==============================] - 0s 22ms/step\n",
            "3500/3500 [==============================] - 4s 1ms/step\n",
            "1/1 [==============================] - 0s 22ms/step\n",
            "3500/3500 [==============================] - 4s 1ms/step\n",
            "1/1 [==============================] - 0s 21ms/step\n",
            "3500/3500 [==============================] - 4s 1ms/step\n",
            "1/1 [==============================] - 0s 21ms/step\n",
            "3500/3500 [==============================] - 4s 1ms/step\n",
            "1/1 [==============================] - 0s 21ms/step\n",
            "3500/3500 [==============================] - 4s 1ms/step\n",
            "1/1 [==============================] - 0s 23ms/step\n",
            "3500/3500 [==============================] - 4s 1ms/step\n",
            "1/1 [==============================] - 0s 24ms/step\n",
            "3500/3500 [==============================] - 4s 1ms/step\n",
            "1/1 [==============================] - 0s 27ms/step\n",
            "3500/3500 [==============================] - 4s 1ms/step\n",
            "1/1 [==============================] - 0s 23ms/step\n",
            "3500/3500 [==============================] - 4s 1ms/step\n",
            "1/1 [==============================] - 0s 24ms/step\n",
            "3500/3500 [==============================] - 4s 1ms/step\n",
            "1/1 [==============================] - 0s 25ms/step\n",
            "3500/3500 [==============================] - 4s 1ms/step\n",
            "1/1 [==============================] - 0s 23ms/step\n",
            "3500/3500 [==============================] - 4s 1ms/step\n",
            "1/1 [==============================] - 0s 24ms/step\n",
            "3500/3500 [==============================] - 4s 1ms/step\n",
            "1/1 [==============================] - 0s 21ms/step\n",
            "3500/3500 [==============================] - 4s 1ms/step\n",
            "1/1 [==============================] - 0s 21ms/step\n",
            "3500/3500 [==============================] - 4s 1ms/step\n",
            "1/1 [==============================] - 0s 21ms/step\n",
            "3500/3500 [==============================] - 4s 1ms/step\n",
            "1/1 [==============================] - 0s 21ms/step\n",
            "3500/3500 [==============================] - 4s 1ms/step\n",
            "1/1 [==============================] - 0s 22ms/step\n",
            "3500/3500 [==============================] - 4s 1ms/step\n",
            "1/1 [==============================] - 0s 22ms/step\n",
            "3500/3500 [==============================] - 4s 1ms/step\n",
            "1/1 [==============================] - 0s 23ms/step\n",
            "3500/3500 [==============================] - 4s 1ms/step\n",
            "1/1 [==============================] - 0s 22ms/step\n",
            "3500/3500 [==============================] - 4s 1ms/step\n",
            "1/1 [==============================] - 0s 22ms/step\n",
            "3500/3500 [==============================] - 4s 1ms/step\n",
            "1/1 [==============================] - 0s 22ms/step\n",
            "3500/3500 [==============================] - 4s 1ms/step\n",
            "1/1 [==============================] - 0s 21ms/step\n",
            "3500/3500 [==============================] - 4s 1ms/step\n",
            "1/1 [==============================] - 0s 22ms/step\n",
            "3500/3500 [==============================] - 4s 1ms/step\n",
            "1/1 [==============================] - 0s 21ms/step\n",
            "3504/3504 [==============================] - 4s 1ms/step\n",
            "1/1 [==============================] - 0s 21ms/step\n",
            "3500/3500 [==============================] - 4s 1ms/step\n",
            "1/1 [==============================] - 0s 21ms/step\n",
            "3500/3500 [==============================] - 4s 1ms/step\n",
            "1/1 [==============================] - 0s 21ms/step\n",
            "3500/3500 [==============================] - 4s 1ms/step\n",
            "1/1 [==============================] - 0s 23ms/step\n",
            "3500/3500 [==============================] - 4s 1ms/step\n",
            "1/1 [==============================] - 0s 21ms/step\n",
            "3500/3500 [==============================] - 4s 1ms/step\n",
            "1/1 [==============================] - 0s 21ms/step\n",
            "3500/3500 [==============================] - 4s 1ms/step\n",
            "1/1 [==============================] - 0s 23ms/step\n",
            "3500/3500 [==============================] - 4s 1ms/step\n",
            "1/1 [==============================] - 0s 21ms/step\n",
            "3500/3500 [==============================] - 4s 1ms/step\n",
            "1/1 [==============================] - 0s 21ms/step\n",
            "3500/3500 [==============================] - 4s 1ms/step\n",
            "1/1 [==============================] - 0s 22ms/step\n",
            "3500/3500 [==============================] - 4s 1ms/step\n",
            "1/1 [==============================] - 0s 21ms/step\n",
            "3500/3500 [==============================] - 4s 1ms/step\n",
            "1/1 [==============================] - 0s 24ms/step\n",
            "3500/3500 [==============================] - 4s 1ms/step\n",
            "1/1 [==============================] - 0s 23ms/step\n",
            "3500/3500 [==============================] - 4s 1ms/step\n",
            "1/1 [==============================] - 0s 22ms/step\n",
            "3500/3500 [==============================] - 4s 1ms/step\n",
            "1/1 [==============================] - 0s 21ms/step\n",
            "3500/3500 [==============================] - 4s 1ms/step\n",
            "1/1 [==============================] - 0s 23ms/step\n",
            "3500/3500 [==============================] - 4s 1ms/step\n",
            "1/1 [==============================] - 0s 22ms/step\n",
            "3500/3500 [==============================] - 4s 1ms/step\n",
            "1/1 [==============================] - 0s 22ms/step\n",
            "3500/3500 [==============================] - 4s 1ms/step\n",
            "1/1 [==============================] - 0s 23ms/step\n",
            "3500/3500 [==============================] - 4s 1ms/step\n",
            "1/1 [==============================] - 0s 21ms/step\n",
            "3500/3500 [==============================] - 5s 1ms/step\n",
            "1/1 [==============================] - 0s 24ms/step\n",
            "3500/3500 [==============================] - 4s 1ms/step\n",
            "1/1 [==============================] - 0s 23ms/step\n",
            "3500/3500 [==============================] - 4s 1ms/step\n",
            "1/1 [==============================] - 0s 23ms/step\n",
            "3500/3500 [==============================] - 4s 1ms/step\n",
            "1/1 [==============================] - 0s 26ms/step\n",
            "3500/3500 [==============================] - 4s 1ms/step\n",
            "1/1 [==============================] - 0s 23ms/step\n",
            "3500/3500 [==============================] - 4s 1ms/step\n",
            "1/1 [==============================] - 0s 22ms/step\n",
            "3500/3500 [==============================] - 4s 1ms/step\n",
            "1/1 [==============================] - 0s 21ms/step\n",
            "3500/3500 [==============================] - 4s 1ms/step\n",
            "1/1 [==============================] - 0s 21ms/step\n",
            "3500/3500 [==============================] - 4s 1ms/step\n",
            "1/1 [==============================] - 0s 22ms/step\n",
            "3500/3500 [==============================] - 4s 1ms/step\n",
            "1/1 [==============================] - 0s 22ms/step\n",
            "3500/3500 [==============================] - 4s 1ms/step\n",
            "1/1 [==============================] - 0s 23ms/step\n",
            "3500/3500 [==============================] - 4s 1ms/step\n",
            "1/1 [==============================] - 0s 22ms/step\n",
            "3500/3500 [==============================] - 4s 1ms/step\n",
            "1/1 [==============================] - 0s 21ms/step\n",
            "3500/3500 [==============================] - 4s 1ms/step\n",
            "1/1 [==============================] - 0s 21ms/step\n",
            "3500/3500 [==============================] - 4s 1ms/step\n",
            "1/1 [==============================] - 0s 21ms/step\n",
            "3500/3500 [==============================] - 4s 1ms/step\n",
            "1/1 [==============================] - 0s 22ms/step\n",
            "3500/3500 [==============================] - 4s 1ms/step\n",
            "1/1 [==============================] - 0s 21ms/step\n",
            "3500/3500 [==============================] - 4s 1ms/step\n",
            "1/1 [==============================] - 0s 21ms/step\n",
            "3500/3500 [==============================] - 4s 1ms/step\n",
            "1/1 [==============================] - 0s 23ms/step\n",
            "3500/3500 [==============================] - 4s 1ms/step\n",
            "1/1 [==============================] - 0s 21ms/step\n",
            "3500/3500 [==============================] - 4s 1ms/step\n",
            "1/1 [==============================] - 0s 22ms/step\n",
            "3500/3500 [==============================] - 4s 1ms/step\n",
            "1/1 [==============================] - 0s 21ms/step\n",
            "3500/3500 [==============================] - 4s 1ms/step\n",
            "1/1 [==============================] - 0s 21ms/step\n",
            "3500/3500 [==============================] - 4s 1ms/step\n",
            "1/1 [==============================] - 0s 21ms/step\n",
            "3504/3504 [==============================] - 4s 1ms/step\n",
            "1/1 [==============================] - 0s 21ms/step\n",
            "3500/3500 [==============================] - 4s 1ms/step\n",
            "1/1 [==============================] - 0s 22ms/step\n",
            "3500/3500 [==============================] - 4s 1ms/step\n",
            "1/1 [==============================] - 0s 23ms/step\n",
            "3500/3500 [==============================] - 4s 1ms/step\n",
            "1/1 [==============================] - 0s 23ms/step\n",
            "3500/3500 [==============================] - 4s 1ms/step\n",
            "1/1 [==============================] - 0s 23ms/step\n",
            "3500/3500 [==============================] - 4s 1ms/step\n",
            "1/1 [==============================] - 0s 22ms/step\n",
            "3500/3500 [==============================] - 4s 1ms/step\n",
            "1/1 [==============================] - 0s 22ms/step\n",
            "3500/3500 [==============================] - 4s 1ms/step\n",
            "1/1 [==============================] - 0s 22ms/step\n",
            "3500/3500 [==============================] - 4s 1ms/step\n",
            "1/1 [==============================] - 0s 23ms/step\n",
            "3500/3500 [==============================] - 4s 1ms/step\n",
            "1/1 [==============================] - 0s 21ms/step\n",
            "3500/3500 [==============================] - 4s 1ms/step\n",
            "1/1 [==============================] - 0s 21ms/step\n",
            "3500/3500 [==============================] - 4s 1ms/step\n",
            "1/1 [==============================] - 0s 22ms/step\n",
            "3500/3500 [==============================] - 4s 1ms/step\n",
            "1/1 [==============================] - 0s 21ms/step\n",
            "3504/3504 [==============================] - 4s 1ms/step\n",
            "1/1 [==============================] - 0s 24ms/step\n",
            "3500/3500 [==============================] - 4s 1ms/step\n",
            "1/1 [==============================] - 0s 26ms/step\n",
            "3500/3500 [==============================] - 4s 1ms/step\n",
            "1/1 [==============================] - 0s 23ms/step\n",
            "3500/3500 [==============================] - 4s 1ms/step\n",
            "1/1 [==============================] - 0s 23ms/step\n",
            "3500/3500 [==============================] - 4s 1ms/step\n",
            "1/1 [==============================] - 0s 22ms/step\n",
            "3500/3500 [==============================] - 4s 1ms/step\n",
            "1/1 [==============================] - 0s 22ms/step\n",
            "3500/3500 [==============================] - 4s 1ms/step\n",
            "1/1 [==============================] - 0s 23ms/step\n",
            "3500/3500 [==============================] - 4s 1ms/step\n",
            "1/1 [==============================] - 0s 21ms/step\n",
            "3500/3500 [==============================] - 4s 1ms/step\n",
            "1/1 [==============================] - 0s 24ms/step\n",
            "3500/3500 [==============================] - 4s 1ms/step\n",
            "1/1 [==============================] - 0s 22ms/step\n",
            "3500/3500 [==============================] - 4s 1ms/step\n",
            "1/1 [==============================] - 0s 21ms/step\n",
            "3500/3500 [==============================] - 4s 1ms/step\n",
            "1/1 [==============================] - 0s 22ms/step\n",
            "3500/3500 [==============================] - 4s 1ms/step\n",
            "1/1 [==============================] - 0s 21ms/step\n",
            "3500/3500 [==============================] - 4s 1ms/step\n",
            "1/1 [==============================] - 0s 21ms/step\n",
            "3500/3500 [==============================] - 4s 1ms/step\n",
            "1/1 [==============================] - 0s 22ms/step\n",
            "3500/3500 [==============================] - 4s 1ms/step\n",
            "1/1 [==============================] - 0s 21ms/step\n",
            "3500/3500 [==============================] - 4s 1ms/step\n",
            "1/1 [==============================] - 0s 20ms/step\n",
            "3500/3500 [==============================] - 4s 1ms/step\n",
            "1/1 [==============================] - 0s 22ms/step\n",
            "3500/3500 [==============================] - 4s 1ms/step\n",
            "1/1 [==============================] - 0s 20ms/step\n",
            "3500/3500 [==============================] - 4s 1ms/step\n",
            "1/1 [==============================] - 0s 21ms/step\n",
            "3500/3500 [==============================] - 4s 1ms/step\n",
            "1/1 [==============================] - 0s 22ms/step\n",
            "3500/3500 [==============================] - 4s 1ms/step\n",
            "1/1 [==============================] - 0s 21ms/step\n",
            "3500/3500 [==============================] - 4s 1ms/step\n",
            "1/1 [==============================] - 0s 21ms/step\n",
            "3500/3500 [==============================] - 4s 1ms/step\n",
            "1/1 [==============================] - 0s 21ms/step\n",
            "3500/3500 [==============================] - 4s 1ms/step\n",
            "1/1 [==============================] - 0s 21ms/step\n",
            "3500/3500 [==============================] - 4s 1ms/step\n",
            "1/1 [==============================] - 0s 21ms/step\n",
            "3500/3500 [==============================] - 4s 1ms/step\n",
            "1/1 [==============================] - 0s 20ms/step\n",
            "3500/3500 [==============================] - 4s 1ms/step\n",
            "1/1 [==============================] - 0s 21ms/step\n",
            "3500/3500 [==============================] - 4s 1ms/step\n",
            "1/1 [==============================] - 0s 20ms/step\n",
            "3500/3500 [==============================] - 4s 1ms/step\n",
            "1/1 [==============================] - 0s 21ms/step\n",
            "3500/3500 [==============================] - 4s 1ms/step\n",
            "1/1 [==============================] - 0s 25ms/step\n",
            "3500/3500 [==============================] - 4s 1ms/step\n",
            "1/1 [==============================] - 0s 22ms/step\n",
            "3500/3500 [==============================] - 4s 1ms/step\n",
            "1/1 [==============================] - 0s 22ms/step\n",
            "3500/3500 [==============================] - 4s 1ms/step\n",
            "1/1 [==============================] - 0s 22ms/step\n",
            "3500/3500 [==============================] - 4s 1ms/step\n",
            "1/1 [==============================] - 0s 22ms/step\n",
            "3500/3500 [==============================] - 4s 1ms/step\n",
            "1/1 [==============================] - 0s 21ms/step\n",
            "3500/3500 [==============================] - 4s 1ms/step\n",
            "1/1 [==============================] - 0s 22ms/step\n",
            "3500/3500 [==============================] - 4s 1ms/step\n",
            "1/1 [==============================] - 0s 21ms/step\n",
            "3500/3500 [==============================] - 4s 1ms/step\n",
            "1/1 [==============================] - 0s 21ms/step\n",
            "3500/3500 [==============================] - 4s 1ms/step\n",
            "1/1 [==============================] - 0s 20ms/step\n",
            "3500/3500 [==============================] - 4s 1ms/step\n",
            "1/1 [==============================] - 0s 22ms/step\n",
            "3500/3500 [==============================] - 4s 1ms/step\n",
            "1/1 [==============================] - 0s 25ms/step\n",
            "3500/3500 [==============================] - 4s 1ms/step\n",
            "1/1 [==============================] - 0s 22ms/step\n",
            "3500/3500 [==============================] - 4s 1ms/step\n",
            "1/1 [==============================] - 0s 24ms/step\n",
            "3500/3500 [==============================] - 4s 1ms/step\n",
            "1/1 [==============================] - 0s 22ms/step\n",
            "3500/3500 [==============================] - 4s 1ms/step\n",
            "1/1 [==============================] - 0s 22ms/step\n",
            "3500/3500 [==============================] - 4s 1ms/step\n",
            "1/1 [==============================] - 0s 21ms/step\n",
            "3500/3500 [==============================] - 4s 1ms/step\n",
            "1/1 [==============================] - 0s 22ms/step\n",
            "3500/3500 [==============================] - 4s 1ms/step\n",
            "1/1 [==============================] - 0s 21ms/step\n",
            "3500/3500 [==============================] - 4s 1ms/step\n",
            "1/1 [==============================] - 0s 22ms/step\n",
            "3500/3500 [==============================] - 4s 1ms/step\n",
            "1/1 [==============================] - 0s 21ms/step\n",
            "3500/3500 [==============================] - 4s 1ms/step\n",
            "1/1 [==============================] - 0s 23ms/step\n",
            "3500/3500 [==============================] - 4s 1ms/step\n",
            "1/1 [==============================] - 0s 21ms/step\n",
            "3500/3500 [==============================] - 4s 1ms/step\n",
            "1/1 [==============================] - 0s 22ms/step\n",
            "3500/3500 [==============================] - 4s 1ms/step\n",
            "1/1 [==============================] - 0s 21ms/step\n",
            "3500/3500 [==============================] - 4s 1ms/step\n",
            "1/1 [==============================] - 0s 20ms/step\n",
            "3500/3500 [==============================] - 4s 1ms/step\n",
            "1/1 [==============================] - 0s 21ms/step\n",
            "3500/3500 [==============================] - 4s 1ms/step\n",
            "1/1 [==============================] - 0s 20ms/step\n",
            "3500/3500 [==============================] - 4s 1ms/step\n",
            "1/1 [==============================] - 0s 23ms/step\n",
            "3500/3500 [==============================] - 4s 1ms/step\n",
            "1/1 [==============================] - 0s 22ms/step\n",
            "3500/3500 [==============================] - 4s 1ms/step\n",
            "1/1 [==============================] - 0s 21ms/step\n",
            "3500/3500 [==============================] - 4s 1ms/step\n",
            "1/1 [==============================] - 0s 20ms/step\n",
            "3500/3500 [==============================] - 4s 1ms/step\n",
            "1/1 [==============================] - 0s 21ms/step\n",
            "3500/3500 [==============================] - 4s 1ms/step\n",
            "1/1 [==============================] - 0s 21ms/step\n",
            "3500/3500 [==============================] - 4s 1ms/step\n",
            "1/1 [==============================] - 0s 21ms/step\n",
            "3500/3500 [==============================] - 4s 1ms/step\n",
            "1/1 [==============================] - 0s 21ms/step\n",
            "3500/3500 [==============================] - 4s 1ms/step\n",
            "1/1 [==============================] - 0s 21ms/step\n",
            "3500/3500 [==============================] - 4s 1ms/step\n",
            "1/1 [==============================] - 0s 21ms/step\n",
            "3500/3500 [==============================] - 4s 1ms/step\n",
            "1/1 [==============================] - 0s 23ms/step\n",
            "3500/3500 [==============================] - 4s 1ms/step\n",
            "1/1 [==============================] - 0s 20ms/step\n",
            "3500/3500 [==============================] - 4s 1ms/step\n",
            "1/1 [==============================] - 0s 23ms/step\n",
            "3500/3500 [==============================] - 4s 1ms/step\n",
            "1/1 [==============================] - 0s 21ms/step\n",
            "3500/3500 [==============================] - 4s 1ms/step\n",
            "1/1 [==============================] - 0s 20ms/step\n",
            "3500/3500 [==============================] - 4s 1ms/step\n",
            "1/1 [==============================] - 0s 21ms/step\n",
            "3500/3500 [==============================] - 4s 1ms/step\n",
            "1/1 [==============================] - 0s 21ms/step\n",
            "3500/3500 [==============================] - 4s 1ms/step\n",
            "1/1 [==============================] - 0s 21ms/step\n",
            "3500/3500 [==============================] - 4s 1ms/step\n",
            "1/1 [==============================] - 0s 21ms/step\n",
            "3500/3500 [==============================] - 4s 1ms/step\n",
            "1/1 [==============================] - 0s 22ms/step\n",
            "3500/3500 [==============================] - 4s 1ms/step\n",
            "1/1 [==============================] - 0s 23ms/step\n",
            "3500/3500 [==============================] - 4s 1ms/step\n",
            "1/1 [==============================] - 0s 21ms/step\n",
            "3500/3500 [==============================] - 5s 1ms/step\n",
            "1/1 [==============================] - 0s 24ms/step\n",
            "3500/3500 [==============================] - 4s 1ms/step\n",
            "1/1 [==============================] - 0s 23ms/step\n",
            "3500/3500 [==============================] - 4s 1ms/step\n",
            "1/1 [==============================] - 0s 25ms/step\n",
            "3500/3500 [==============================] - 4s 1ms/step\n",
            "1/1 [==============================] - 0s 22ms/step\n",
            "3500/3500 [==============================] - 4s 1ms/step\n",
            "1/1 [==============================] - 0s 21ms/step\n",
            "3500/3500 [==============================] - 4s 1ms/step\n",
            "1/1 [==============================] - 0s 22ms/step\n",
            "3500/3500 [==============================] - 4s 1ms/step\n",
            "1/1 [==============================] - 0s 21ms/step\n",
            "3500/3500 [==============================] - 4s 1ms/step\n",
            "1/1 [==============================] - 0s 21ms/step\n",
            "3500/3500 [==============================] - 4s 1ms/step\n",
            "1/1 [==============================] - 0s 20ms/step\n",
            "3500/3500 [==============================] - 4s 1ms/step\n",
            "1/1 [==============================] - 0s 21ms/step\n",
            "3500/3500 [==============================] - 4s 1ms/step\n",
            "1/1 [==============================] - 0s 21ms/step\n",
            "3500/3500 [==============================] - 4s 1ms/step\n",
            "1/1 [==============================] - 0s 21ms/step\n",
            "3500/3500 [==============================] - 4s 1ms/step\n",
            "1/1 [==============================] - 0s 23ms/step\n",
            "3500/3500 [==============================] - 4s 1ms/step\n",
            "1/1 [==============================] - 0s 22ms/step\n",
            "3504/3504 [==============================] - 4s 1ms/step\n",
            "1/1 [==============================] - 0s 21ms/step\n",
            "3500/3500 [==============================] - 4s 1ms/step\n",
            "1/1 [==============================] - 0s 22ms/step\n",
            "3500/3500 [==============================] - 4s 1ms/step\n",
            "1/1 [==============================] - 0s 21ms/step\n",
            "3500/3500 [==============================] - 4s 1ms/step\n",
            "1/1 [==============================] - 0s 21ms/step\n",
            "3500/3500 [==============================] - 4s 1ms/step\n",
            "1/1 [==============================] - 0s 21ms/step\n",
            "3500/3500 [==============================] - 4s 1ms/step\n",
            "1/1 [==============================] - 0s 20ms/step\n",
            "3500/3500 [==============================] - 4s 1ms/step\n",
            "1/1 [==============================] - 0s 20ms/step\n",
            "3500/3500 [==============================] - 4s 1ms/step\n",
            "1/1 [==============================] - 0s 21ms/step\n",
            "3500/3500 [==============================] - 4s 1ms/step\n",
            "1/1 [==============================] - 0s 21ms/step\n",
            "3500/3500 [==============================] - 4s 1ms/step\n",
            "1/1 [==============================] - 0s 21ms/step\n",
            "3500/3500 [==============================] - 4s 1ms/step\n",
            "1/1 [==============================] - 0s 21ms/step\n",
            "3500/3500 [==============================] - 4s 1ms/step\n",
            "1/1 [==============================] - 0s 21ms/step\n",
            "3500/3500 [==============================] - 4s 1ms/step\n",
            "1/1 [==============================] - 0s 22ms/step\n",
            "3500/3500 [==============================] - 4s 1ms/step\n",
            "1/1 [==============================] - 0s 21ms/step\n",
            "3500/3500 [==============================] - 4s 1ms/step\n",
            "1/1 [==============================] - 0s 21ms/step\n",
            "3500/3500 [==============================] - 4s 1ms/step\n",
            "1/1 [==============================] - 0s 25ms/step\n",
            "3500/3500 [==============================] - 5s 1ms/step\n",
            "1/1 [==============================] - 0s 23ms/step\n",
            "3500/3500 [==============================] - 4s 1ms/step\n",
            "1/1 [==============================] - 0s 20ms/step\n",
            "3500/3500 [==============================] - 4s 1ms/step\n",
            "1/1 [==============================] - 0s 23ms/step\n",
            "3500/3500 [==============================] - 4s 1ms/step\n",
            "1/1 [==============================] - 0s 22ms/step\n",
            "3500/3500 [==============================] - 4s 1ms/step\n",
            "1/1 [==============================] - 0s 21ms/step\n",
            "3500/3500 [==============================] - 4s 1ms/step\n"
          ]
        }
      ]
    },
    {
      "cell_type": "code",
      "source": [
        "# Show some results\n",
        "expected_value = explainer.expected_value"
      ],
      "metadata": {
        "id": "ULktrrnGhSiz"
      },
      "execution_count": null,
      "outputs": []
    },
    {
      "cell_type": "code",
      "source": [
        "# Visulize the feature importance\n",
        "shap.summary_plot(shap_values, X_train, plot_type=\"bar\")"
      ],
      "metadata": {
        "colab": {
          "base_uri": "https://localhost:8080/",
          "height": 957
        },
        "id": "o4TZrmSXme1d",
        "outputId": "16e901de-238d-4354-9d54-14067c5a2992"
      },
      "execution_count": null,
      "outputs": [
        {
          "output_type": "display_data",
          "data": {
            "text/plain": [
              "<Figure size 800x950 with 1 Axes>"
            ],
            "image/png": "[encoded data removed]"
          },
          "metadata": {}
        }
      ]
    }
  ]
}